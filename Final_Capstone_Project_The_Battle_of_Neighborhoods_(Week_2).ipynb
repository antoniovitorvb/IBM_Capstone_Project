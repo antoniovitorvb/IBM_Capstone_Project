{
  "nbformat": 4,
  "nbformat_minor": 0,
  "metadata": {
    "colab": {
      "name": "Final Capstone Project - The Battle of Neighborhoods (Week 2).ipynb",
      "provenance": [],
      "collapsed_sections": []
    },
    "kernelspec": {
      "name": "python3",
      "display_name": "Python 3"
    }
  },
  "cells": [
    {
      "cell_type": "markdown",
      "metadata": {
        "id": "B1jZJsTkdeo0"
      },
      "source": [
        "# IBM Data Science - Professional Certificate\n",
        "## Capstone Projects - Battle of Neighborhoods\n",
        "### Author: Vitor Villas Boas"
      ]
    },
    {
      "cell_type": "markdown",
      "metadata": {
        "id": "WxvecIB4DOMx"
      },
      "source": [
        "## Introduction/Business Problem\n",
        "\n",
        "So your vaccation is coming and you planned your trip to go São Paulo - Brazil. You're a big fan of coffee just like me! But You have never been to this city and wants to know which one is the best."
      ]
    },
    {
      "cell_type": "markdown",
      "metadata": {
        "id": "Xjg9y2vwDvKa"
      },
      "source": [
        "## Data\n",
        "\n",
        "The data used to analyze this problem will be found using the FourSquare location data to have access to the location and tips of the cafeterias in the city."
      ]
    },
    {
      "cell_type": "code",
      "metadata": {
        "colab": {
          "base_uri": "https://localhost:8080/"
        },
        "id": "3oxllgtfdJaF",
        "outputId": "2752eb92-bf2e-41bd-85a9-facc38fbc1d7"
      },
      "source": [
        "# -*- coding: utf-8 -*-\n",
        "\n",
        "import numpy as np # library to handle data in a vectorized manner\n",
        "import pandas as pd # library for data analsysis\n",
        "import json # library to handle JSON files\n",
        "from geopy.geocoders import Nominatim # convert an address into latitude and longitude values\n",
        "import requests # library to handle requests\n",
        "from pandas.io.json import json_normalize # tranform JSON file into a pandas dataframe\n",
        "from datetime import datetime\n",
        "\n",
        "# Matplotlib and associated plotting modules\n",
        "import matplotlib.cm as cm\n",
        "import matplotlib.colors as colors\n",
        "\n",
        "from sklearn.cluster import KMeans\n",
        "from geopy.geocoders import Nominatim # module to convert an address into latitude and longitude values\n",
        "import folium # map rendering library\n",
        "print('Libraries imported.')"
      ],
      "execution_count": 1,
      "outputs": [
        {
          "output_type": "stream",
          "text": [
            "Libraries imported.\n"
          ],
          "name": "stdout"
        }
      ]
    },
    {
      "cell_type": "code",
      "metadata": {
        "id": "Nj7gaVwugVwJ"
      },
      "source": [
        "CLIENT_ID = '' # your Foursquare ID\n",
        "CLIENT_SECRET = '' # your Foursquare Secret\n",
        "VERSION = datetime.today().strftime('%Y%m%d') # get today's version\n",
        "ACCESS_TOKEN = '' # your access token to user.id\n",
        "RADIUS = 20000\n",
        "LIMIT = 100"
      ],
      "execution_count": 2,
      "outputs": []
    },
    {
      "cell_type": "code",
      "metadata": {
        "colab": {
          "base_uri": "https://localhost:8080/"
        },
        "id": "G3D-yMF0F4sO",
        "outputId": "2dfe0995-93e0-4f3a-9596-656d11c58c77"
      },
      "source": [
        "address = 'Sao Paulo, SP'\n",
        "\n",
        "geolocator = Nominatim(user_agent=\"foursquare_agent\")\n",
        "location = geolocator.geocode(address)\n",
        "latitude = location.latitude\n",
        "longitude = location.longitude\n",
        "print(latitude, longitude)"
      ],
      "execution_count": 3,
      "outputs": [
        {
          "output_type": "stream",
          "text": [
            "-23.5506507 -46.6333824\n"
          ],
          "name": "stdout"
        }
      ]
    },
    {
      "cell_type": "markdown",
      "metadata": {
        "id": "OOgeR0jv9fFX"
      },
      "source": [
        "Studying the data"
      ]
    },
    {
      "cell_type": "code",
      "metadata": {
        "id": "8CoJHmtNfI_J"
      },
      "source": [
        "url_SP = \"https://api.foursquare.com/v2/venues/explore?client_id={}&client_secret={}&oauth_token={}&v={}&ll={},{}&radius={}&limit={}\".format(\n",
        "    CLIENT_ID,\n",
        "    CLIENT_SECRET,\n",
        "    ACCESS_TOKEN,\n",
        "    VERSION,\n",
        "    latitude, longitude,\n",
        "    RADIUS,\n",
        "    LIMIT)\n",
        "results = requests.get(url_SP).json()"
      ],
      "execution_count": 4,
      "outputs": []
    },
    {
      "cell_type": "code",
      "metadata": {
        "id": "3rkYzWjMhOzj"
      },
      "source": [
        "# function that extracts the category of the venue\n",
        "def get_category_type(row):\n",
        "    try:\n",
        "        categories_list = row['categories']\n",
        "    except:\n",
        "        categories_list = row['venue.categories']\n",
        "        \n",
        "    if len(categories_list) == 0:\n",
        "        return None\n",
        "    else:\n",
        "        return categories_list[0]['name']"
      ],
      "execution_count": 5,
      "outputs": []
    },
    {
      "cell_type": "code",
      "metadata": {
        "colab": {
          "base_uri": "https://localhost:8080/"
        },
        "id": "VYH-NI4UHDVJ",
        "outputId": "6e79b7ad-b61b-4a45-89e6-0e3bb2f86ffd"
      },
      "source": [
        "results['response']['groups'][0]['items'][0]"
      ],
      "execution_count": 6,
      "outputs": [
        {
          "output_type": "execute_result",
          "data": {
            "text/plain": [
              "{'reasons': {'count': 0,\n",
              "  'items': [{'reasonName': 'globalInteractionReason',\n",
              "    'summary': 'This spot is popular',\n",
              "    'type': 'general'}]},\n",
              " 'referralId': 'e-0-4b17eb00f964a520a1c923e3-0',\n",
              " 'venue': {'categories': [{'icon': {'prefix': 'https://ss3.4sqi.net/img/categories_v2/building/default_',\n",
              "     'suffix': '.png'},\n",
              "    'id': '52e81612bcbc57f1066b7a32',\n",
              "    'name': 'Cultural Center',\n",
              "    'pluralName': 'Cultural Centers',\n",
              "    'primary': True,\n",
              "    'shortName': 'Cultural Center'}],\n",
              "  'id': '4b17eb00f964a520a1c923e3',\n",
              "  'location': {'address': 'R. Álvares Penteado, 112',\n",
              "   'cc': 'BR',\n",
              "   'city': 'São Paulo',\n",
              "   'country': 'Brasil',\n",
              "   'crossStreet': 'R. Quitanda',\n",
              "   'distance': 365,\n",
              "   'formattedAddress': ['R. Álvares Penteado, 112 (R. Quitanda)',\n",
              "    'São Paulo, SP',\n",
              "    '01012-000'],\n",
              "   'labeledLatLngs': [{'label': 'display',\n",
              "     'lat': -23.547588190396358,\n",
              "     'lng': -46.6346831174672}],\n",
              "   'lat': -23.547588190396358,\n",
              "   'lng': -46.6346831174672,\n",
              "   'postalCode': '01012-000',\n",
              "   'state': 'SP'},\n",
              "  'name': 'Centro Cultural Banco do Brasil (CCBB)',\n",
              "  'photos': {'count': 0, 'groups': []}}}"
            ]
          },
          "metadata": {
            "tags": []
          },
          "execution_count": 6
        }
      ]
    },
    {
      "cell_type": "code",
      "metadata": {
        "colab": {
          "base_uri": "https://localhost:8080/",
          "height": 376
        },
        "id": "0Q6ADMWa2RSM",
        "outputId": "7216c1cc-f7ad-4f5b-a7f4-83adc7b1994c"
      },
      "source": [
        "venues = results['response']['groups'][0]['items']\n",
        "nearby_venues = pd.json_normalize(venues) # flatten JSON\n",
        "# nearby_venues.head()\n",
        "\n",
        "# filter columns\n",
        "filtered_columns = ['venue.id', 'venue.name', 'venue.categories', 'venue.location.lat', 'venue.location.lng']\n",
        "nearby_venues =nearby_venues.loc[:, filtered_columns]\n",
        "\n",
        "# filter the category for each row\n",
        "nearby_venues['venue.categories'] = nearby_venues.apply(get_category_type, axis=1)\n",
        "# clean columns\n",
        "nearby_venues.columns = [col.split(\".\")[-1] for col in nearby_venues.columns]\n",
        "\n",
        "print(nearby_venues.shape)\n",
        "nearby_venues.head(10)"
      ],
      "execution_count": 7,
      "outputs": [
        {
          "output_type": "stream",
          "text": [
            "(100, 5)\n"
          ],
          "name": "stdout"
        },
        {
          "output_type": "execute_result",
          "data": {
            "text/html": [
              "<div>\n",
              "<style scoped>\n",
              "    .dataframe tbody tr th:only-of-type {\n",
              "        vertical-align: middle;\n",
              "    }\n",
              "\n",
              "    .dataframe tbody tr th {\n",
              "        vertical-align: top;\n",
              "    }\n",
              "\n",
              "    .dataframe thead th {\n",
              "        text-align: right;\n",
              "    }\n",
              "</style>\n",
              "<table border=\"1\" class=\"dataframe\">\n",
              "  <thead>\n",
              "    <tr style=\"text-align: right;\">\n",
              "      <th></th>\n",
              "      <th>id</th>\n",
              "      <th>name</th>\n",
              "      <th>categories</th>\n",
              "      <th>lat</th>\n",
              "      <th>lng</th>\n",
              "    </tr>\n",
              "  </thead>\n",
              "  <tbody>\n",
              "    <tr>\n",
              "      <th>0</th>\n",
              "      <td>4b17eb00f964a520a1c923e3</td>\n",
              "      <td>Centro Cultural Banco do Brasil (CCBB)</td>\n",
              "      <td>Cultural Center</td>\n",
              "      <td>-23.547588</td>\n",
              "      <td>-46.634683</td>\n",
              "    </tr>\n",
              "    <tr>\n",
              "      <th>1</th>\n",
              "      <td>573dab3f498e4e0d56c67f4e</td>\n",
              "      <td>Casa de Francisca</td>\n",
              "      <td>Music Venue</td>\n",
              "      <td>-23.548733</td>\n",
              "      <td>-46.634763</td>\n",
              "    </tr>\n",
              "    <tr>\n",
              "      <th>2</th>\n",
              "      <td>4bdafa28c79cc928177a80e9</td>\n",
              "      <td>Theatro Municipal de São Paulo</td>\n",
              "      <td>Theater</td>\n",
              "      <td>-23.545477</td>\n",
              "      <td>-46.638812</td>\n",
              "    </tr>\n",
              "    <tr>\n",
              "      <th>3</th>\n",
              "      <td>4b09acf9f964a520701b23e3</td>\n",
              "      <td>Teatro Renault</td>\n",
              "      <td>Theater</td>\n",
              "      <td>-23.554120</td>\n",
              "      <td>-46.638695</td>\n",
              "    </tr>\n",
              "    <tr>\n",
              "      <th>4</th>\n",
              "      <td>4b05bc5ef964a520fee122e3</td>\n",
              "      <td>Mercado Municipal Paulistano</td>\n",
              "      <td>Market</td>\n",
              "      <td>-23.541673</td>\n",
              "      <td>-46.629742</td>\n",
              "    </tr>\n",
              "    <tr>\n",
              "      <th>5</th>\n",
              "      <td>58f278f8e65d0c4b18f857f0</td>\n",
              "      <td>Kenzo Sushi</td>\n",
              "      <td>Sushi Restaurant</td>\n",
              "      <td>-23.557705</td>\n",
              "      <td>-46.636036</td>\n",
              "    </tr>\n",
              "    <tr>\n",
              "      <th>6</th>\n",
              "      <td>4ec7c74261af9e14300f3b60</td>\n",
              "      <td>Hachi Crepe e Café</td>\n",
              "      <td>Creperie</td>\n",
              "      <td>-23.560826</td>\n",
              "      <td>-46.634951</td>\n",
              "    </tr>\n",
              "    <tr>\n",
              "      <th>7</th>\n",
              "      <td>54ac1385498e545686d23f88</td>\n",
              "      <td>Por um Punhado de Dólares</td>\n",
              "      <td>Coffee Shop</td>\n",
              "      <td>-23.548488</td>\n",
              "      <td>-46.645305</td>\n",
              "    </tr>\n",
              "    <tr>\n",
              "      <th>8</th>\n",
              "      <td>560ee563498e447aba686327</td>\n",
              "      <td>A Casa do Porco</td>\n",
              "      <td>Brazilian Restaurant</td>\n",
              "      <td>-23.544887</td>\n",
              "      <td>-46.644622</td>\n",
              "    </tr>\n",
              "    <tr>\n",
              "      <th>9</th>\n",
              "      <td>4b0588c7f964a520e8d922e3</td>\n",
              "      <td>Pinacoteca do Estado de São Paulo</td>\n",
              "      <td>Art Museum</td>\n",
              "      <td>-23.534735</td>\n",
              "      <td>-46.634001</td>\n",
              "    </tr>\n",
              "  </tbody>\n",
              "</table>\n",
              "</div>"
            ],
            "text/plain": [
              "                         id  ...        lng\n",
              "0  4b17eb00f964a520a1c923e3  ... -46.634683\n",
              "1  573dab3f498e4e0d56c67f4e  ... -46.634763\n",
              "2  4bdafa28c79cc928177a80e9  ... -46.638812\n",
              "3  4b09acf9f964a520701b23e3  ... -46.638695\n",
              "4  4b05bc5ef964a520fee122e3  ... -46.629742\n",
              "5  58f278f8e65d0c4b18f857f0  ... -46.636036\n",
              "6  4ec7c74261af9e14300f3b60  ... -46.634951\n",
              "7  54ac1385498e545686d23f88  ... -46.645305\n",
              "8  560ee563498e447aba686327  ... -46.644622\n",
              "9  4b0588c7f964a520e8d922e3  ... -46.634001\n",
              "\n",
              "[10 rows x 5 columns]"
            ]
          },
          "metadata": {
            "tags": []
          },
          "execution_count": 7
        }
      ]
    },
    {
      "cell_type": "markdown",
      "metadata": {
        "id": "c2gvSsfOCob_"
      },
      "source": [
        "## Filtering search for Cafeterias in São Paulo\n",
        "\n",
        "Here I used the API to return only the restaurants that has 'Café' on its name"
      ]
    },
    {
      "cell_type": "code",
      "metadata": {
        "id": "Th0Yawb9ikoq"
      },
      "source": [
        "QUERY = ['Café']\n",
        "CATEGORYID = 'bf58dd8d48988d1e0931735' # Coffee Shops ID\n",
        "\n",
        "url_SP = \"https://api.foursquare.com/v2/venues/search?client_id={}&client_secret={}&oauth_token={}&v={}&ll={},{}&query={}&radius={}&limit={}\".format(\n",
        "    CLIENT_ID,\n",
        "    CLIENT_SECRET,\n",
        "    ACCESS_TOKEN,\n",
        "    VERSION,\n",
        "    latitude,\n",
        "    longitude,\n",
        "    QUERY,\n",
        "    RADIUS,\n",
        "    LIMIT)\n",
        "Coffee_results = requests.get(url_SP).json()"
      ],
      "execution_count": 8,
      "outputs": []
    },
    {
      "cell_type": "code",
      "metadata": {
        "colab": {
          "base_uri": "https://localhost:8080/",
          "height": 428
        },
        "id": "gnE-Fu3m_NTo",
        "outputId": "deabf2b1-e55e-46fe-9c49-1364537785bb"
      },
      "source": [
        "coffee_venues = Coffee_results['response']['venues']\n",
        "coffee_df = pd.json_normalize(coffee_venues)\n",
        "coffee_df.head()"
      ],
      "execution_count": 9,
      "outputs": [
        {
          "output_type": "execute_result",
          "data": {
            "text/html": [
              "<div>\n",
              "<style scoped>\n",
              "    .dataframe tbody tr th:only-of-type {\n",
              "        vertical-align: middle;\n",
              "    }\n",
              "\n",
              "    .dataframe tbody tr th {\n",
              "        vertical-align: top;\n",
              "    }\n",
              "\n",
              "    .dataframe thead th {\n",
              "        text-align: right;\n",
              "    }\n",
              "</style>\n",
              "<table border=\"1\" class=\"dataframe\">\n",
              "  <thead>\n",
              "    <tr style=\"text-align: right;\">\n",
              "      <th></th>\n",
              "      <th>id</th>\n",
              "      <th>name</th>\n",
              "      <th>categories</th>\n",
              "      <th>referralId</th>\n",
              "      <th>hasPerk</th>\n",
              "      <th>location.address</th>\n",
              "      <th>location.lat</th>\n",
              "      <th>location.lng</th>\n",
              "      <th>location.labeledLatLngs</th>\n",
              "      <th>location.distance</th>\n",
              "      <th>location.postalCode</th>\n",
              "      <th>location.cc</th>\n",
              "      <th>location.city</th>\n",
              "      <th>location.state</th>\n",
              "      <th>location.country</th>\n",
              "      <th>location.formattedAddress</th>\n",
              "      <th>location.crossStreet</th>\n",
              "      <th>location.neighborhood</th>\n",
              "      <th>venuePage.id</th>\n",
              "    </tr>\n",
              "  </thead>\n",
              "  <tbody>\n",
              "    <tr>\n",
              "      <th>0</th>\n",
              "      <td>4cdeb1c8f8a4a14344e2d8bc</td>\n",
              "      <td>Café do Páteo</td>\n",
              "      <td>[{'id': '4bf58dd8d48988d16d941735', 'name': 'C...</td>\n",
              "      <td>v-1606656072</td>\n",
              "      <td>False</td>\n",
              "      <td>Pateo do Collegio</td>\n",
              "      <td>-23.547905</td>\n",
              "      <td>-46.632732</td>\n",
              "      <td>[{'label': 'display', 'lat': -23.5479054807141...</td>\n",
              "      <td>312</td>\n",
              "      <td>01016-030</td>\n",
              "      <td>BR</td>\n",
              "      <td>São Paulo</td>\n",
              "      <td>SP</td>\n",
              "      <td>Brasil</td>\n",
              "      <td>[Pateo do Collegio, São Paulo, SP, 01016-030]</td>\n",
              "      <td>NaN</td>\n",
              "      <td>NaN</td>\n",
              "      <td>NaN</td>\n",
              "    </tr>\n",
              "    <tr>\n",
              "      <th>1</th>\n",
              "      <td>4c068713cf8c76b0219b3a65</td>\n",
              "      <td>Piero Pasta &amp; Café</td>\n",
              "      <td>[{'id': '4bf58dd8d48988d110941735', 'name': 'I...</td>\n",
              "      <td>v-1606656072</td>\n",
              "      <td>False</td>\n",
              "      <td>R. Roberto Simonsen, 98</td>\n",
              "      <td>-23.548734</td>\n",
              "      <td>-46.632186</td>\n",
              "      <td>[{'label': 'display', 'lat': -23.5487343888834...</td>\n",
              "      <td>245</td>\n",
              "      <td>01017-020</td>\n",
              "      <td>BR</td>\n",
              "      <td>São Paulo</td>\n",
              "      <td>SP</td>\n",
              "      <td>Brasil</td>\n",
              "      <td>[R. Roberto Simonsen, 98 (R. Venceslau Brás), ...</td>\n",
              "      <td>R. Venceslau Brás</td>\n",
              "      <td>NaN</td>\n",
              "      <td>NaN</td>\n",
              "    </tr>\n",
              "    <tr>\n",
              "      <th>2</th>\n",
              "      <td>5878fbd45a5869013dec9032</td>\n",
              "      <td>Havanna Café</td>\n",
              "      <td>[{'id': '4bf58dd8d48988d16d941735', 'name': 'C...</td>\n",
              "      <td>v-1606656072</td>\n",
              "      <td>False</td>\n",
              "      <td>Livraria Saraiva</td>\n",
              "      <td>-23.551947</td>\n",
              "      <td>-46.634289</td>\n",
              "      <td>[{'label': 'display', 'lat': -23.5519467396333...</td>\n",
              "      <td>171</td>\n",
              "      <td>01501-001</td>\n",
              "      <td>BR</td>\n",
              "      <td>São Paulo</td>\n",
              "      <td>SP</td>\n",
              "      <td>Brasil</td>\n",
              "      <td>[Livraria Saraiva (2º Piso), São Paulo, SP, 01...</td>\n",
              "      <td>2º Piso</td>\n",
              "      <td>Centro</td>\n",
              "      <td>NaN</td>\n",
              "    </tr>\n",
              "    <tr>\n",
              "      <th>3</th>\n",
              "      <td>5a5f56b165cdf81a23799d63</td>\n",
              "      <td>Cafe by Suplicy (Café do Farol por Suplicy)</td>\n",
              "      <td>[{'id': '4bf58dd8d48988d1e0931735', 'name': 'C...</td>\n",
              "      <td>v-1606656072</td>\n",
              "      <td>False</td>\n",
              "      <td>Farol Santander</td>\n",
              "      <td>-23.545827</td>\n",
              "      <td>-46.634134</td>\n",
              "      <td>[{'label': 'display', 'lat': -23.5458270732206...</td>\n",
              "      <td>542</td>\n",
              "      <td>01014-010</td>\n",
              "      <td>BR</td>\n",
              "      <td>São Paulo</td>\n",
              "      <td>SP</td>\n",
              "      <td>Brasil</td>\n",
              "      <td>[Farol Santander (26º Andar), São Paulo, SP, 0...</td>\n",
              "      <td>26º Andar</td>\n",
              "      <td>NaN</td>\n",
              "      <td>NaN</td>\n",
              "    </tr>\n",
              "    <tr>\n",
              "      <th>4</th>\n",
              "      <td>4e3b44e52271d21e86d9e832</td>\n",
              "      <td>Café</td>\n",
              "      <td>[{'id': '4bf58dd8d48988d16d941735', 'name': 'C...</td>\n",
              "      <td>v-1606656072</td>\n",
              "      <td>False</td>\n",
              "      <td>Teatro Abril</td>\n",
              "      <td>-23.554134</td>\n",
              "      <td>-46.638632</td>\n",
              "      <td>[{'label': 'display', 'lat': -23.5541341220620...</td>\n",
              "      <td>661</td>\n",
              "      <td>01317-000</td>\n",
              "      <td>BR</td>\n",
              "      <td>São Paulo</td>\n",
              "      <td>SP</td>\n",
              "      <td>Brasil</td>\n",
              "      <td>[Teatro Abril, São Paulo, SP, 01317-000]</td>\n",
              "      <td>NaN</td>\n",
              "      <td>NaN</td>\n",
              "      <td>NaN</td>\n",
              "    </tr>\n",
              "  </tbody>\n",
              "</table>\n",
              "</div>"
            ],
            "text/plain": [
              "                         id  ... venuePage.id\n",
              "0  4cdeb1c8f8a4a14344e2d8bc  ...          NaN\n",
              "1  4c068713cf8c76b0219b3a65  ...          NaN\n",
              "2  5878fbd45a5869013dec9032  ...          NaN\n",
              "3  5a5f56b165cdf81a23799d63  ...          NaN\n",
              "4  4e3b44e52271d21e86d9e832  ...          NaN\n",
              "\n",
              "[5 rows x 19 columns]"
            ]
          },
          "metadata": {
            "tags": []
          },
          "execution_count": 9
        }
      ]
    },
    {
      "cell_type": "code",
      "metadata": {
        "id": "SnQ26n4q4-xp",
        "colab": {
          "base_uri": "https://localhost:8080/",
          "height": 221
        },
        "outputId": "07e07fba-af60-4e12-aa44-18fa8a34a5a8"
      },
      "source": [
        "filtered_columns = ['name', 'categories', 'location.neighborhood', 'location.lat', 'location.lng', 'id'] # + [col for col in coffee_df.columns if col.startswith('location.')]\n",
        "filtered_coffee = coffee_df.loc[:, filtered_columns]\n",
        "# filtered_coffee.head()\n",
        "\n",
        "filtered_coffee['categories'] = filtered_coffee.apply(get_category_type, axis=1)\n",
        "filtered_coffee.columns = [column.split('.')[-1] for column in filtered_coffee.columns]\n",
        "print(filtered_coffee.shape)\n",
        "filtered_coffee.head()"
      ],
      "execution_count": 10,
      "outputs": [
        {
          "output_type": "stream",
          "text": [
            "(50, 6)\n"
          ],
          "name": "stdout"
        },
        {
          "output_type": "execute_result",
          "data": {
            "text/html": [
              "<div>\n",
              "<style scoped>\n",
              "    .dataframe tbody tr th:only-of-type {\n",
              "        vertical-align: middle;\n",
              "    }\n",
              "\n",
              "    .dataframe tbody tr th {\n",
              "        vertical-align: top;\n",
              "    }\n",
              "\n",
              "    .dataframe thead th {\n",
              "        text-align: right;\n",
              "    }\n",
              "</style>\n",
              "<table border=\"1\" class=\"dataframe\">\n",
              "  <thead>\n",
              "    <tr style=\"text-align: right;\">\n",
              "      <th></th>\n",
              "      <th>name</th>\n",
              "      <th>categories</th>\n",
              "      <th>neighborhood</th>\n",
              "      <th>lat</th>\n",
              "      <th>lng</th>\n",
              "      <th>id</th>\n",
              "    </tr>\n",
              "  </thead>\n",
              "  <tbody>\n",
              "    <tr>\n",
              "      <th>0</th>\n",
              "      <td>Café do Páteo</td>\n",
              "      <td>Café</td>\n",
              "      <td>NaN</td>\n",
              "      <td>-23.547905</td>\n",
              "      <td>-46.632732</td>\n",
              "      <td>4cdeb1c8f8a4a14344e2d8bc</td>\n",
              "    </tr>\n",
              "    <tr>\n",
              "      <th>1</th>\n",
              "      <td>Piero Pasta &amp; Café</td>\n",
              "      <td>Italian Restaurant</td>\n",
              "      <td>NaN</td>\n",
              "      <td>-23.548734</td>\n",
              "      <td>-46.632186</td>\n",
              "      <td>4c068713cf8c76b0219b3a65</td>\n",
              "    </tr>\n",
              "    <tr>\n",
              "      <th>2</th>\n",
              "      <td>Havanna Café</td>\n",
              "      <td>Café</td>\n",
              "      <td>Centro</td>\n",
              "      <td>-23.551947</td>\n",
              "      <td>-46.634289</td>\n",
              "      <td>5878fbd45a5869013dec9032</td>\n",
              "    </tr>\n",
              "    <tr>\n",
              "      <th>3</th>\n",
              "      <td>Cafe by Suplicy (Café do Farol por Suplicy)</td>\n",
              "      <td>Coffee Shop</td>\n",
              "      <td>NaN</td>\n",
              "      <td>-23.545827</td>\n",
              "      <td>-46.634134</td>\n",
              "      <td>5a5f56b165cdf81a23799d63</td>\n",
              "    </tr>\n",
              "    <tr>\n",
              "      <th>4</th>\n",
              "      <td>Café</td>\n",
              "      <td>Café</td>\n",
              "      <td>NaN</td>\n",
              "      <td>-23.554134</td>\n",
              "      <td>-46.638632</td>\n",
              "      <td>4e3b44e52271d21e86d9e832</td>\n",
              "    </tr>\n",
              "  </tbody>\n",
              "</table>\n",
              "</div>"
            ],
            "text/plain": [
              "                                          name  ...                        id\n",
              "0                                Café do Páteo  ...  4cdeb1c8f8a4a14344e2d8bc\n",
              "1                           Piero Pasta & Café  ...  4c068713cf8c76b0219b3a65\n",
              "2                                 Havanna Café  ...  5878fbd45a5869013dec9032\n",
              "3  Cafe by Suplicy (Café do Farol por Suplicy)  ...  5a5f56b165cdf81a23799d63\n",
              "4                                         Café  ...  4e3b44e52271d21e86d9e832\n",
              "\n",
              "[5 rows x 6 columns]"
            ]
          },
          "metadata": {
            "tags": []
          },
          "execution_count": 10
        }
      ]
    },
    {
      "cell_type": "code",
      "metadata": {
        "colab": {
          "base_uri": "https://localhost:8080/"
        },
        "id": "Jj1jBEdifEJt",
        "outputId": "54d5ddd4-0131-4ef0-edaa-b4ab724b940f"
      },
      "source": [
        "print(filtered_coffee.loc[:,['name', 'categories']])"
      ],
      "execution_count": 11,
      "outputs": [
        {
          "output_type": "stream",
          "text": [
            "                                                 name            categories\n",
            "0                                       Café do Páteo                  Café\n",
            "1                                  Piero Pasta & Café    Italian Restaurant\n",
            "2                                        Havanna Café                  Café\n",
            "3         Cafe by Suplicy (Café do Farol por Suplicy)           Coffee Shop\n",
            "4                                                Café                  Café\n",
            "5                                       Café do Ponto                  Café\n",
            "6                                       Cafe Bancario                 Diner\n",
            "7                           Café Gourmet Santa Monica                  Café\n",
            "8                           Café da Bolsa BM&FBovespa                  Café\n",
            "9                                  Ki Salgados e Café  Brazilian Restaurant\n",
            "10                       Santander - Work Café Centro                  Bank\n",
            "11                               Café Martinelli Midi                  Café\n",
            "12                               Sampa Cafe & Lanches        Breakfast Spot\n",
            "13                                       Café Liberté                  Café\n",
            "14                            Takko Café (Takkø Café)                  Café\n",
            "15                        Maquina De Café -  12 andar                  Café\n",
            "16                                    Arte Café & Cia  Brazilian Restaurant\n",
            "17                                    Black Jack Café                  Café\n",
            "18                           Bar e Café 3 de Dezembro  Brazilian Restaurant\n",
            "19  CoffeeShop HotelCafe at Nikkey Palace Hotel (C...                  Café\n",
            "20                                     Café do Teatro                  Café\n",
            "21                                          Magg Café           Coffee Shop\n",
            "22                                      Alhambra Café                  Café\n",
            "23                                        Fran's Café           Coffee Shop\n",
            "24                                Citrus Sucos & Café             Juice Bar\n",
            "25                   Copan Café - Pães e Hamburgueria  Brazilian Restaurant\n",
            "26                                      Delícias Café  Brazilian Restaurant\n",
            "27                                    Café Arte e Cia                  Café\n",
            "28  Centro de preparaçao de cafe - Sindicato da In...                  Café\n",
            "29                                     Café Girondino                  Café\n",
            "30                              Lanchonete Café Sabor                 Diner\n",
            "31                                               Café           Coffee Shop\n",
            "32                  Cafe da manhã - Hotel San Raphael                  Café\n",
            "33          A.C. Camargo Cancer Center - Café Médicos           Coffee Shop\n",
            "34                              Telefonica Bar & Café  Brazilian Restaurant\n",
            "35                                      Expresso Café  Brazilian Restaurant\n",
            "36                                        Fran's Café           Coffee Shop\n",
            "37                             Bar e Café Crispiniano           Beer Garden\n",
            "38                                               Café                  Café\n",
            "39          DUO Café & Comidinhas - Galeria Metrópole           Coffee Shop\n",
            "40                 Café e Restaurante Praça São Paulo            Restaurant\n",
            "41                                        Fran's Café                  Café\n",
            "42                                       Cafe Smell's                  Café\n",
            "43                                        Fran's Café        Breakfast Spot\n",
            "44                                        Fran's Café                  Café\n",
            "45                          Expresso Norte Bar & Café  Brazilian Restaurant\n",
            "46                                 Café dos Bombeiros           Coffee Shop\n",
            "47                                        Cafe Cateto        Breakfast Spot\n",
            "48                                       Café Piu Piu             Rock Club\n",
            "49                                        Souzas café                  Café\n"
          ],
          "name": "stdout"
        }
      ]
    },
    {
      "cell_type": "code",
      "metadata": {
        "colab": {
          "base_uri": "https://localhost:8080/",
          "height": 421
        },
        "id": "aSUM5VvweZda",
        "outputId": "69695580-7368-4b3c-fd6e-9ffb6d45ba89"
      },
      "source": [
        "filtered_coffee.groupby('categories').count()"
      ],
      "execution_count": 12,
      "outputs": [
        {
          "output_type": "execute_result",
          "data": {
            "text/html": [
              "<div>\n",
              "<style scoped>\n",
              "    .dataframe tbody tr th:only-of-type {\n",
              "        vertical-align: middle;\n",
              "    }\n",
              "\n",
              "    .dataframe tbody tr th {\n",
              "        vertical-align: top;\n",
              "    }\n",
              "\n",
              "    .dataframe thead th {\n",
              "        text-align: right;\n",
              "    }\n",
              "</style>\n",
              "<table border=\"1\" class=\"dataframe\">\n",
              "  <thead>\n",
              "    <tr style=\"text-align: right;\">\n",
              "      <th></th>\n",
              "      <th>name</th>\n",
              "      <th>neighborhood</th>\n",
              "      <th>lat</th>\n",
              "      <th>lng</th>\n",
              "      <th>id</th>\n",
              "    </tr>\n",
              "    <tr>\n",
              "      <th>categories</th>\n",
              "      <th></th>\n",
              "      <th></th>\n",
              "      <th></th>\n",
              "      <th></th>\n",
              "      <th></th>\n",
              "    </tr>\n",
              "  </thead>\n",
              "  <tbody>\n",
              "    <tr>\n",
              "      <th>Bank</th>\n",
              "      <td>1</td>\n",
              "      <td>0</td>\n",
              "      <td>1</td>\n",
              "      <td>1</td>\n",
              "      <td>1</td>\n",
              "    </tr>\n",
              "    <tr>\n",
              "      <th>Beer Garden</th>\n",
              "      <td>1</td>\n",
              "      <td>0</td>\n",
              "      <td>1</td>\n",
              "      <td>1</td>\n",
              "      <td>1</td>\n",
              "    </tr>\n",
              "    <tr>\n",
              "      <th>Brazilian Restaurant</th>\n",
              "      <td>8</td>\n",
              "      <td>0</td>\n",
              "      <td>8</td>\n",
              "      <td>8</td>\n",
              "      <td>8</td>\n",
              "    </tr>\n",
              "    <tr>\n",
              "      <th>Breakfast Spot</th>\n",
              "      <td>3</td>\n",
              "      <td>0</td>\n",
              "      <td>3</td>\n",
              "      <td>3</td>\n",
              "      <td>3</td>\n",
              "    </tr>\n",
              "    <tr>\n",
              "      <th>Café</th>\n",
              "      <td>23</td>\n",
              "      <td>1</td>\n",
              "      <td>23</td>\n",
              "      <td>23</td>\n",
              "      <td>23</td>\n",
              "    </tr>\n",
              "    <tr>\n",
              "      <th>Coffee Shop</th>\n",
              "      <td>8</td>\n",
              "      <td>0</td>\n",
              "      <td>8</td>\n",
              "      <td>8</td>\n",
              "      <td>8</td>\n",
              "    </tr>\n",
              "    <tr>\n",
              "      <th>Diner</th>\n",
              "      <td>2</td>\n",
              "      <td>0</td>\n",
              "      <td>2</td>\n",
              "      <td>2</td>\n",
              "      <td>2</td>\n",
              "    </tr>\n",
              "    <tr>\n",
              "      <th>Italian Restaurant</th>\n",
              "      <td>1</td>\n",
              "      <td>0</td>\n",
              "      <td>1</td>\n",
              "      <td>1</td>\n",
              "      <td>1</td>\n",
              "    </tr>\n",
              "    <tr>\n",
              "      <th>Juice Bar</th>\n",
              "      <td>1</td>\n",
              "      <td>0</td>\n",
              "      <td>1</td>\n",
              "      <td>1</td>\n",
              "      <td>1</td>\n",
              "    </tr>\n",
              "    <tr>\n",
              "      <th>Restaurant</th>\n",
              "      <td>1</td>\n",
              "      <td>0</td>\n",
              "      <td>1</td>\n",
              "      <td>1</td>\n",
              "      <td>1</td>\n",
              "    </tr>\n",
              "    <tr>\n",
              "      <th>Rock Club</th>\n",
              "      <td>1</td>\n",
              "      <td>1</td>\n",
              "      <td>1</td>\n",
              "      <td>1</td>\n",
              "      <td>1</td>\n",
              "    </tr>\n",
              "  </tbody>\n",
              "</table>\n",
              "</div>"
            ],
            "text/plain": [
              "                      name  neighborhood  lat  lng  id\n",
              "categories                                            \n",
              "Bank                     1             0    1    1   1\n",
              "Beer Garden              1             0    1    1   1\n",
              "Brazilian Restaurant     8             0    8    8   8\n",
              "Breakfast Spot           3             0    3    3   3\n",
              "Café                    23             1   23   23  23\n",
              "Coffee Shop              8             0    8    8   8\n",
              "Diner                    2             0    2    2   2\n",
              "Italian Restaurant       1             0    1    1   1\n",
              "Juice Bar                1             0    1    1   1\n",
              "Restaurant               1             0    1    1   1\n",
              "Rock Club                1             1    1    1   1"
            ]
          },
          "metadata": {
            "tags": []
          },
          "execution_count": 12
        }
      ]
    },
    {
      "cell_type": "markdown",
      "metadata": {
        "id": "tyAdvz83FFV3"
      },
      "source": [
        "Let's see their location on the map"
      ]
    },
    {
      "cell_type": "code",
      "metadata": {
        "colab": {
          "base_uri": "https://localhost:8080/",
          "height": 732
        },
        "id": "a3k3Ox-YEysq",
        "outputId": "02baba5a-1608-490c-c03f-3483e68f0042"
      },
      "source": [
        "venues_map = folium.Map(location=[latitude, longitude], zoom_start=14)\n",
        "\n",
        "for lat, lng, name in zip(filtered_coffee.lat, filtered_coffee.lng, filtered_coffee.name):\n",
        "  folium.Marker(\n",
        "      location = [lat, lng],\n",
        "      popup = name,\n",
        "      icon = folium.Icon(color='beige',\n",
        "                       icon_color ='black',\n",
        "                       prefix='fa', # https://fontawesome.com/icons\n",
        "                       icon='coffee') # Coffee Icon HTML: <i class=\"fas fa-coffee\"></i>\n",
        "  ).add_to(venues_map)\n",
        "\n",
        "# display map\n",
        "venues_map"
      ],
      "execution_count": 82,
      "outputs": [
        {
          "output_type": "execute_result",
          "data": {
            "text/html": [
              "<div style=\"width:100%;\"><div style=\"position:relative;width:100%;height:0;padding-bottom:60%;\"><span style=\"color:#565656\">Make this Notebook Trusted to load map: File -> Trust Notebook</span><iframe src=\"about:blank\" style=\"position:absolute;width:100%;height:100%;left:0;top:0;border:none !important;\" data-html=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 onload=\"this.contentDocument.open();this.contentDocument.write(atob(this.getAttribute('data-html')));this.contentDocument.close();\" allowfullscreen webkitallowfullscreen mozallowfullscreen></iframe></div></div>"
            ],
            "text/plain": [
              "<folium.folium.Map at 0x7f40d030f908>"
            ]
          },
          "metadata": {
            "tags": []
          },
          "execution_count": 82
        }
      ]
    },
    {
      "cell_type": "markdown",
      "metadata": {
        "id": "5A5tOsLkhr1e"
      },
      "source": [
        "Now let's extract the Likes every coffee received from users to put in our rank:"
      ]
    },
    {
      "cell_type": "code",
      "metadata": {
        "id": "6uhabQWjdNU5"
      },
      "source": [
        "coffee_rank = pd.DataFrame(columns = ['name', 'likes'])\n",
        "\n",
        "for id, name in zip(filtered_coffee.id, filtered_coffee.name):\n",
        "  url = \"https://api.foursquare.com/v2/venues/{}/likes?client_id={}&client_secret={}&oauth_token={}&v={}\".format(\n",
        "      id,\n",
        "      CLIENT_ID,\n",
        "      CLIENT_SECRET,\n",
        "      ACCESS_TOKEN,\n",
        "      VERSION\n",
        "  )\n",
        "  venuelikes = requests.get(url).json()\n",
        "  likes = venuelikes['response']['likes']['count']\n",
        "\n",
        "  coffee_rank.loc[len(coffee_rank)] = [name, likes]"
      ],
      "execution_count": 30,
      "outputs": []
    },
    {
      "cell_type": "code",
      "metadata": {
        "colab": {
          "base_uri": "https://localhost:8080/",
          "height": 204
        },
        "id": "8_TwD0hRlqiU",
        "outputId": "19c18503-7a8a-4dc7-e767-faaed0bbfcff"
      },
      "source": [
        "top5 = coffee_rank.sort_values(\"likes\", ascending=False).head(5).reset_index(drop=True)\n",
        "top5"
      ],
      "execution_count": 42,
      "outputs": [
        {
          "output_type": "execute_result",
          "data": {
            "text/html": [
              "<div>\n",
              "<style scoped>\n",
              "    .dataframe tbody tr th:only-of-type {\n",
              "        vertical-align: middle;\n",
              "    }\n",
              "\n",
              "    .dataframe tbody tr th {\n",
              "        vertical-align: top;\n",
              "    }\n",
              "\n",
              "    .dataframe thead th {\n",
              "        text-align: right;\n",
              "    }\n",
              "</style>\n",
              "<table border=\"1\" class=\"dataframe\">\n",
              "  <thead>\n",
              "    <tr style=\"text-align: right;\">\n",
              "      <th></th>\n",
              "      <th>name</th>\n",
              "      <th>likes</th>\n",
              "    </tr>\n",
              "  </thead>\n",
              "  <tbody>\n",
              "    <tr>\n",
              "      <th>0</th>\n",
              "      <td>Café Girondino</td>\n",
              "      <td>2190</td>\n",
              "    </tr>\n",
              "    <tr>\n",
              "      <th>1</th>\n",
              "      <td>Café Piu Piu</td>\n",
              "      <td>1013</td>\n",
              "    </tr>\n",
              "    <tr>\n",
              "      <th>2</th>\n",
              "      <td>Café Martinelli Midi</td>\n",
              "      <td>252</td>\n",
              "    </tr>\n",
              "    <tr>\n",
              "      <th>3</th>\n",
              "      <td>Piero Pasta &amp; Café</td>\n",
              "      <td>227</td>\n",
              "    </tr>\n",
              "    <tr>\n",
              "      <th>4</th>\n",
              "      <td>Café do Páteo</td>\n",
              "      <td>150</td>\n",
              "    </tr>\n",
              "  </tbody>\n",
              "</table>\n",
              "</div>"
            ],
            "text/plain": [
              "                   name likes\n",
              "0        Café Girondino  2190\n",
              "1          Café Piu Piu  1013\n",
              "2  Café Martinelli Midi   252\n",
              "3    Piero Pasta & Café   227\n",
              "4         Café do Páteo   150"
            ]
          },
          "metadata": {
            "tags": []
          },
          "execution_count": 42
        }
      ]
    },
    {
      "cell_type": "markdown",
      "metadata": {
        "id": "UeKxKaf7PQZ2"
      },
      "source": [
        "Now let's see where to find them:"
      ]
    },
    {
      "cell_type": "code",
      "metadata": {
        "colab": {
          "base_uri": "https://localhost:8080/",
          "height": 732
        },
        "id": "rHwp9idfPZFH",
        "outputId": "79f436a6-5db2-4494-aaf1-75f0a5ac1ef8"
      },
      "source": [
        "# Add the coordinates of the Top 5 Cafeterias\n",
        "coor = pd.DataFrame(columns=['latitude', 'longitude'])\n",
        "for i in range(len(top5)):\n",
        "  for name, lat, lng in zip(filtered_coffee.name, filtered_coffee.lat, filtered_coffee.lng):\n",
        "    if top5['name'][i] == name:\n",
        "      coor.loc[len(coor)] = [lat, lng]\n",
        "\n",
        "fulltop5 = top5.join(coor)\n",
        "\n",
        "# now plotting on the map centered on the means of the coordinates of all top 5\n",
        "top5_map = folium.Map(location=[coor.mean()[0], coor.mean()[1]], zoom_start=15)\n",
        "for name, lat, lng in zip(fulltop5.name, fulltop5.latitude, fulltop5.longitude):\n",
        "  folium.Marker(\n",
        "      location = [lat, lng],\n",
        "      popup = name,\n",
        "      icon = folium.Icon(color='beige',\n",
        "                       icon_color ='black',\n",
        "                       prefix='fa', # https://fontawesome.com/icons\n",
        "                       icon='star') # Coffee Icon HTML: <i class=\"fas fa-coffee\"></i>\n",
        "  ).add_to(top5_map)\n",
        "\n",
        "title_html = '''\n",
        "             <h3 align=\"center\" style=\"font-size:20px\"><b>Top 5 Cafeterias in Sao Paulo</b></h3>\n",
        "             '''\n",
        "top5_map.get_root().html.add_child(folium.Element(title_html))\n",
        "# display map\n",
        "top5_map"
      ],
      "execution_count": 81,
      "outputs": [
        {
          "output_type": "execute_result",
          "data": {
            "text/html": [
              "<div style=\"width:100%;\"><div style=\"position:relative;width:100%;height:0;padding-bottom:60%;\"><span style=\"color:#565656\">Make this Notebook Trusted to load map: File -> Trust Notebook</span><iframe src=\"about:blank\" style=\"position:absolute;width:100%;height:100%;left:0;top:0;border:none !important;\" data-html=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 onload=\"this.contentDocument.open();this.contentDocument.write(atob(this.getAttribute('data-html')));this.contentDocument.close();\" allowfullscreen webkitallowfullscreen mozallowfullscreen></iframe></div></div>"
            ],
            "text/plain": [
              "<folium.folium.Map at 0x7f40cff030f0>"
            ]
          },
          "metadata": {
            "tags": []
          },
          "execution_count": 81
        }
      ]
    },
    {
      "cell_type": "markdown",
      "metadata": {
        "id": "FZ0RfBkDbCud"
      },
      "source": [
        "## Results and Discussions\n",
        "\n",
        "Some data wasn't available to give a more accurate based on other aspects such as population density on each neighborhood or the name of each neighborhood.\n",
        "\n",
        "So the analysis is based only on the amount of likes one cafeteria received regardless if it's spotted on a neighborhood with a greater population.\n",
        "\n",
        "This disparity can be noticed by the 4 closer cafeterias on the map above. They are located on a central neighborhood of the city, so naturally, will have more visitors."
      ]
    }
  ]
}