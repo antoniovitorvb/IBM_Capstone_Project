{
  "nbformat": 4,
  "nbformat_minor": 0,
  "metadata": {
    "colab": {
      "name": "Capstone Project - The Battle of Neighborhoods (Week 1).ipynb",
      "provenance": []
    },
    "kernelspec": {
      "name": "python3",
      "display_name": "Python 3"
    }
  },
  "cells": [
    {
      "cell_type": "markdown",
      "metadata": {
        "id": "B1jZJsTkdeo0"
      },
      "source": [
        "# IBM Data Science - Professional Certificate\n",
        "## Capstone Projects - Battle of Neighborhoods\n",
        "### Author: Vitor Villas Boas"
      ]
    },
    {
      "cell_type": "code",
      "metadata": {
        "colab": {
          "base_uri": "https://localhost:8080/"
        },
        "id": "3oxllgtfdJaF",
        "outputId": "c392cf00-c7c2-409d-cff1-dde643a947a8"
      },
      "source": [
        "import numpy as np # library to handle data in a vectorized manner\n",
        "import pandas as pd # library for data analsysis\n",
        "import json # library to handle JSON files\n",
        "from geopy.geocoders import Nominatim # convert an address into latitude and longitude values\n",
        "import requests # library to handle requests\n",
        "from pandas.io.json import json_normalize # tranform JSON file into a pandas dataframe\n",
        "\n",
        "# Matplotlib and associated plotting modules\n",
        "import matplotlib.cm as cm\n",
        "import matplotlib.colors as colors\n",
        "\n",
        "from sklearn.cluster import KMeans\n",
        "from geopy.geocoders import Nominatim # module to convert an address into latitude and longitude values\n",
        "import folium # map rendering library\n",
        "print('Libraries imported.')"
      ],
      "execution_count": 94,
      "outputs": [
        {
          "output_type": "stream",
          "text": [
            "Libraries imported.\n"
          ],
          "name": "stdout"
        }
      ]
    },
    {
      "cell_type": "code",
      "metadata": {
        "id": "Nj7gaVwugVwJ"
      },
      "source": [
        "CLIENT_ID = 'BRQRODSZVFCG1SGCRV5IBOH3VGD0TDDJUCNTP3HW2Q23XEKE' # your Foursquare ID\n",
        "CLIENT_SECRET = 'OPQVXCAULA3B0SCVMMK1KNEKCXSFMGIE40C4UKTB1IFVGK5Q' # your Foursquare Secret\n",
        "VERSION = '20180604'\n",
        "ACCESS_TOKEN = 'AIMBO2C1MFQ1P03XG3ZI3JRL3Z22MOEHZYOCEMZMYI325RJ4' # your access token to user.id\n",
        "RADIUS = 10000\n",
        "LIMIT = 100"
      ],
      "execution_count": 95,
      "outputs": []
    },
    {
      "cell_type": "code",
      "metadata": {
        "id": "8CoJHmtNfI_J"
      },
      "source": [
        "# !wget -q -O 'newyork_data.json' https://cf-courses-data.s3.us.cloud-object-storage.appdomain.cloud/IBMDeveloperSkillsNetwork-DS0701EN-SkillsNetwork/labs/newyork_data.json\n",
        "# print('Data downloaded!')\n",
        "CITY = \"Sao Paulo, SP\"\n",
        "url_SP = \"https://api.foursquare.com/v2/venues/explore?client_id={}&client_secret={}&oauth_token={}&v={}&radius={}&limit={}&near={}\".format(\n",
        "    CLIENT_ID,\n",
        "    CLIENT_SECRET,\n",
        "    ACCESS_TOKEN,\n",
        "    VERSION,\n",
        "    RADIUS,\n",
        "    LIMIT,\n",
        "    CITY)\n",
        "results = requests.get(url_SP).json()"
      ],
      "execution_count": 96,
      "outputs": []
    },
    {
      "cell_type": "code",
      "metadata": {
        "id": "3rkYzWjMhOzj"
      },
      "source": [
        "# function that extracts the category of the venue\n",
        "def get_category_type(row):\n",
        "    try:\n",
        "        categories_list = row['categories']\n",
        "    except:\n",
        "        categories_list = row['venue.categories']\n",
        "        \n",
        "    if len(categories_list) == 0:\n",
        "        return None\n",
        "    else:\n",
        "        return categories_list[0]['name']"
      ],
      "execution_count": 97,
      "outputs": []
    },
    {
      "cell_type": "code",
      "metadata": {
        "colab": {
          "base_uri": "https://localhost:8080/",
          "height": 376
        },
        "id": "0Q6ADMWa2RSM",
        "outputId": "85ec5a75-1ff2-433c-b21c-9ac6eb6e40a5"
      },
      "source": [
        "venues = results['response']['groups'][0]['items']\n",
        "nearby_venues = pd.json_normalize(venues) # flatten JSON\n",
        "# nearby_venues.head()\n",
        "\n",
        "# filter columns\n",
        "filtered_columns = ['venue.id', 'venue.name', 'venue.categories', 'venue.location.lat', 'venue.location.lng']\n",
        "nearby_venues =nearby_venues.loc[:, filtered_columns]\n",
        "\n",
        "# filter the category for each row\n",
        "nearby_venues['venue.categories'] = nearby_venues.apply(get_category_type, axis=1)\n",
        "# clean columns\n",
        "nearby_venues.columns = [col.split(\".\")[-1] for col in nearby_venues.columns]\n",
        "\n",
        "print(nearby_venues.shape)\n",
        "nearby_venues.head(10)"
      ],
      "execution_count": 98,
      "outputs": [
        {
          "output_type": "stream",
          "text": [
            "(100, 5)\n"
          ],
          "name": "stdout"
        },
        {
          "output_type": "execute_result",
          "data": {
            "text/html": [
              "<div>\n",
              "<style scoped>\n",
              "    .dataframe tbody tr th:only-of-type {\n",
              "        vertical-align: middle;\n",
              "    }\n",
              "\n",
              "    .dataframe tbody tr th {\n",
              "        vertical-align: top;\n",
              "    }\n",
              "\n",
              "    .dataframe thead th {\n",
              "        text-align: right;\n",
              "    }\n",
              "</style>\n",
              "<table border=\"1\" class=\"dataframe\">\n",
              "  <thead>\n",
              "    <tr style=\"text-align: right;\">\n",
              "      <th></th>\n",
              "      <th>id</th>\n",
              "      <th>name</th>\n",
              "      <th>categories</th>\n",
              "      <th>lat</th>\n",
              "      <th>lng</th>\n",
              "    </tr>\n",
              "  </thead>\n",
              "  <tbody>\n",
              "    <tr>\n",
              "      <th>0</th>\n",
              "      <td>4b17eb00f964a520a1c923e3</td>\n",
              "      <td>Centro Cultural Banco do Brasil (CCBB)</td>\n",
              "      <td>Cultural Center</td>\n",
              "      <td>-23.547588</td>\n",
              "      <td>-46.634683</td>\n",
              "    </tr>\n",
              "    <tr>\n",
              "      <th>1</th>\n",
              "      <td>573dab3f498e4e0d56c67f4e</td>\n",
              "      <td>Casa de Francisca</td>\n",
              "      <td>Music Venue</td>\n",
              "      <td>-23.548733</td>\n",
              "      <td>-46.634763</td>\n",
              "    </tr>\n",
              "    <tr>\n",
              "      <th>2</th>\n",
              "      <td>4f29bb59e4b09b0140fba336</td>\n",
              "      <td>Teatro CCBB</td>\n",
              "      <td>Theater</td>\n",
              "      <td>-23.547644</td>\n",
              "      <td>-46.634733</td>\n",
              "    </tr>\n",
              "    <tr>\n",
              "      <th>3</th>\n",
              "      <td>4bdafa28c79cc928177a80e9</td>\n",
              "      <td>Theatro Municipal de São Paulo</td>\n",
              "      <td>Theater</td>\n",
              "      <td>-23.545477</td>\n",
              "      <td>-46.638812</td>\n",
              "    </tr>\n",
              "    <tr>\n",
              "      <th>4</th>\n",
              "      <td>4b09acf9f964a520701b23e3</td>\n",
              "      <td>Teatro Renault</td>\n",
              "      <td>Theater</td>\n",
              "      <td>-23.554120</td>\n",
              "      <td>-46.638695</td>\n",
              "    </tr>\n",
              "    <tr>\n",
              "      <th>5</th>\n",
              "      <td>4b05bc5ef964a520fee122e3</td>\n",
              "      <td>Mercado Municipal Paulistano</td>\n",
              "      <td>Market</td>\n",
              "      <td>-23.541673</td>\n",
              "      <td>-46.629742</td>\n",
              "    </tr>\n",
              "    <tr>\n",
              "      <th>6</th>\n",
              "      <td>560ee563498e447aba686327</td>\n",
              "      <td>A Casa do Porco</td>\n",
              "      <td>Brazilian Restaurant</td>\n",
              "      <td>-23.544887</td>\n",
              "      <td>-46.644622</td>\n",
              "    </tr>\n",
              "    <tr>\n",
              "      <th>7</th>\n",
              "      <td>54ac1385498e545686d23f88</td>\n",
              "      <td>Por um Punhado de Dólares</td>\n",
              "      <td>Coffee Shop</td>\n",
              "      <td>-23.548488</td>\n",
              "      <td>-46.645305</td>\n",
              "    </tr>\n",
              "    <tr>\n",
              "      <th>8</th>\n",
              "      <td>58f278f8e65d0c4b18f857f0</td>\n",
              "      <td>Kenzo Sushi</td>\n",
              "      <td>Sushi Restaurant</td>\n",
              "      <td>-23.557705</td>\n",
              "      <td>-46.636036</td>\n",
              "    </tr>\n",
              "    <tr>\n",
              "      <th>9</th>\n",
              "      <td>4b0588c7f964a520e8d922e3</td>\n",
              "      <td>Pinacoteca do Estado de São Paulo</td>\n",
              "      <td>Art Museum</td>\n",
              "      <td>-23.534735</td>\n",
              "      <td>-46.634001</td>\n",
              "    </tr>\n",
              "  </tbody>\n",
              "</table>\n",
              "</div>"
            ],
            "text/plain": [
              "                         id  ...        lng\n",
              "0  4b17eb00f964a520a1c923e3  ... -46.634683\n",
              "1  573dab3f498e4e0d56c67f4e  ... -46.634763\n",
              "2  4f29bb59e4b09b0140fba336  ... -46.634733\n",
              "3  4bdafa28c79cc928177a80e9  ... -46.638812\n",
              "4  4b09acf9f964a520701b23e3  ... -46.638695\n",
              "5  4b05bc5ef964a520fee122e3  ... -46.629742\n",
              "6  560ee563498e447aba686327  ... -46.644622\n",
              "7  54ac1385498e545686d23f88  ... -46.645305\n",
              "8  58f278f8e65d0c4b18f857f0  ... -46.636036\n",
              "9  4b0588c7f964a520e8d922e3  ... -46.634001\n",
              "\n",
              "[10 rows x 5 columns]"
            ]
          },
          "metadata": {
            "tags": []
          },
          "execution_count": 98
        }
      ]
    },
    {
      "cell_type": "code",
      "metadata": {
        "id": "Th0Yawb9ikoq"
      },
      "source": [
        "QUERY = \"Coffee\"\n",
        "url_SP = \"https://api.foursquare.com/v2/venues/search?client_id={}&client_secret={}&oauth_token={}&v={}&query={}&radius={}&limit={}&near={}\".format(\n",
        "    CLIENT_ID,\n",
        "    CLIENT_SECRET,\n",
        "    ACCESS_TOKEN,\n",
        "    VERSION,\n",
        "    QUERY,\n",
        "    RADIUS,\n",
        "    LIMIT,\n",
        "    CITY)\n",
        "Coffee_results = requests.get(url_SP).json()"
      ],
      "execution_count": 99,
      "outputs": []
    },
    {
      "cell_type": "code",
      "metadata": {
        "id": "gnE-Fu3m_NTo",
        "outputId": "15407521-22be-4549-edf5-0081c8d0c52a",
        "colab": {
          "base_uri": "https://localhost:8080/",
          "height": 719
        }
      },
      "source": [
        "coffee_venues = Coffee_results['response']['venues']\n",
        "coffee_df = pd.json_normalize(coffee_venues)\n",
        "coffee_df.head(10)"
      ],
      "execution_count": 100,
      "outputs": [
        {
          "output_type": "execute_result",
          "data": {
            "text/html": [
              "<div>\n",
              "<style scoped>\n",
              "    .dataframe tbody tr th:only-of-type {\n",
              "        vertical-align: middle;\n",
              "    }\n",
              "\n",
              "    .dataframe tbody tr th {\n",
              "        vertical-align: top;\n",
              "    }\n",
              "\n",
              "    .dataframe thead th {\n",
              "        text-align: right;\n",
              "    }\n",
              "</style>\n",
              "<table border=\"1\" class=\"dataframe\">\n",
              "  <thead>\n",
              "    <tr style=\"text-align: right;\">\n",
              "      <th></th>\n",
              "      <th>id</th>\n",
              "      <th>name</th>\n",
              "      <th>categories</th>\n",
              "      <th>referralId</th>\n",
              "      <th>hasPerk</th>\n",
              "      <th>location.address</th>\n",
              "      <th>location.lat</th>\n",
              "      <th>location.lng</th>\n",
              "      <th>location.labeledLatLngs</th>\n",
              "      <th>location.cc</th>\n",
              "      <th>location.city</th>\n",
              "      <th>location.state</th>\n",
              "      <th>location.country</th>\n",
              "      <th>location.formattedAddress</th>\n",
              "      <th>location.postalCode</th>\n",
              "      <th>location.neighborhood</th>\n",
              "      <th>location.crossStreet</th>\n",
              "      <th>venuePage.id</th>\n",
              "    </tr>\n",
              "  </thead>\n",
              "  <tbody>\n",
              "    <tr>\n",
              "      <th>0</th>\n",
              "      <td>50afc640e4b0a2172d570cd6</td>\n",
              "      <td>Açaí Coffee</td>\n",
              "      <td>[{'id': '4bf58dd8d48988d146941735', 'name': 'D...</td>\n",
              "      <td>v-1606235327</td>\n",
              "      <td>False</td>\n",
              "      <td>Rua XV de Novembro, 240</td>\n",
              "      <td>-23.545237</td>\n",
              "      <td>-46.634642</td>\n",
              "      <td>[{'label': 'display', 'lat': -23.5452373925255...</td>\n",
              "      <td>BR</td>\n",
              "      <td>São Paulo</td>\n",
              "      <td>SP</td>\n",
              "      <td>Brasil</td>\n",
              "      <td>[Rua XV de Novembro, 240, São Paulo, SP]</td>\n",
              "      <td>NaN</td>\n",
              "      <td>NaN</td>\n",
              "      <td>NaN</td>\n",
              "      <td>NaN</td>\n",
              "    </tr>\n",
              "    <tr>\n",
              "      <th>1</th>\n",
              "      <td>5c45fb77dd8442002c6a4885</td>\n",
              "      <td>Modernista Coffee Stories</td>\n",
              "      <td>[{'id': '4bf58dd8d48988d1e0931735', 'name': 'C...</td>\n",
              "      <td>v-1606235327</td>\n",
              "      <td>False</td>\n",
              "      <td>R. Major Sertório, 92</td>\n",
              "      <td>-23.545687</td>\n",
              "      <td>-46.645006</td>\n",
              "      <td>[{'label': 'display', 'lat': -23.5456867471013...</td>\n",
              "      <td>BR</td>\n",
              "      <td>São Paulo</td>\n",
              "      <td>SP</td>\n",
              "      <td>Brasil</td>\n",
              "      <td>[R. Major Sertório, 92, São Paulo, SP, 01220-020]</td>\n",
              "      <td>01220-020</td>\n",
              "      <td>República</td>\n",
              "      <td>NaN</td>\n",
              "      <td>NaN</td>\n",
              "    </tr>\n",
              "    <tr>\n",
              "      <th>2</th>\n",
              "      <td>5a3971acacc5f50c9619d6f6</td>\n",
              "      <td>89°C Coffee Station</td>\n",
              "      <td>[{'id': '4bf58dd8d48988d1e0931735', 'name': 'C...</td>\n",
              "      <td>v-1606235327</td>\n",
              "      <td>False</td>\n",
              "      <td>Pç. da Liberdade, 169</td>\n",
              "      <td>-23.555484</td>\n",
              "      <td>-46.635238</td>\n",
              "      <td>[{'label': 'display', 'lat': -23.5554842459156...</td>\n",
              "      <td>BR</td>\n",
              "      <td>São Paulo</td>\n",
              "      <td>SP</td>\n",
              "      <td>Brasil</td>\n",
              "      <td>[Pç. da Liberdade, 169 (R. dos Estudantes), Sã...</td>\n",
              "      <td>01503-010</td>\n",
              "      <td>Liberdade</td>\n",
              "      <td>R. dos Estudantes</td>\n",
              "      <td>NaN</td>\n",
              "    </tr>\n",
              "    <tr>\n",
              "      <th>3</th>\n",
              "      <td>50b38da1e4b03641debdff27</td>\n",
              "      <td>Coffee</td>\n",
              "      <td>[{'id': '4bf58dd8d48988d16d941735', 'name': 'C...</td>\n",
              "      <td>v-1606235327</td>\n",
              "      <td>False</td>\n",
              "      <td>Banco de Tókio - Mitsubishi</td>\n",
              "      <td>-23.563580</td>\n",
              "      <td>-46.653522</td>\n",
              "      <td>[{'label': 'display', 'lat': -23.5635799770846...</td>\n",
              "      <td>BR</td>\n",
              "      <td>São Paulo</td>\n",
              "      <td>SP</td>\n",
              "      <td>Brasil</td>\n",
              "      <td>[Banco de Tókio - Mitsubishi, São Paulo, SP]</td>\n",
              "      <td>NaN</td>\n",
              "      <td>NaN</td>\n",
              "      <td>NaN</td>\n",
              "      <td>NaN</td>\n",
              "    </tr>\n",
              "    <tr>\n",
              "      <th>4</th>\n",
              "      <td>59d509bd50a6f07a61452229</td>\n",
              "      <td>Enjoy Coffee</td>\n",
              "      <td>[{'id': '4bf58dd8d48988d16d941735', 'name': 'C...</td>\n",
              "      <td>v-1606235327</td>\n",
              "      <td>False</td>\n",
              "      <td>Rua São Bento, 377</td>\n",
              "      <td>-23.545709</td>\n",
              "      <td>-46.635745</td>\n",
              "      <td>[{'label': 'display', 'lat': -23.5457092041654...</td>\n",
              "      <td>BR</td>\n",
              "      <td>São Paulo</td>\n",
              "      <td>SP</td>\n",
              "      <td>Brasil</td>\n",
              "      <td>[Rua São Bento, 377, São Paulo, SP, 01011-100]</td>\n",
              "      <td>01011-100</td>\n",
              "      <td>Sé</td>\n",
              "      <td>NaN</td>\n",
              "      <td>NaN</td>\n",
              "    </tr>\n",
              "    <tr>\n",
              "      <th>5</th>\n",
              "      <td>4da0d5eec6e96ea8c9c3b35d</td>\n",
              "      <td>Coffee Lab</td>\n",
              "      <td>[{'id': '4bf58dd8d48988d1e0931735', 'name': 'C...</td>\n",
              "      <td>v-1606235327</td>\n",
              "      <td>False</td>\n",
              "      <td>R. Fradique Coutinho, 1340</td>\n",
              "      <td>-23.556060</td>\n",
              "      <td>-46.691380</td>\n",
              "      <td>[{'label': 'display', 'lat': -23.5560595130229...</td>\n",
              "      <td>BR</td>\n",
              "      <td>São Paulo</td>\n",
              "      <td>SP</td>\n",
              "      <td>Brasil</td>\n",
              "      <td>[R. Fradique Coutinho, 1340, São Paulo, SP, 05...</td>\n",
              "      <td>05416-001</td>\n",
              "      <td>NaN</td>\n",
              "      <td>NaN</td>\n",
              "      <td>NaN</td>\n",
              "    </tr>\n",
              "    <tr>\n",
              "      <th>6</th>\n",
              "      <td>4e946b1346900e559d42f445</td>\n",
              "      <td>Coffee Shop - Sodexo</td>\n",
              "      <td>[{'id': '4bf58dd8d48988d16d941735', 'name': 'C...</td>\n",
              "      <td>v-1606235327</td>\n",
              "      <td>False</td>\n",
              "      <td>Praça Ramos- Votorantim Metais - 4º Andar</td>\n",
              "      <td>-23.545245</td>\n",
              "      <td>-46.638237</td>\n",
              "      <td>[{'label': 'display', 'lat': -23.5452451218314...</td>\n",
              "      <td>BR</td>\n",
              "      <td>São Paulo</td>\n",
              "      <td>SP</td>\n",
              "      <td>Brasil</td>\n",
              "      <td>[Praça Ramos- Votorantim Metais - 4º Andar, Sã...</td>\n",
              "      <td>NaN</td>\n",
              "      <td>NaN</td>\n",
              "      <td>NaN</td>\n",
              "      <td>NaN</td>\n",
              "    </tr>\n",
              "    <tr>\n",
              "      <th>7</th>\n",
              "      <td>5c7ab9543fcee8002c046ffe</td>\n",
              "      <td>Coffee Sweet Coffee</td>\n",
              "      <td>[{'id': '4bf58dd8d48988d16d941735', 'name': 'C...</td>\n",
              "      <td>v-1606235327</td>\n",
              "      <td>False</td>\n",
              "      <td>R. Barão de Tefé, 168</td>\n",
              "      <td>-23.527303</td>\n",
              "      <td>-46.676149</td>\n",
              "      <td>[{'label': 'display', 'lat': -23.527303, 'lng'...</td>\n",
              "      <td>BR</td>\n",
              "      <td>São Paulo</td>\n",
              "      <td>SP</td>\n",
              "      <td>Brasil</td>\n",
              "      <td>[R. Barão de Tefé, 168, São Paulo, SP, 05003-040]</td>\n",
              "      <td>05003-040</td>\n",
              "      <td>NaN</td>\n",
              "      <td>NaN</td>\n",
              "      <td>NaN</td>\n",
              "    </tr>\n",
              "    <tr>\n",
              "      <th>8</th>\n",
              "      <td>517f9fc0e4b0a270f64603e2</td>\n",
              "      <td>Açai Coffee</td>\n",
              "      <td>[{'id': '4bf58dd8d48988d143941735', 'name': 'B...</td>\n",
              "      <td>v-1606235327</td>\n",
              "      <td>False</td>\n",
              "      <td>NaN</td>\n",
              "      <td>-23.547012</td>\n",
              "      <td>-46.634300</td>\n",
              "      <td>[{'label': 'display', 'lat': -23.547012, 'lng'...</td>\n",
              "      <td>BR</td>\n",
              "      <td>NaN</td>\n",
              "      <td>NaN</td>\n",
              "      <td>Brasil</td>\n",
              "      <td>NaN</td>\n",
              "      <td>NaN</td>\n",
              "      <td>NaN</td>\n",
              "      <td>NaN</td>\n",
              "      <td>NaN</td>\n",
              "    </tr>\n",
              "    <tr>\n",
              "      <th>9</th>\n",
              "      <td>4bd074b4a8b3a5938dde635f</td>\n",
              "      <td>Coffee Corner</td>\n",
              "      <td>[{'id': '4bf58dd8d48988d116941735', 'name': 'B...</td>\n",
              "      <td>v-1606235327</td>\n",
              "      <td>False</td>\n",
              "      <td>R. da Consolação, 2593</td>\n",
              "      <td>-23.556665</td>\n",
              "      <td>-46.663851</td>\n",
              "      <td>[{'label': 'display', 'lat': -23.5566649483494...</td>\n",
              "      <td>BR</td>\n",
              "      <td>São Paulo</td>\n",
              "      <td>SP</td>\n",
              "      <td>Brasil</td>\n",
              "      <td>[R. da Consolação, 2593 (Av. Rebouças), São Pa...</td>\n",
              "      <td>01416-001</td>\n",
              "      <td>NaN</td>\n",
              "      <td>Av. Rebouças</td>\n",
              "      <td>NaN</td>\n",
              "    </tr>\n",
              "  </tbody>\n",
              "</table>\n",
              "</div>"
            ],
            "text/plain": [
              "                         id  ... venuePage.id\n",
              "0  50afc640e4b0a2172d570cd6  ...          NaN\n",
              "1  5c45fb77dd8442002c6a4885  ...          NaN\n",
              "2  5a3971acacc5f50c9619d6f6  ...          NaN\n",
              "3  50b38da1e4b03641debdff27  ...          NaN\n",
              "4  59d509bd50a6f07a61452229  ...          NaN\n",
              "5  4da0d5eec6e96ea8c9c3b35d  ...          NaN\n",
              "6  4e946b1346900e559d42f445  ...          NaN\n",
              "7  5c7ab9543fcee8002c046ffe  ...          NaN\n",
              "8  517f9fc0e4b0a270f64603e2  ...          NaN\n",
              "9  4bd074b4a8b3a5938dde635f  ...          NaN\n",
              "\n",
              "[10 rows x 18 columns]"
            ]
          },
          "metadata": {
            "tags": []
          },
          "execution_count": 100
        }
      ]
    },
    {
      "cell_type": "code",
      "metadata": {
        "id": "SnQ26n4q4-xp",
        "colab": {
          "base_uri": "https://localhost:8080/",
          "height": 221
        },
        "outputId": "3fedf016-a20d-4359-bf67-ff287e01a46d"
      },
      "source": [
        "filtered_columns = ['name', 'categories', 'location.neighborhood', 'location.lat', 'location.lng', 'id'] # + [col for col in coffee_df.columns if col.startswith('location.')]\n",
        "filtered_coffee = coffee_df.loc[:, filtered_columns]\n",
        "# filtered_coffee.head()\n",
        "\n",
        "filtered_coffee['categories'] = filtered_coffee.apply(get_category_type, axis=1)\n",
        "filtered_coffee.columns = [column.split('.')[-1] for column in filtered_coffee.columns]\n",
        "print(filtered_coffee.shape)\n",
        "filtered_coffee.head()"
      ],
      "execution_count": 101,
      "outputs": [
        {
          "output_type": "stream",
          "text": [
            "(50, 6)\n"
          ],
          "name": "stdout"
        },
        {
          "output_type": "execute_result",
          "data": {
            "text/html": [
              "<div>\n",
              "<style scoped>\n",
              "    .dataframe tbody tr th:only-of-type {\n",
              "        vertical-align: middle;\n",
              "    }\n",
              "\n",
              "    .dataframe tbody tr th {\n",
              "        vertical-align: top;\n",
              "    }\n",
              "\n",
              "    .dataframe thead th {\n",
              "        text-align: right;\n",
              "    }\n",
              "</style>\n",
              "<table border=\"1\" class=\"dataframe\">\n",
              "  <thead>\n",
              "    <tr style=\"text-align: right;\">\n",
              "      <th></th>\n",
              "      <th>name</th>\n",
              "      <th>categories</th>\n",
              "      <th>neighborhood</th>\n",
              "      <th>lat</th>\n",
              "      <th>lng</th>\n",
              "      <th>id</th>\n",
              "    </tr>\n",
              "  </thead>\n",
              "  <tbody>\n",
              "    <tr>\n",
              "      <th>0</th>\n",
              "      <td>Açaí Coffee</td>\n",
              "      <td>Deli / Bodega</td>\n",
              "      <td>NaN</td>\n",
              "      <td>-23.545237</td>\n",
              "      <td>-46.634642</td>\n",
              "      <td>50afc640e4b0a2172d570cd6</td>\n",
              "    </tr>\n",
              "    <tr>\n",
              "      <th>1</th>\n",
              "      <td>Modernista Coffee Stories</td>\n",
              "      <td>Coffee Shop</td>\n",
              "      <td>República</td>\n",
              "      <td>-23.545687</td>\n",
              "      <td>-46.645006</td>\n",
              "      <td>5c45fb77dd8442002c6a4885</td>\n",
              "    </tr>\n",
              "    <tr>\n",
              "      <th>2</th>\n",
              "      <td>89°C Coffee Station</td>\n",
              "      <td>Coffee Shop</td>\n",
              "      <td>Liberdade</td>\n",
              "      <td>-23.555484</td>\n",
              "      <td>-46.635238</td>\n",
              "      <td>5a3971acacc5f50c9619d6f6</td>\n",
              "    </tr>\n",
              "    <tr>\n",
              "      <th>3</th>\n",
              "      <td>Coffee</td>\n",
              "      <td>Café</td>\n",
              "      <td>NaN</td>\n",
              "      <td>-23.563580</td>\n",
              "      <td>-46.653522</td>\n",
              "      <td>50b38da1e4b03641debdff27</td>\n",
              "    </tr>\n",
              "    <tr>\n",
              "      <th>4</th>\n",
              "      <td>Enjoy Coffee</td>\n",
              "      <td>Café</td>\n",
              "      <td>Sé</td>\n",
              "      <td>-23.545709</td>\n",
              "      <td>-46.635745</td>\n",
              "      <td>59d509bd50a6f07a61452229</td>\n",
              "    </tr>\n",
              "  </tbody>\n",
              "</table>\n",
              "</div>"
            ],
            "text/plain": [
              "                        name  ...                        id\n",
              "0                Açaí Coffee  ...  50afc640e4b0a2172d570cd6\n",
              "1  Modernista Coffee Stories  ...  5c45fb77dd8442002c6a4885\n",
              "2        89°C Coffee Station  ...  5a3971acacc5f50c9619d6f6\n",
              "3                     Coffee  ...  50b38da1e4b03641debdff27\n",
              "4               Enjoy Coffee  ...  59d509bd50a6f07a61452229\n",
              "\n",
              "[5 rows x 6 columns]"
            ]
          },
          "metadata": {
            "tags": []
          },
          "execution_count": 101
        }
      ]
    },
    {
      "cell_type": "code",
      "metadata": {
        "id": "G3D-yMF0F4sO",
        "outputId": "09fdaed1-e313-4bb8-b17c-7ce2431fd6bc",
        "colab": {
          "base_uri": "https://localhost:8080/"
        }
      },
      "source": [
        "address = 'Sao Paulo, SP'\n",
        "\n",
        "geolocator = Nominatim(user_agent=\"foursquare_agent\")\n",
        "location = geolocator.geocode(address)\n",
        "latitude = location.latitude\n",
        "longitude = location.longitude\n",
        "print(latitude, longitude)"
      ],
      "execution_count": 103,
      "outputs": [
        {
          "output_type": "stream",
          "text": [
            "-23.5506507 -46.6333824\n"
          ],
          "name": "stdout"
        }
      ]
    },
    {
      "cell_type": "code",
      "metadata": {
        "id": "a3k3Ox-YEysq",
        "outputId": "366db653-f286-4aba-cb31-1839ef29a48e",
        "colab": {
          "base_uri": "https://localhost:8080/",
          "height": 712
        }
      },
      "source": [
        "venues_map = folium.Map(location=[latitude, longitude], zoom_start=12) # generate map centred around the Conrad Hotel\n",
        "\n",
        "for lat, lng, label in zip(filtered_coffee.lat, filtered_coffee.lng, filtered_coffee.categories):\n",
        "    folium.CircleMarker(\n",
        "        [lat, lng],\n",
        "        radius=5,\n",
        "        color='blue',\n",
        "        popup=label,\n",
        "        fill = True,\n",
        "        fill_color='blue',\n",
        "        fill_opacity=0.6\n",
        "    ).add_to(venues_map)\n",
        "\n",
        "# display map\n",
        "venues_map"
      ],
      "execution_count": 107,
      "outputs": [
        {
          "output_type": "execute_result",
          "data": {
            "text/html": [
              "<div style=\"width:100%;\"><div style=\"position:relative;width:100%;height:0;padding-bottom:60%;\"><span style=\"color:#565656\">Make this Notebook Trusted to load map: File -> Trust Notebook</span><iframe src=\"about:blank\" style=\"position:absolute;width:100%;height:100%;left:0;top:0;border:none !important;\" data-html=PCFET0NUWVBFIGh0bWw+CjxoZWFkPiAgICAKICAgIDxtZXRhIGh0dHAtZXF1aXY9ImNvbnRlbnQtdHlwZSIgY29udGVudD0idGV4dC9odG1sOyBjaGFyc2V0PVVURi04IiAvPgogICAgPHNjcmlwdD5MX1BSRUZFUl9DQU5WQVM9ZmFsc2U7IExfTk9fVE9VQ0g9ZmFsc2U7IExfRElTQUJMRV8zRD1mYWxzZTs8L3NjcmlwdD4KICAgIDxzY3JpcHQgc3JjPSJodHRwczovL2Nkbi5qc2RlbGl2ci5uZXQvbnBtL2xlYWZsZXRAMS40LjAvZGlzdC9sZWFmbGV0LmpzIj48L3NjcmlwdD4KICAgIDxzY3JpcHQgc3JjPSJodHRwczovL2NvZGUuanF1ZXJ5LmNvbS9qcXVlcnktMS4xMi40Lm1pbi5qcyI+PC9zY3JpcHQ+CiAgICA8c2NyaXB0IHNyYz0iaHR0cHM6Ly9tYXhjZG4uYm9vdHN0cmFwY2RuLmNvbS9ib290c3RyYXAvMy4yLjAvanMvYm9vdHN0cmFwLm1pbi5qcyI+PC9zY3JpcHQ+CiAgICA8c2NyaXB0IHNyYz0iaHR0cHM6Ly9jZG5qcy5jbG91ZGZsYXJlLmNvbS9hamF4L2xpYnMvTGVhZmxldC5hd2Vzb21lLW1hcmtlcnMvMi4wLjIvbGVhZmxldC5hd2Vzb21lLW1hcmtlcnMuanMiPjwvc2NyaXB0PgogICAgPGxpbmsgcmVsPSJzdHlsZXNoZWV0IiBocmVmPSJodHRwczovL2Nkbi5qc2RlbGl2ci5uZXQvbnBtL2xlYWZsZXRAMS40LjAvZGlzdC9sZWFmbGV0LmNzcyIvPgogICAgPGxpbmsgcmVsPSJzdHlsZXNoZWV0IiBocmVmPSJodHRwczovL21heGNkbi5ib290c3RyYXBjZG4uY29tL2Jvb3RzdHJhcC8zLjIuMC9jc3MvYm9vdHN0cmFwLm1pbi5jc3MiLz4KICAgIDxsaW5rIHJlbD0ic3R5bGVzaGVldCIgaHJlZj0iaHR0cHM6Ly9tYXhjZG4uYm9vdHN0cmFwY2RuLmNvbS9ib290c3RyYXAvMy4yLjAvY3NzL2Jvb3RzdHJhcC10aGVtZS5taW4uY3NzIi8+CiAgICA8bGluayByZWw9InN0eWxlc2hlZXQiIGhyZWY9Imh0dHBzOi8vbWF4Y2RuLmJvb3RzdHJhcGNkbi5jb20vZm9udC1hd2Vzb21lLzQuNi4zL2Nzcy9mb250LWF3ZXNvbWUubWluLmNzcyIvPgogICAgPGxpbmsgcmVsPSJzdHlsZXNoZWV0IiBocmVmPSJodHRwczovL2NkbmpzLmNsb3VkZmxhcmUuY29tL2FqYXgvbGlicy9MZWFmbGV0LmF3ZXNvbWUtbWFya2Vycy8yLjAuMi9sZWFmbGV0LmF3ZXNvbWUtbWFya2Vycy5jc3MiLz4KICAgIDxsaW5rIHJlbD0ic3R5bGVzaGVldCIgaHJlZj0iaHR0cHM6Ly9yYXdjZG4uZ2l0aGFjay5jb20vcHl0aG9uLXZpc3VhbGl6YXRpb24vZm9saXVtL21hc3Rlci9mb2xpdW0vdGVtcGxhdGVzL2xlYWZsZXQuYXdlc29tZS5yb3RhdGUuY3NzIi8+CiAgICA8c3R5bGU+aHRtbCwgYm9keSB7d2lkdGg6IDEwMCU7aGVpZ2h0OiAxMDAlO21hcmdpbjogMDtwYWRkaW5nOiAwO308L3N0eWxlPgogICAgPHN0eWxlPiNtYXAge3Bvc2l0aW9uOmFic29sdXRlO3RvcDowO2JvdHRvbTowO3JpZ2h0OjA7bGVmdDowO308L3N0eWxlPgogICAgCiAgICA8bWV0YSBuYW1lPSJ2aWV3cG9ydCIgY29udGVudD0id2lkdGg9ZGV2aWNlLXdpZHRoLAogICAgICAgIGluaXRpYWwtc2NhbGU9MS4wLCBtYXhpbXVtLXNjYWxlPTEuMCwgdXNlci1zY2FsYWJsZT1ubyIgLz4KICAgIDxzdHlsZT4jbWFwXzMyNThmMzA2ODEyOTRlYmZiODg0NmJlYzZjYWE5M2VlIHsKICAgICAgICBwb3NpdGlvbjogcmVsYXRpdmU7CiAgICAgICAgd2lkdGg6IDEwMC4wJTsKICAgICAgICBoZWlnaHQ6IDEwMC4wJTsKICAgICAgICBsZWZ0OiAwLjAlOwogICAgICAgIHRvcDogMC4wJTsKICAgICAgICB9CiAgICA8L3N0eWxlPgo8L2hlYWQ+Cjxib2R5PiAgICAKICAgIAogICAgPGRpdiBjbGFzcz0iZm9saXVtLW1hcCIgaWQ9Im1hcF8zMjU4ZjMwNjgxMjk0ZWJmYjg4NDZiZWM2Y2FhOTNlZSIgPjwvZGl2Pgo8L2JvZHk+CjxzY3JpcHQ+ICAgIAogICAgCiAgICAKICAgICAgICB2YXIgYm91bmRzID0gbnVsbDsKICAgIAoKICAgIHZhciBtYXBfMzI1OGYzMDY4MTI5NGViZmI4ODQ2YmVjNmNhYTkzZWUgPSBMLm1hcCgKICAgICAgICAnbWFwXzMyNThmMzA2ODEyOTRlYmZiODg0NmJlYzZjYWE5M2VlJywgewogICAgICAgIGNlbnRlcjogWy0yMy41NTA2NTA3LCAtNDYuNjMzMzgyNF0sCiAgICAgICAgem9vbTogMTIsCiAgICAgICAgbWF4Qm91bmRzOiBib3VuZHMsCiAgICAgICAgbGF5ZXJzOiBbXSwKICAgICAgICB3b3JsZENvcHlKdW1wOiBmYWxzZSwKICAgICAgICBjcnM6IEwuQ1JTLkVQU0czODU3LAogICAgICAgIHpvb21Db250cm9sOiB0cnVlLAogICAgICAgIH0pOwoKCiAgICAKICAgIHZhciB0aWxlX2xheWVyX2MwNmUxZjJhYThlYzQzNTY4M2Y5ZmIyYmE1OTNkOGExID0gTC50aWxlTGF5ZXIoCiAgICAgICAgJ2h0dHBzOi8ve3N9LnRpbGUub3BlbnN0cmVldG1hcC5vcmcve3p9L3t4fS97eX0ucG5nJywKICAgICAgICB7CiAgICAgICAgImF0dHJpYnV0aW9uIjogbnVsbCwKICAgICAgICAiZGV0ZWN0UmV0aW5hIjogZmFsc2UsCiAgICAgICAgIm1heE5hdGl2ZVpvb20iOiAxOCwKICAgICAgICAibWF4Wm9vbSI6IDE4LAogICAgICAgICJtaW5ab29tIjogMCwKICAgICAgICAibm9XcmFwIjogZmFsc2UsCiAgICAgICAgIm9wYWNpdHkiOiAxLAogICAgICAgICJzdWJkb21haW5zIjogImFiYyIsCiAgICAgICAgInRtcyI6IGZhbHNlCn0pLmFkZFRvKG1hcF8zMjU4ZjMwNjgxMjk0ZWJmYjg4NDZiZWM2Y2FhOTNlZSk7CiAgICAKICAgICAgICAgICAgdmFyIGNpcmNsZV9tYXJrZXJfYTc1ZGExMTg4MWI1NDZiYWIxMjkxYzNlMTBkMzY0OWUgPSBMLmNpcmNsZU1hcmtlcigKICAgICAgICAgICAgICAgIFstMjMuNTQ1MjM3MzkyNTI1NTQsIC00Ni42MzQ2NDIyNTAwMTkzMjZdLAogICAgICAgICAgICAgICAgewogICJidWJibGluZ01vdXNlRXZlbnRzIjogdHJ1ZSwKICAiY29sb3IiOiAiYmx1ZSIsCiAgImRhc2hBcnJheSI6IG51bGwsCiAgImRhc2hPZmZzZXQiOiBudWxsLAogICJmaWxsIjogdHJ1ZSwKICAiZmlsbENvbG9yIjogImJsdWUiLAogICJmaWxsT3BhY2l0eSI6IDAuNiwKICAiZmlsbFJ1bGUiOiAiZXZlbm9kZCIsCiAgImxpbmVDYXAiOiAicm91bmQiLAogICJsaW5lSm9pbiI6ICJyb3VuZCIsCiAgIm9wYWNpdHkiOiAxLjAsCiAgInJhZGl1cyI6IDUsCiAgInN0cm9rZSI6IHRydWUsCiAgIndlaWdodCI6IDMKfQogICAgICAgICAgICAgICAgKQogICAgICAgICAgICAgICAgLmFkZFRvKG1hcF8zMjU4ZjMwNjgxMjk0ZWJmYjg4NDZiZWM2Y2FhOTNlZSk7CiAgICAgICAgICAgIAogICAgCiAgICAgICAgICAgIHZhciBwb3B1cF9hZTU1ZjA0YTI4YTI0ZDllOGJjZWU2NDk2MGM0Yjk2NiA9IEwucG9wdXAoe21heFdpZHRoOiAnMTAwJScKICAgICAgICAgICAgCiAgICAgICAgICAgIH0pOwoKICAgICAgICAgICAgCiAgICAgICAgICAgICAgICB2YXIgaHRtbF8zN2I1MDZjYjA3MzY0MGY1OTRlZTQzOGE5MTZkYzJkOSA9ICQoYDxkaXYgaWQ9Imh0bWxfMzdiNTA2Y2IwNzM2NDBmNTk0ZWU0MzhhOTE2ZGMyZDkiIHN0eWxlPSJ3aWR0aDogMTAwLjAlOyBoZWlnaHQ6IDEwMC4wJTsiPkRlbGkgLyBCb2RlZ2E8L2Rpdj5gKVswXTsKICAgICAgICAgICAgICAgIHBvcHVwX2FlNTVmMDRhMjhhMjRkOWU4YmNlZTY0OTYwYzRiOTY2LnNldENvbnRlbnQoaHRtbF8zN2I1MDZjYjA3MzY0MGY1OTRlZTQzOGE5MTZkYzJkOSk7CiAgICAgICAgICAgIAoKICAgICAgICAgICAgY2lyY2xlX21hcmtlcl9hNzVkYTExODgxYjU0NmJhYjEyOTFjM2UxMGQzNjQ5ZS5iaW5kUG9wdXAocG9wdXBfYWU1NWYwNGEyOGEyNGQ5ZThiY2VlNjQ5NjBjNGI5NjYpCiAgICAgICAgICAgIDsKCiAgICAgICAgICAgIAogICAgICAgIAogICAgCiAgICAgICAgICAgIHZhciBjaXJjbGVfbWFya2VyX2RlZjI1NjNmYzZhMTQwNzg5ZTQyNjIwODkyZGEyNWQ2ID0gTC5jaXJjbGVNYXJrZXIoCiAgICAgICAgICAgICAgICBbLTIzLjU0NTY4Njc0NzEwMTMzNSwgLTQ2LjY0NTAwNTUzNjg2MDQyNF0sCiAgICAgICAgICAgICAgICB7CiAgImJ1YmJsaW5nTW91c2VFdmVudHMiOiB0cnVlLAogICJjb2xvciI6ICJibHVlIiwKICAiZGFzaEFycmF5IjogbnVsbCwKICAiZGFzaE9mZnNldCI6IG51bGwsCiAgImZpbGwiOiB0cnVlLAogICJmaWxsQ29sb3IiOiAiYmx1ZSIsCiAgImZpbGxPcGFjaXR5IjogMC42LAogICJmaWxsUnVsZSI6ICJldmVub2RkIiwKICAibGluZUNhcCI6ICJyb3VuZCIsCiAgImxpbmVKb2luIjogInJvdW5kIiwKICAib3BhY2l0eSI6IDEuMCwKICAicmFkaXVzIjogNSwKICAic3Ryb2tlIjogdHJ1ZSwKICAid2VpZ2h0IjogMwp9CiAgICAgICAgICAgICAgICApCiAgICAgICAgICAgICAgICAuYWRkVG8obWFwXzMyNThmMzA2ODEyOTRlYmZiODg0NmJlYzZjYWE5M2VlKTsKICAgICAgICAgICAgCiAgICAKICAgICAgICAgICAgdmFyIHBvcHVwXzVkYWVjYzNjNTg2NzQxZDI4NjBkNWM3YmNjN2VlYTIwID0gTC5wb3B1cCh7bWF4V2lkdGg6ICcxMDAlJwogICAgICAgICAgICAKICAgICAgICAgICAgfSk7CgogICAgICAgICAgICAKICAgICAgICAgICAgICAgIHZhciBodG1sX2ZiZWZlN2U4YjBkNTQ5ZTBhZmE1ZjhkZTgxMDlmZGQwID0gJChgPGRpdiBpZD0iaHRtbF9mYmVmZTdlOGIwZDU0OWUwYWZhNWY4ZGU4MTA5ZmRkMCIgc3R5bGU9IndpZHRoOiAxMDAuMCU7IGhlaWdodDogMTAwLjAlOyI+Q29mZmVlIFNob3A8L2Rpdj5gKVswXTsKICAgICAgICAgICAgICAgIHBvcHVwXzVkYWVjYzNjNTg2NzQxZDI4NjBkNWM3YmNjN2VlYTIwLnNldENvbnRlbnQoaHRtbF9mYmVmZTdlOGIwZDU0OWUwYWZhNWY4ZGU4MTA5ZmRkMCk7CiAgICAgICAgICAgIAoKICAgICAgICAgICAgY2lyY2xlX21hcmtlcl9kZWYyNTYzZmM2YTE0MDc4OWU0MjYyMDg5MmRhMjVkNi5iaW5kUG9wdXAocG9wdXBfNWRhZWNjM2M1ODY3NDFkMjg2MGQ1YzdiY2M3ZWVhMjApCiAgICAgICAgICAgIDsKCiAgICAgICAgICAgIAogICAgICAgIAogICAgCiAgICAgICAgICAgIHZhciBjaXJjbGVfbWFya2VyX2YyODk5Y2M2ZTMxYTQwOWY5NmU2ZjYwYjY1NzEwZjEwID0gTC5jaXJjbGVNYXJrZXIoCiAgICAgICAgICAgICAgICBbLTIzLjU1NTQ4NDI0NTkxNTY5NywgLTQ2LjYzNTIzODM0MDg2NDc0Nl0sCiAgICAgICAgICAgICAgICB7CiAgImJ1YmJsaW5nTW91c2VFdmVudHMiOiB0cnVlLAogICJjb2xvciI6ICJibHVlIiwKICAiZGFzaEFycmF5IjogbnVsbCwKICAiZGFzaE9mZnNldCI6IG51bGwsCiAgImZpbGwiOiB0cnVlLAogICJmaWxsQ29sb3IiOiAiYmx1ZSIsCiAgImZpbGxPcGFjaXR5IjogMC42LAogICJmaWxsUnVsZSI6ICJldmVub2RkIiwKICAibGluZUNhcCI6ICJyb3VuZCIsCiAgImxpbmVKb2luIjogInJvdW5kIiwKICAib3BhY2l0eSI6IDEuMCwKICAicmFkaXVzIjogNSwKICAic3Ryb2tlIjogdHJ1ZSwKICAid2VpZ2h0IjogMwp9CiAgICAgICAgICAgICAgICApCiAgICAgICAgICAgICAgICAuYWRkVG8obWFwXzMyNThmMzA2ODEyOTRlYmZiODg0NmJlYzZjYWE5M2VlKTsKICAgICAgICAgICAgCiAgICAKICAgICAgICAgICAgdmFyIHBvcHVwXzNiNzAyYWIwMzA3YTRkODRiNTU4MTIwOTc1M2Q5OTI3ID0gTC5wb3B1cCh7bWF4V2lkdGg6ICcxMDAlJwogICAgICAgICAgICAKICAgICAgICAgICAgfSk7CgogICAgICAgICAgICAKICAgICAgICAgICAgICAgIHZhciBodG1sXzMxNDkzZmFlMzU2OTQxN2E5ZmViMjk4ODZmNDRhNmNhID0gJChgPGRpdiBpZD0iaHRtbF8zMTQ5M2ZhZTM1Njk0MTdhOWZlYjI5ODg2ZjQ0YTZjYSIgc3R5bGU9IndpZHRoOiAxMDAuMCU7IGhlaWdodDogMTAwLjAlOyI+Q29mZmVlIFNob3A8L2Rpdj5gKVswXTsKICAgICAgICAgICAgICAgIHBvcHVwXzNiNzAyYWIwMzA3YTRkODRiNTU4MTIwOTc1M2Q5OTI3LnNldENvbnRlbnQoaHRtbF8zMTQ5M2ZhZTM1Njk0MTdhOWZlYjI5ODg2ZjQ0YTZjYSk7CiAgICAgICAgICAgIAoKICAgICAgICAgICAgY2lyY2xlX21hcmtlcl9mMjg5OWNjNmUzMWE0MDlmOTZlNmY2MGI2NTcxMGYxMC5iaW5kUG9wdXAocG9wdXBfM2I3MDJhYjAzMDdhNGQ4NGI1NTgxMjA5NzUzZDk5MjcpCiAgICAgICAgICAgIDsKCiAgICAgICAgICAgIAogICAgICAgIAogICAgCiAgICAgICAgICAgIHZhciBjaXJjbGVfbWFya2VyXzFiMzBiMDlhNjYxMDQxZTZiM2I4NTAxYTcxOTkzNjE4ID0gTC5jaXJjbGVNYXJrZXIoCiAgICAgICAgICAgICAgICBbLTIzLjU2MzU3OTk3NzA4NDYyMiwgLTQ2LjY1MzUyMTc1MzE4OTk0XSwKICAgICAgICAgICAgICAgIHsKICAiYnViYmxpbmdNb3VzZUV2ZW50cyI6IHRydWUsCiAgImNvbG9yIjogImJsdWUiLAogICJkYXNoQXJyYXkiOiBudWxsLAogICJkYXNoT2Zmc2V0IjogbnVsbCwKICAiZmlsbCI6IHRydWUsCiAgImZpbGxDb2xvciI6ICJibHVlIiwKICAiZmlsbE9wYWNpdHkiOiAwLjYsCiAgImZpbGxSdWxlIjogImV2ZW5vZGQiLAogICJsaW5lQ2FwIjogInJvdW5kIiwKICAibGluZUpvaW4iOiAicm91bmQiLAogICJvcGFjaXR5IjogMS4wLAogICJyYWRpdXMiOiA1LAogICJzdHJva2UiOiB0cnVlLAogICJ3ZWlnaHQiOiAzCn0KICAgICAgICAgICAgICAgICkKICAgICAgICAgICAgICAgIC5hZGRUbyhtYXBfMzI1OGYzMDY4MTI5NGViZmI4ODQ2YmVjNmNhYTkzZWUpOwogICAgICAgICAgICAKICAgIAogICAgICAgICAgICB2YXIgcG9wdXBfOWIwZTg2NDM2ZGM1NDg3MWIwODRjNzQxMDI4MmMxZjQgPSBMLnBvcHVwKHttYXhXaWR0aDogJzEwMCUnCiAgICAgICAgICAgIAogICAgICAgICAgICB9KTsKCiAgICAgICAgICAgIAogICAgICAgICAgICAgICAgdmFyIGh0bWxfNTg0YzQ2OGNkZjY3NGQzMDg2MmRiZGVlYTQ1MmQyM2MgPSAkKGA8ZGl2IGlkPSJodG1sXzU4NGM0NjhjZGY2NzRkMzA4NjJkYmRlZWE0NTJkMjNjIiBzdHlsZT0id2lkdGg6IDEwMC4wJTsgaGVpZ2h0OiAxMDAuMCU7Ij5DYWbDqTwvZGl2PmApWzBdOwogICAgICAgICAgICAgICAgcG9wdXBfOWIwZTg2NDM2ZGM1NDg3MWIwODRjNzQxMDI4MmMxZjQuc2V0Q29udGVudChodG1sXzU4NGM0NjhjZGY2NzRkMzA4NjJkYmRlZWE0NTJkMjNjKTsKICAgICAgICAgICAgCgogICAgICAgICAgICBjaXJjbGVfbWFya2VyXzFiMzBiMDlhNjYxMDQxZTZiM2I4NTAxYTcxOTkzNjE4LmJpbmRQb3B1cChwb3B1cF85YjBlODY0MzZkYzU0ODcxYjA4NGM3NDEwMjgyYzFmNCkKICAgICAgICAgICAgOwoKICAgICAgICAgICAgCiAgICAgICAgCiAgICAKICAgICAgICAgICAgdmFyIGNpcmNsZV9tYXJrZXJfZmM3M2VlOTU2MjE5NDRmMGE5NDY2Zjc1Nzc1MDYwODggPSBMLmNpcmNsZU1hcmtlcigKICAgICAgICAgICAgICAgIFstMjMuNTQ1NzA5MjA0MTY1NDg3LCAtNDYuNjM1NzQ0OTgzMTE4MjZdLAogICAgICAgICAgICAgICAgewogICJidWJibGluZ01vdXNlRXZlbnRzIjogdHJ1ZSwKICAiY29sb3IiOiAiYmx1ZSIsCiAgImRhc2hBcnJheSI6IG51bGwsCiAgImRhc2hPZmZzZXQiOiBudWxsLAogICJmaWxsIjogdHJ1ZSwKICAiZmlsbENvbG9yIjogImJsdWUiLAogICJmaWxsT3BhY2l0eSI6IDAuNiwKICAiZmlsbFJ1bGUiOiAiZXZlbm9kZCIsCiAgImxpbmVDYXAiOiAicm91bmQiLAogICJsaW5lSm9pbiI6ICJyb3VuZCIsCiAgIm9wYWNpdHkiOiAxLjAsCiAgInJhZGl1cyI6IDUsCiAgInN0cm9rZSI6IHRydWUsCiAgIndlaWdodCI6IDMKfQogICAgICAgICAgICAgICAgKQogICAgICAgICAgICAgICAgLmFkZFRvKG1hcF8zMjU4ZjMwNjgxMjk0ZWJmYjg4NDZiZWM2Y2FhOTNlZSk7CiAgICAgICAgICAgIAogICAgCiAgICAgICAgICAgIHZhciBwb3B1cF9jNGNjNGIxMjE5NmE0OWE3YmM1YjhiOWY3OGY2ZWIzZiA9IEwucG9wdXAoe21heFdpZHRoOiAnMTAwJScKICAgICAgICAgICAgCiAgICAgICAgICAgIH0pOwoKICAgICAgICAgICAgCiAgICAgICAgICAgICAgICB2YXIgaHRtbF9hZmZjNmRjNzc2NmU0MDQ4OTFmNzY3NDM1YzA1ZGYwZiA9ICQoYDxkaXYgaWQ9Imh0bWxfYWZmYzZkYzc3NjZlNDA0ODkxZjc2NzQzNWMwNWRmMGYiIHN0eWxlPSJ3aWR0aDogMTAwLjAlOyBoZWlnaHQ6IDEwMC4wJTsiPkNhZsOpPC9kaXY+YClbMF07CiAgICAgICAgICAgICAgICBwb3B1cF9jNGNjNGIxMjE5NmE0OWE3YmM1YjhiOWY3OGY2ZWIzZi5zZXRDb250ZW50KGh0bWxfYWZmYzZkYzc3NjZlNDA0ODkxZjc2NzQzNWMwNWRmMGYpOwogICAgICAgICAgICAKCiAgICAgICAgICAgIGNpcmNsZV9tYXJrZXJfZmM3M2VlOTU2MjE5NDRmMGE5NDY2Zjc1Nzc1MDYwODguYmluZFBvcHVwKHBvcHVwX2M0Y2M0YjEyMTk2YTQ5YTdiYzViOGI5Zjc4ZjZlYjNmKQogICAgICAgICAgICA7CgogICAgICAgICAgICAKICAgICAgICAKICAgIAogICAgICAgICAgICB2YXIgY2lyY2xlX21hcmtlcl83YmUxZWI1YmUzNWY0ZTM3ODhkY2E2ODg1NjQ0MmJiMSA9IEwuY2lyY2xlTWFya2VyKAogICAgICAgICAgICAgICAgWy0yMy41NTYwNTk1MTMwMjI5NiwgLTQ2LjY5MTM3OTgyMDM2Mjg4XSwKICAgICAgICAgICAgICAgIHsKICAiYnViYmxpbmdNb3VzZUV2ZW50cyI6IHRydWUsCiAgImNvbG9yIjogImJsdWUiLAogICJkYXNoQXJyYXkiOiBudWxsLAogICJkYXNoT2Zmc2V0IjogbnVsbCwKICAiZmlsbCI6IHRydWUsCiAgImZpbGxDb2xvciI6ICJibHVlIiwKICAiZmlsbE9wYWNpdHkiOiAwLjYsCiAgImZpbGxSdWxlIjogImV2ZW5vZGQiLAogICJsaW5lQ2FwIjogInJvdW5kIiwKICAibGluZUpvaW4iOiAicm91bmQiLAogICJvcGFjaXR5IjogMS4wLAogICJyYWRpdXMiOiA1LAogICJzdHJva2UiOiB0cnVlLAogICJ3ZWlnaHQiOiAzCn0KICAgICAgICAgICAgICAgICkKICAgICAgICAgICAgICAgIC5hZGRUbyhtYXBfMzI1OGYzMDY4MTI5NGViZmI4ODQ2YmVjNmNhYTkzZWUpOwogICAgICAgICAgICAKICAgIAogICAgICAgICAgICB2YXIgcG9wdXBfZjM1MzM4YzBiOGRkNDU3NGJkMDRlYjRiNzY3NzNiNTEgPSBMLnBvcHVwKHttYXhXaWR0aDogJzEwMCUnCiAgICAgICAgICAgIAogICAgICAgICAgICB9KTsKCiAgICAgICAgICAgIAogICAgICAgICAgICAgICAgdmFyIGh0bWxfNzFjZjI3MDM0MmZiNDdjZjllMDg0MjZmYmI0ZWNmNGQgPSAkKGA8ZGl2IGlkPSJodG1sXzcxY2YyNzAzNDJmYjQ3Y2Y5ZTA4NDI2ZmJiNGVjZjRkIiBzdHlsZT0id2lkdGg6IDEwMC4wJTsgaGVpZ2h0OiAxMDAuMCU7Ij5Db2ZmZWUgU2hvcDwvZGl2PmApWzBdOwogICAgICAgICAgICAgICAgcG9wdXBfZjM1MzM4YzBiOGRkNDU3NGJkMDRlYjRiNzY3NzNiNTEuc2V0Q29udGVudChodG1sXzcxY2YyNzAzNDJmYjQ3Y2Y5ZTA4NDI2ZmJiNGVjZjRkKTsKICAgICAgICAgICAgCgogICAgICAgICAgICBjaXJjbGVfbWFya2VyXzdiZTFlYjViZTM1ZjRlMzc4OGRjYTY4ODU2NDQyYmIxLmJpbmRQb3B1cChwb3B1cF9mMzUzMzhjMGI4ZGQ0NTc0YmQwNGViNGI3Njc3M2I1MSkKICAgICAgICAgICAgOwoKICAgICAgICAgICAgCiAgICAgICAgCiAgICAKICAgICAgICAgICAgdmFyIGNpcmNsZV9tYXJrZXJfZTRmMmMyYjkzNTlmNDVhZDk2NTM5OWIxN2IwZWExOTIgPSBMLmNpcmNsZU1hcmtlcigKICAgICAgICAgICAgICAgIFstMjMuNTQ1MjQ1MTIxODMxNDE0LCAtNDYuNjM4MjM2OTE4Mzg4NTZdLAogICAgICAgICAgICAgICAgewogICJidWJibGluZ01vdXNlRXZlbnRzIjogdHJ1ZSwKICAiY29sb3IiOiAiYmx1ZSIsCiAgImRhc2hBcnJheSI6IG51bGwsCiAgImRhc2hPZmZzZXQiOiBudWxsLAogICJmaWxsIjogdHJ1ZSwKICAiZmlsbENvbG9yIjogImJsdWUiLAogICJmaWxsT3BhY2l0eSI6IDAuNiwKICAiZmlsbFJ1bGUiOiAiZXZlbm9kZCIsCiAgImxpbmVDYXAiOiAicm91bmQiLAogICJsaW5lSm9pbiI6ICJyb3VuZCIsCiAgIm9wYWNpdHkiOiAxLjAsCiAgInJhZGl1cyI6IDUsCiAgInN0cm9rZSI6IHRydWUsCiAgIndlaWdodCI6IDMKfQogICAgICAgICAgICAgICAgKQogICAgICAgICAgICAgICAgLmFkZFRvKG1hcF8zMjU4ZjMwNjgxMjk0ZWJmYjg4NDZiZWM2Y2FhOTNlZSk7CiAgICAgICAgICAgIAogICAgCiAgICAgICAgICAgIHZhciBwb3B1cF85Mjc5ZmQzNjI1MmE0OWRlOTg2MDFiODZkODRjYTcyOCA9IEwucG9wdXAoe21heFdpZHRoOiAnMTAwJScKICAgICAgICAgICAgCiAgICAgICAgICAgIH0pOwoKICAgICAgICAgICAgCiAgICAgICAgICAgICAgICB2YXIgaHRtbF85OTEyOTQ4YmY3NWQ0MzI1OWEzNjQ5MmY4ZDYxYjFmNSA9ICQoYDxkaXYgaWQ9Imh0bWxfOTkxMjk0OGJmNzVkNDMyNTlhMzY0OTJmOGQ2MWIxZjUiIHN0eWxlPSJ3aWR0aDogMTAwLjAlOyBoZWlnaHQ6IDEwMC4wJTsiPkNhZsOpPC9kaXY+YClbMF07CiAgICAgICAgICAgICAgICBwb3B1cF85Mjc5ZmQzNjI1MmE0OWRlOTg2MDFiODZkODRjYTcyOC5zZXRDb250ZW50KGh0bWxfOTkxMjk0OGJmNzVkNDMyNTlhMzY0OTJmOGQ2MWIxZjUpOwogICAgICAgICAgICAKCiAgICAgICAgICAgIGNpcmNsZV9tYXJrZXJfZTRmMmMyYjkzNTlmNDVhZDk2NTM5OWIxN2IwZWExOTIuYmluZFBvcHVwKHBvcHVwXzkyNzlmZDM2MjUyYTQ5ZGU5ODYwMWI4NmQ4NGNhNzI4KQogICAgICAgICAgICA7CgogICAgICAgICAgICAKICAgICAgICAKICAgIAogICAgICAgICAgICB2YXIgY2lyY2xlX21hcmtlcl8zYmJlZWMyMTNjYWQ0OTZlOWUzNGQ3OTg0ZjgyZDQwMiA9IEwuY2lyY2xlTWFya2VyKAogICAgICAgICAgICAgICAgWy0yMy41MjczMDMsIC00Ni42NzYxNDldLAogICAgICAgICAgICAgICAgewogICJidWJibGluZ01vdXNlRXZlbnRzIjogdHJ1ZSwKICAiY29sb3IiOiAiYmx1ZSIsCiAgImRhc2hBcnJheSI6IG51bGwsCiAgImRhc2hPZmZzZXQiOiBudWxsLAogICJmaWxsIjogdHJ1ZSwKICAiZmlsbENvbG9yIjogImJsdWUiLAogICJmaWxsT3BhY2l0eSI6IDAuNiwKICAiZmlsbFJ1bGUiOiAiZXZlbm9kZCIsCiAgImxpbmVDYXAiOiAicm91bmQiLAogICJsaW5lSm9pbiI6ICJyb3VuZCIsCiAgIm9wYWNpdHkiOiAxLjAsCiAgInJhZGl1cyI6IDUsCiAgInN0cm9rZSI6IHRydWUsCiAgIndlaWdodCI6IDMKfQogICAgICAgICAgICAgICAgKQogICAgICAgICAgICAgICAgLmFkZFRvKG1hcF8zMjU4ZjMwNjgxMjk0ZWJmYjg4NDZiZWM2Y2FhOTNlZSk7CiAgICAgICAgICAgIAogICAgCiAgICAgICAgICAgIHZhciBwb3B1cF84YTRiNDVmZTJiYWQ0YTljYThkYzkzOTQ1YTA1OGZkNCA9IEwucG9wdXAoe21heFdpZHRoOiAnMTAwJScKICAgICAgICAgICAgCiAgICAgICAgICAgIH0pOwoKICAgICAgICAgICAgCiAgICAgICAgICAgICAgICB2YXIgaHRtbF9lNzBlMDkzN2E5OGI0NDliOWYyNThkYTc1YWQ2MGM3YiA9ICQoYDxkaXYgaWQ9Imh0bWxfZTcwZTA5MzdhOThiNDQ5YjlmMjU4ZGE3NWFkNjBjN2IiIHN0eWxlPSJ3aWR0aDogMTAwLjAlOyBoZWlnaHQ6IDEwMC4wJTsiPkNhZsOpPC9kaXY+YClbMF07CiAgICAgICAgICAgICAgICBwb3B1cF84YTRiNDVmZTJiYWQ0YTljYThkYzkzOTQ1YTA1OGZkNC5zZXRDb250ZW50KGh0bWxfZTcwZTA5MzdhOThiNDQ5YjlmMjU4ZGE3NWFkNjBjN2IpOwogICAgICAgICAgICAKCiAgICAgICAgICAgIGNpcmNsZV9tYXJrZXJfM2JiZWVjMjEzY2FkNDk2ZTllMzRkNzk4NGY4MmQ0MDIuYmluZFBvcHVwKHBvcHVwXzhhNGI0NWZlMmJhZDRhOWNhOGRjOTM5NDVhMDU4ZmQ0KQogICAgICAgICAgICA7CgogICAgICAgICAgICAKICAgICAgICAKICAgIAogICAgICAgICAgICB2YXIgY2lyY2xlX21hcmtlcl8zZTNiYmU2MmI1NmY0OGQ0OTkyZDQ4ZGViMzNmOWUwYiA9IEwuY2lyY2xlTWFya2VyKAogICAgICAgICAgICAgICAgWy0yMy41NDcwMTIsIC00Ni42MzQzXSwKICAgICAgICAgICAgICAgIHsKICAiYnViYmxpbmdNb3VzZUV2ZW50cyI6IHRydWUsCiAgImNvbG9yIjogImJsdWUiLAogICJkYXNoQXJyYXkiOiBudWxsLAogICJkYXNoT2Zmc2V0IjogbnVsbCwKICAiZmlsbCI6IHRydWUsCiAgImZpbGxDb2xvciI6ICJibHVlIiwKICAiZmlsbE9wYWNpdHkiOiAwLjYsCiAgImZpbGxSdWxlIjogImV2ZW5vZGQiLAogICJsaW5lQ2FwIjogInJvdW5kIiwKICAibGluZUpvaW4iOiAicm91bmQiLAogICJvcGFjaXR5IjogMS4wLAogICJyYWRpdXMiOiA1LAogICJzdHJva2UiOiB0cnVlLAogICJ3ZWlnaHQiOiAzCn0KICAgICAgICAgICAgICAgICkKICAgICAgICAgICAgICAgIC5hZGRUbyhtYXBfMzI1OGYzMDY4MTI5NGViZmI4ODQ2YmVjNmNhYTkzZWUpOwogICAgICAgICAgICAKICAgIAogICAgICAgICAgICB2YXIgcG9wdXBfYjU5ZTVlMWVkNzUwNGNlZDkyZTgzMTI2NzgyNjEyYjIgPSBMLnBvcHVwKHttYXhXaWR0aDogJzEwMCUnCiAgICAgICAgICAgIAogICAgICAgICAgICB9KTsKCiAgICAgICAgICAgIAogICAgICAgICAgICAgICAgdmFyIGh0bWxfOGM5YjhkMWE5ODJmNDJkOGFmNzU5ZjgxMzgwNDM1M2MgPSAkKGA8ZGl2IGlkPSJodG1sXzhjOWI4ZDFhOTgyZjQyZDhhZjc1OWY4MTM4MDQzNTNjIiBzdHlsZT0id2lkdGg6IDEwMC4wJTsgaGVpZ2h0OiAxMDAuMCU7Ij5CcmVha2Zhc3QgU3BvdDwvZGl2PmApWzBdOwogICAgICAgICAgICAgICAgcG9wdXBfYjU5ZTVlMWVkNzUwNGNlZDkyZTgzMTI2NzgyNjEyYjIuc2V0Q29udGVudChodG1sXzhjOWI4ZDFhOTgyZjQyZDhhZjc1OWY4MTM4MDQzNTNjKTsKICAgICAgICAgICAgCgogICAgICAgICAgICBjaXJjbGVfbWFya2VyXzNlM2JiZTYyYjU2ZjQ4ZDQ5OTJkNDhkZWIzM2Y5ZTBiLmJpbmRQb3B1cChwb3B1cF9iNTllNWUxZWQ3NTA0Y2VkOTJlODMxMjY3ODI2MTJiMikKICAgICAgICAgICAgOwoKICAgICAgICAgICAgCiAgICAgICAgCiAgICAKICAgICAgICAgICAgdmFyIGNpcmNsZV9tYXJrZXJfZDVkY2ZlNmIyZjZhNGNmZTljOGZkNmVlMTVkMWI3NjUgPSBMLmNpcmNsZU1hcmtlcigKICAgICAgICAgICAgICAgIFstMjMuNTU2NjY0OTQ4MzQ5NDIsIC00Ni42NjM4NTA5Mzk3Mjc1Ml0sCiAgICAgICAgICAgICAgICB7CiAgImJ1YmJsaW5nTW91c2VFdmVudHMiOiB0cnVlLAogICJjb2xvciI6ICJibHVlIiwKICAiZGFzaEFycmF5IjogbnVsbCwKICAiZGFzaE9mZnNldCI6IG51bGwsCiAgImZpbGwiOiB0cnVlLAogICJmaWxsQ29sb3IiOiAiYmx1ZSIsCiAgImZpbGxPcGFjaXR5IjogMC42LAogICJmaWxsUnVsZSI6ICJldmVub2RkIiwKICAibGluZUNhcCI6ICJyb3VuZCIsCiAgImxpbmVKb2luIjogInJvdW5kIiwKICAib3BhY2l0eSI6IDEuMCwKICAicmFkaXVzIjogNSwKICAic3Ryb2tlIjogdHJ1ZSwKICAid2VpZ2h0IjogMwp9CiAgICAgICAgICAgICAgICApCiAgICAgICAgICAgICAgICAuYWRkVG8obWFwXzMyNThmMzA2ODEyOTRlYmZiODg0NmJlYzZjYWE5M2VlKTsKICAgICAgICAgICAgCiAgICAKICAgICAgICAgICAgdmFyIHBvcHVwX2NiNGU5MjIyNTgwODQ5YzY4YWE3NGY5Y2I5NmUxNGVmID0gTC5wb3B1cCh7bWF4V2lkdGg6ICcxMDAlJwogICAgICAgICAgICAKICAgICAgICAgICAgfSk7CgogICAgICAgICAgICAKICAgICAgICAgICAgICAgIHZhciBodG1sX2ZkYWYzOTQxNTBkZjQ1MzM4YjFkNmU5NDQ5ZGE5YTMwID0gJChgPGRpdiBpZD0iaHRtbF9mZGFmMzk0MTUwZGY0NTMzOGIxZDZlOTQ0OWRhOWEzMCIgc3R5bGU9IndpZHRoOiAxMDAuMCU7IGhlaWdodDogMTAwLjAlOyI+QmFyPC9kaXY+YClbMF07CiAgICAgICAgICAgICAgICBwb3B1cF9jYjRlOTIyMjU4MDg0OWM2OGFhNzRmOWNiOTZlMTRlZi5zZXRDb250ZW50KGh0bWxfZmRhZjM5NDE1MGRmNDUzMzhiMWQ2ZTk0NDlkYTlhMzApOwogICAgICAgICAgICAKCiAgICAgICAgICAgIGNpcmNsZV9tYXJrZXJfZDVkY2ZlNmIyZjZhNGNmZTljOGZkNmVlMTVkMWI3NjUuYmluZFBvcHVwKHBvcHVwX2NiNGU5MjIyNTgwODQ5YzY4YWE3NGY5Y2I5NmUxNGVmKQogICAgICAgICAgICA7CgogICAgICAgICAgICAKICAgICAgICAKICAgIAogICAgICAgICAgICB2YXIgY2lyY2xlX21hcmtlcl9mNmNhOTVkYWUxMzg0ZmJmOWJkYTkxOWI4ZmRhZTgxMSA9IEwuY2lyY2xlTWFya2VyKAogICAgICAgICAgICAgICAgWy0yMy41Njc2MDg3NDE5MDU0NTMsIC00Ni42NDg1NDQzMzYyMzMwOF0sCiAgICAgICAgICAgICAgICB7CiAgImJ1YmJsaW5nTW91c2VFdmVudHMiOiB0cnVlLAogICJjb2xvciI6ICJibHVlIiwKICAiZGFzaEFycmF5IjogbnVsbCwKICAiZGFzaE9mZnNldCI6IG51bGwsCiAgImZpbGwiOiB0cnVlLAogICJmaWxsQ29sb3IiOiAiYmx1ZSIsCiAgImZpbGxPcGFjaXR5IjogMC42LAogICJmaWxsUnVsZSI6ICJldmVub2RkIiwKICAibGluZUNhcCI6ICJyb3VuZCIsCiAgImxpbmVKb2luIjogInJvdW5kIiwKICAib3BhY2l0eSI6IDEuMCwKICAicmFkaXVzIjogNSwKICAic3Ryb2tlIjogdHJ1ZSwKICAid2VpZ2h0IjogMwp9CiAgICAgICAgICAgICAgICApCiAgICAgICAgICAgICAgICAuYWRkVG8obWFwXzMyNThmMzA2ODEyOTRlYmZiODg0NmJlYzZjYWE5M2VlKTsKICAgICAgICAgICAgCiAgICAKICAgICAgICAgICAgdmFyIHBvcHVwXzZjNGJiMzJiNjQ0YjRkNWNiYWE3YzM2ZGYwZDk5YjFhID0gTC5wb3B1cCh7bWF4V2lkdGg6ICcxMDAlJwogICAgICAgICAgICAKICAgICAgICAgICAgfSk7CgogICAgICAgICAgICAKICAgICAgICAgICAgICAgIHZhciBodG1sXzNiZTg5NjhlOTg2NTQ5OTg5ODk4YTk0NTI3N2Q2YzY5ID0gJChgPGRpdiBpZD0iaHRtbF8zYmU4OTY4ZTk4NjU0OTk4OTg5OGE5NDUyNzdkNmM2OSIgc3R5bGU9IndpZHRoOiAxMDAuMCU7IGhlaWdodDogMTAwLjAlOyI+Q29sbGVnZSBDYWZldGVyaWE8L2Rpdj5gKVswXTsKICAgICAgICAgICAgICAgIHBvcHVwXzZjNGJiMzJiNjQ0YjRkNWNiYWE3YzM2ZGYwZDk5YjFhLnNldENvbnRlbnQoaHRtbF8zYmU4OTY4ZTk4NjU0OTk4OTg5OGE5NDUyNzdkNmM2OSk7CiAgICAgICAgICAgIAoKICAgICAgICAgICAgY2lyY2xlX21hcmtlcl9mNmNhOTVkYWUxMzg0ZmJmOWJkYTkxOWI4ZmRhZTgxMS5iaW5kUG9wdXAocG9wdXBfNmM0YmIzMmI2NDRiNGQ1Y2JhYTdjMzZkZjBkOTliMWEpCiAgICAgICAgICAgIDsKCiAgICAgICAgICAgIAogICAgICAgIAogICAgCiAgICAgICAgICAgIHZhciBjaXJjbGVfbWFya2VyXzY0NWRkMmRkZTkyNjQ3YWViN2U4YjI4MGY4YjFhNjFiID0gTC5jaXJjbGVNYXJrZXIoCiAgICAgICAgICAgICAgICBbLTIzLjU1NzczNywgLTQ2LjYzNTNdLAogICAgICAgICAgICAgICAgewogICJidWJibGluZ01vdXNlRXZlbnRzIjogdHJ1ZSwKICAiY29sb3IiOiAiYmx1ZSIsCiAgImRhc2hBcnJheSI6IG51bGwsCiAgImRhc2hPZmZzZXQiOiBudWxsLAogICJmaWxsIjogdHJ1ZSwKICAiZmlsbENvbG9yIjogImJsdWUiLAogICJmaWxsT3BhY2l0eSI6IDAuNiwKICAiZmlsbFJ1bGUiOiAiZXZlbm9kZCIsCiAgImxpbmVDYXAiOiAicm91bmQiLAogICJsaW5lSm9pbiI6ICJyb3VuZCIsCiAgIm9wYWNpdHkiOiAxLjAsCiAgInJhZGl1cyI6IDUsCiAgInN0cm9rZSI6IHRydWUsCiAgIndlaWdodCI6IDMKfQogICAgICAgICAgICAgICAgKQogICAgICAgICAgICAgICAgLmFkZFRvKG1hcF8zMjU4ZjMwNjgxMjk0ZWJmYjg4NDZiZWM2Y2FhOTNlZSk7CiAgICAgICAgICAgIAogICAgCiAgICAgICAgICAgIHZhciBwb3B1cF8wM2UwZWFjNzk3ZGE0NDE1OWQ2MjZjNzJmOWMwMTE3YiA9IEwucG9wdXAoe21heFdpZHRoOiAnMTAwJScKICAgICAgICAgICAgCiAgICAgICAgICAgIH0pOwoKICAgICAgICAgICAgCiAgICAgICAgICAgICAgICB2YXIgaHRtbF9iYTNiYTc1NWUyNTA0ODE4YTZjY2VmMmIxYjFiNjQzMCA9ICQoYDxkaXYgaWQ9Imh0bWxfYmEzYmE3NTVlMjUwNDgxOGE2Y2NlZjJiMWIxYjY0MzAiIHN0eWxlPSJ3aWR0aDogMTAwLjAlOyBoZWlnaHQ6IDEwMC4wJTsiPkNvZmZlZSBTaG9wPC9kaXY+YClbMF07CiAgICAgICAgICAgICAgICBwb3B1cF8wM2UwZWFjNzk3ZGE0NDE1OWQ2MjZjNzJmOWMwMTE3Yi5zZXRDb250ZW50KGh0bWxfYmEzYmE3NTVlMjUwNDgxOGE2Y2NlZjJiMWIxYjY0MzApOwogICAgICAgICAgICAKCiAgICAgICAgICAgIGNpcmNsZV9tYXJrZXJfNjQ1ZGQyZGRlOTI2NDdhZWI3ZThiMjgwZjhiMWE2MWIuYmluZFBvcHVwKHBvcHVwXzAzZTBlYWM3OTdkYTQ0MTU5ZDYyNmM3MmY5YzAxMTdiKQogICAgICAgICAgICA7CgogICAgICAgICAgICAKICAgICAgICAKICAgIAogICAgICAgICAgICB2YXIgY2lyY2xlX21hcmtlcl83M2UwZDhkOWQ5MjY0NzFkOTU3Mzg1ZmVhNjA2OTc3YyA9IEwuY2lyY2xlTWFya2VyKAogICAgICAgICAgICAgICAgWy0yMy41NTA1OTQsIC00Ni42MzUzOTVdLAogICAgICAgICAgICAgICAgewogICJidWJibGluZ01vdXNlRXZlbnRzIjogdHJ1ZSwKICAiY29sb3IiOiAiYmx1ZSIsCiAgImRhc2hBcnJheSI6IG51bGwsCiAgImRhc2hPZmZzZXQiOiBudWxsLAogICJmaWxsIjogdHJ1ZSwKICAiZmlsbENvbG9yIjogImJsdWUiLAogICJmaWxsT3BhY2l0eSI6IDAuNiwKICAiZmlsbFJ1bGUiOiAiZXZlbm9kZCIsCiAgImxpbmVDYXAiOiAicm91bmQiLAogICJsaW5lSm9pbiI6ICJyb3VuZCIsCiAgIm9wYWNpdHkiOiAxLjAsCiAgInJhZGl1cyI6IDUsCiAgInN0cm9rZSI6IHRydWUsCiAgIndlaWdodCI6IDMKfQogICAgICAgICAgICAgICAgKQogICAgICAgICAgICAgICAgLmFkZFRvKG1hcF8zMjU4ZjMwNjgxMjk0ZWJmYjg4NDZiZWM2Y2FhOTNlZSk7CiAgICAgICAgICAgIAogICAgCiAgICAgICAgICAgIHZhciBwb3B1cF80NDEyNjA2NWUzMDM0MWNiOTdjNmViZjliMDljZWMwMiA9IEwucG9wdXAoe21heFdpZHRoOiAnMTAwJScKICAgICAgICAgICAgCiAgICAgICAgICAgIH0pOwoKICAgICAgICAgICAgCiAgICAgICAgICAgICAgICB2YXIgaHRtbF9mYmVkNTExMTg3MDE0OWY5OWUwYzBiNmFkN2FlNDdmMyA9ICQoYDxkaXYgaWQ9Imh0bWxfZmJlZDUxMTE4NzAxNDlmOTllMGMwYjZhZDdhZTQ3ZjMiIHN0eWxlPSJ3aWR0aDogMTAwLjAlOyBoZWlnaHQ6IDEwMC4wJTsiPkNhZsOpPC9kaXY+YClbMF07CiAgICAgICAgICAgICAgICBwb3B1cF80NDEyNjA2NWUzMDM0MWNiOTdjNmViZjliMDljZWMwMi5zZXRDb250ZW50KGh0bWxfZmJlZDUxMTE4NzAxNDlmOTllMGMwYjZhZDdhZTQ3ZjMpOwogICAgICAgICAgICAKCiAgICAgICAgICAgIGNpcmNsZV9tYXJrZXJfNzNlMGQ4ZDlkOTI2NDcxZDk1NzM4NWZlYTYwNjk3N2MuYmluZFBvcHVwKHBvcHVwXzQ0MTI2MDY1ZTMwMzQxY2I5N2M2ZWJmOWIwOWNlYzAyKQogICAgICAgICAgICA7CgogICAgICAgICAgICAKICAgICAgICAKICAgIAogICAgICAgICAgICB2YXIgY2lyY2xlX21hcmtlcl84OWQ0MzMwMjZmMDM0NWQ3YTM2OTJhYjdjNmI3MGMxNyA9IEwuY2lyY2xlTWFya2VyKAogICAgICAgICAgICAgICAgWy0yMy41NDY4NjcsIC00Ni42NDEzNzZdLAogICAgICAgICAgICAgICAgewogICJidWJibGluZ01vdXNlRXZlbnRzIjogdHJ1ZSwKICAiY29sb3IiOiAiYmx1ZSIsCiAgImRhc2hBcnJheSI6IG51bGwsCiAgImRhc2hPZmZzZXQiOiBudWxsLAogICJmaWxsIjogdHJ1ZSwKICAiZmlsbENvbG9yIjogImJsdWUiLAogICJmaWxsT3BhY2l0eSI6IDAuNiwKICAiZmlsbFJ1bGUiOiAiZXZlbm9kZCIsCiAgImxpbmVDYXAiOiAicm91bmQiLAogICJsaW5lSm9pbiI6ICJyb3VuZCIsCiAgIm9wYWNpdHkiOiAxLjAsCiAgInJhZGl1cyI6IDUsCiAgInN0cm9rZSI6IHRydWUsCiAgIndlaWdodCI6IDMKfQogICAgICAgICAgICAgICAgKQogICAgICAgICAgICAgICAgLmFkZFRvKG1hcF8zMjU4ZjMwNjgxMjk0ZWJmYjg4NDZiZWM2Y2FhOTNlZSk7CiAgICAgICAgICAgIAogICAgCiAgICAgICAgICAgIHZhciBwb3B1cF8wNDBkMGQwMTM2Yzg0MTZjOGNkODI3NjgxN2EwZmU0OCA9IEwucG9wdXAoe21heFdpZHRoOiAnMTAwJScKICAgICAgICAgICAgCiAgICAgICAgICAgIH0pOwoKICAgICAgICAgICAgCiAgICAgICAgICAgICAgICB2YXIgaHRtbF9iNGQ5MWI2YWI5MjI0YWZjYWFkN2NmMzNkZTE3ZWExNyA9ICQoYDxkaXYgaWQ9Imh0bWxfYjRkOTFiNmFiOTIyNGFmY2FhZDdjZjMzZGUxN2VhMTciIHN0eWxlPSJ3aWR0aDogMTAwLjAlOyBoZWlnaHQ6IDEwMC4wJTsiPkNhZsOpPC9kaXY+YClbMF07CiAgICAgICAgICAgICAgICBwb3B1cF8wNDBkMGQwMTM2Yzg0MTZjOGNkODI3NjgxN2EwZmU0OC5zZXRDb250ZW50KGh0bWxfYjRkOTFiNmFiOTIyNGFmY2FhZDdjZjMzZGUxN2VhMTcpOwogICAgICAgICAgICAKCiAgICAgICAgICAgIGNpcmNsZV9tYXJrZXJfODlkNDMzMDI2ZjAzNDVkN2EzNjkyYWI3YzZiNzBjMTcuYmluZFBvcHVwKHBvcHVwXzA0MGQwZDAxMzZjODQxNmM4Y2Q4Mjc2ODE3YTBmZTQ4KQogICAgICAgICAgICA7CgogICAgICAgICAgICAKICAgICAgICAKICAgIAogICAgICAgICAgICB2YXIgY2lyY2xlX21hcmtlcl81Nzg0M2RkODk0Y2Y0ZWM0YjUxMmMyMDM4ZjJhM2YyNSA9IEwuY2lyY2xlTWFya2VyKAogICAgICAgICAgICAgICAgWy0yMy41NDQ0MDgzOTEzMjk3NjQsIC00Ni42NDA2ODAwMjc3OTMwMjRdLAogICAgICAgICAgICAgICAgewogICJidWJibGluZ01vdXNlRXZlbnRzIjogdHJ1ZSwKICAiY29sb3IiOiAiYmx1ZSIsCiAgImRhc2hBcnJheSI6IG51bGwsCiAgImRhc2hPZmZzZXQiOiBudWxsLAogICJmaWxsIjogdHJ1ZSwKICAiZmlsbENvbG9yIjogImJsdWUiLAogICJmaWxsT3BhY2l0eSI6IDAuNiwKICAiZmlsbFJ1bGUiOiAiZXZlbm9kZCIsCiAgImxpbmVDYXAiOiAicm91bmQiLAogICJsaW5lSm9pbiI6ICJyb3VuZCIsCiAgIm9wYWNpdHkiOiAxLjAsCiAgInJhZGl1cyI6IDUsCiAgInN0cm9rZSI6IHRydWUsCiAgIndlaWdodCI6IDMKfQogICAgICAgICAgICAgICAgKQogICAgICAgICAgICAgICAgLmFkZFRvKG1hcF8zMjU4ZjMwNjgxMjk0ZWJmYjg4NDZiZWM2Y2FhOTNlZSk7CiAgICAgICAgICAgIAogICAgCiAgICAgICAgICAgIHZhciBwb3B1cF8wOWM2Yzc3Y2VmNDA0YWYyYjNhNjIzYWRiYTZmZDM2ZSA9IEwucG9wdXAoe21heFdpZHRoOiAnMTAwJScKICAgICAgICAgICAgCiAgICAgICAgICAgIH0pOwoKICAgICAgICAgICAgCiAgICAgICAgICAgICAgICB2YXIgaHRtbF8yYTI4MzYxMDJhOWY0MGI2OTlmZmFmMWY5YzExZjAwNSA9ICQoYDxkaXYgaWQ9Imh0bWxfMmEyODM2MTAyYTlmNDBiNjk5ZmZhZjFmOWMxMWYwMDUiIHN0eWxlPSJ3aWR0aDogMTAwLjAlOyBoZWlnaHQ6IDEwMC4wJTsiPkNvZmZlZSBTaG9wPC9kaXY+YClbMF07CiAgICAgICAgICAgICAgICBwb3B1cF8wOWM2Yzc3Y2VmNDA0YWYyYjNhNjIzYWRiYTZmZDM2ZS5zZXRDb250ZW50KGh0bWxfMmEyODM2MTAyYTlmNDBiNjk5ZmZhZjFmOWMxMWYwMDUpOwogICAgICAgICAgICAKCiAgICAgICAgICAgIGNpcmNsZV9tYXJrZXJfNTc4NDNkZDg5NGNmNGVjNGI1MTJjMjAzOGYyYTNmMjUuYmluZFBvcHVwKHBvcHVwXzA5YzZjNzdjZWY0MDRhZjJiM2E2MjNhZGJhNmZkMzZlKQogICAgICAgICAgICA7CgogICAgICAgICAgICAKICAgICAgICAKICAgIAogICAgICAgICAgICB2YXIgY2lyY2xlX21hcmtlcl9lMGIxOGUzZDQxYWY0ZWQwYTEwYzEwYTM2MzYyM2MwMiA9IEwuY2lyY2xlTWFya2VyKAogICAgICAgICAgICAgICAgWy0yMy41NjUxMDA1NTkwMTkzLCAtNDYuNjU0MDQwMjgxODU2MzRdLAogICAgICAgICAgICAgICAgewogICJidWJibGluZ01vdXNlRXZlbnRzIjogdHJ1ZSwKICAiY29sb3IiOiAiYmx1ZSIsCiAgImRhc2hBcnJheSI6IG51bGwsCiAgImRhc2hPZmZzZXQiOiBudWxsLAogICJmaWxsIjogdHJ1ZSwKICAiZmlsbENvbG9yIjogImJsdWUiLAogICJmaWxsT3BhY2l0eSI6IDAuNiwKICAiZmlsbFJ1bGUiOiAiZXZlbm9kZCIsCiAgImxpbmVDYXAiOiAicm91bmQiLAogICJsaW5lSm9pbiI6ICJyb3VuZCIsCiAgIm9wYWNpdHkiOiAxLjAsCiAgInJhZGl1cyI6IDUsCiAgInN0cm9rZSI6IHRydWUsCiAgIndlaWdodCI6IDMKfQogICAgICAgICAgICAgICAgKQogICAgICAgICAgICAgICAgLmFkZFRvKG1hcF8zMjU4ZjMwNjgxMjk0ZWJmYjg4NDZiZWM2Y2FhOTNlZSk7CiAgICAgICAgICAgIAogICAgCiAgICAgICAgICAgIHZhciBwb3B1cF8xODRhNjZlNTczOGE0NGQ4OGU3ODdkMWVhOTMyZDE3MCA9IEwucG9wdXAoe21heFdpZHRoOiAnMTAwJScKICAgICAgICAgICAgCiAgICAgICAgICAgIH0pOwoKICAgICAgICAgICAgCiAgICAgICAgICAgICAgICB2YXIgaHRtbF80MTE0MDZjMDE0MTA0NjkyYmRhZjUzYjc4ZGJmMDViMyA9ICQoYDxkaXYgaWQ9Imh0bWxfNDExNDA2YzAxNDEwNDY5MmJkYWY1M2I3OGRiZjA1YjMiIHN0eWxlPSJ3aWR0aDogMTAwLjAlOyBoZWlnaHQ6IDEwMC4wJTsiPkNhZsOpPC9kaXY+YClbMF07CiAgICAgICAgICAgICAgICBwb3B1cF8xODRhNjZlNTczOGE0NGQ4OGU3ODdkMWVhOTMyZDE3MC5zZXRDb250ZW50KGh0bWxfNDExNDA2YzAxNDEwNDY5MmJkYWY1M2I3OGRiZjA1YjMpOwogICAgICAgICAgICAKCiAgICAgICAgICAgIGNpcmNsZV9tYXJrZXJfZTBiMThlM2Q0MWFmNGVkMGExMGMxMGEzNjM2MjNjMDIuYmluZFBvcHVwKHBvcHVwXzE4NGE2NmU1NzM4YTQ0ZDg4ZTc4N2QxZWE5MzJkMTcwKQogICAgICAgICAgICA7CgogICAgICAgICAgICAKICAgICAgICAKICAgIAogICAgICAgICAgICB2YXIgY2lyY2xlX21hcmtlcl9hMzQ3ZWU5OTFmMmI0OWNlYTRlNzk5NWM1MzM2NTAyYiA9IEwuY2lyY2xlTWFya2VyKAogICAgICAgICAgICAgICAgWy0yMy41Njg0NTg3MDMzMTgwMzMsIC00Ni42NDkxMTA5MTY4MDI0N10sCiAgICAgICAgICAgICAgICB7CiAgImJ1YmJsaW5nTW91c2VFdmVudHMiOiB0cnVlLAogICJjb2xvciI6ICJibHVlIiwKICAiZGFzaEFycmF5IjogbnVsbCwKICAiZGFzaE9mZnNldCI6IG51bGwsCiAgImZpbGwiOiB0cnVlLAogICJmaWxsQ29sb3IiOiAiYmx1ZSIsCiAgImZpbGxPcGFjaXR5IjogMC42LAogICJmaWxsUnVsZSI6ICJldmVub2RkIiwKICAibGluZUNhcCI6ICJyb3VuZCIsCiAgImxpbmVKb2luIjogInJvdW5kIiwKICAib3BhY2l0eSI6IDEuMCwKICAicmFkaXVzIjogNSwKICAic3Ryb2tlIjogdHJ1ZSwKICAid2VpZ2h0IjogMwp9CiAgICAgICAgICAgICAgICApCiAgICAgICAgICAgICAgICAuYWRkVG8obWFwXzMyNThmMzA2ODEyOTRlYmZiODg0NmJlYzZjYWE5M2VlKTsKICAgICAgICAgICAgCiAgICAKICAgICAgICAgICAgdmFyIHBvcHVwX2UzYzA1ZjFiMTQ0ODRmOTU4MjMyYWZmNjRmOTliZmI4ID0gTC5wb3B1cCh7bWF4V2lkdGg6ICcxMDAlJwogICAgICAgICAgICAKICAgICAgICAgICAgfSk7CgogICAgICAgICAgICAKICAgICAgICAgICAgICAgIHZhciBodG1sXzRmNjBkN2Y4NTFmNTQzZWFiNThlZGY4ZjE3ZjMxNDMxID0gJChgPGRpdiBpZD0iaHRtbF80ZjYwZDdmODUxZjU0M2VhYjU4ZWRmOGYxN2YzMTQzMSIgc3R5bGU9IndpZHRoOiAxMDAuMCU7IGhlaWdodDogMTAwLjAlOyI+Q29mZmVlIFNob3A8L2Rpdj5gKVswXTsKICAgICAgICAgICAgICAgIHBvcHVwX2UzYzA1ZjFiMTQ0ODRmOTU4MjMyYWZmNjRmOTliZmI4LnNldENvbnRlbnQoaHRtbF80ZjYwZDdmODUxZjU0M2VhYjU4ZWRmOGYxN2YzMTQzMSk7CiAgICAgICAgICAgIAoKICAgICAgICAgICAgY2lyY2xlX21hcmtlcl9hMzQ3ZWU5OTFmMmI0OWNlYTRlNzk5NWM1MzM2NTAyYi5iaW5kUG9wdXAocG9wdXBfZTNjMDVmMWIxNDQ4NGY5NTgyMzJhZmY2NGY5OWJmYjgpCiAgICAgICAgICAgIDsKCiAgICAgICAgICAgIAogICAgICAgIAogICAgCiAgICAgICAgICAgIHZhciBjaXJjbGVfbWFya2VyXzUyN2VkZGQ1Mzk3YTQ2YWU5YmRhMzlhN2E5ZmFlOTU3ID0gTC5jaXJjbGVNYXJrZXIoCiAgICAgICAgICAgICAgICBbLTIzLjU1MDUxODgxMjc4OTA1OCwgLTQ2LjYzMzMwODc5NTg3MDIzXSwKICAgICAgICAgICAgICAgIHsKICAiYnViYmxpbmdNb3VzZUV2ZW50cyI6IHRydWUsCiAgImNvbG9yIjogImJsdWUiLAogICJkYXNoQXJyYXkiOiBudWxsLAogICJkYXNoT2Zmc2V0IjogbnVsbCwKICAiZmlsbCI6IHRydWUsCiAgImZpbGxDb2xvciI6ICJibHVlIiwKICAiZmlsbE9wYWNpdHkiOiAwLjYsCiAgImZpbGxSdWxlIjogImV2ZW5vZGQiLAogICJsaW5lQ2FwIjogInJvdW5kIiwKICAibGluZUpvaW4iOiAicm91bmQiLAogICJvcGFjaXR5IjogMS4wLAogICJyYWRpdXMiOiA1LAogICJzdHJva2UiOiB0cnVlLAogICJ3ZWlnaHQiOiAzCn0KICAgICAgICAgICAgICAgICkKICAgICAgICAgICAgICAgIC5hZGRUbyhtYXBfMzI1OGYzMDY4MTI5NGViZmI4ODQ2YmVjNmNhYTkzZWUpOwogICAgICAgICAgICAKICAgIAogICAgICAgICAgICB2YXIgcG9wdXBfZjg0MGFiYWFjMWQ5NGVlZjg0YTMwYjJmMTZjNWY1MTAgPSBMLnBvcHVwKHttYXhXaWR0aDogJzEwMCUnCiAgICAgICAgICAgIAogICAgICAgICAgICB9KTsKCiAgICAgICAgICAgIAogICAgICAgICAgICAgICAgdmFyIGh0bWxfYmRhZDdkM2I3NTgyNDUyMWE2NTJhOGQ1ZDM4NTc2ZmYgPSAkKGA8ZGl2IGlkPSJodG1sX2JkYWQ3ZDNiNzU4MjQ1MjFhNjUyYThkNWQzODU3NmZmIiBzdHlsZT0id2lkdGg6IDEwMC4wJTsgaGVpZ2h0OiAxMDAuMCU7Ij5Db2ZmZWUgU2hvcDwvZGl2PmApWzBdOwogICAgICAgICAgICAgICAgcG9wdXBfZjg0MGFiYWFjMWQ5NGVlZjg0YTMwYjJmMTZjNWY1MTAuc2V0Q29udGVudChodG1sX2JkYWQ3ZDNiNzU4MjQ1MjFhNjUyYThkNWQzODU3NmZmKTsKICAgICAgICAgICAgCgogICAgICAgICAgICBjaXJjbGVfbWFya2VyXzUyN2VkZGQ1Mzk3YTQ2YWU5YmRhMzlhN2E5ZmFlOTU3LmJpbmRQb3B1cChwb3B1cF9mODQwYWJhYWMxZDk0ZWVmODRhMzBiMmYxNmM1ZjUxMCkKICAgICAgICAgICAgOwoKICAgICAgICAgICAgCiAgICAgICAgCiAgICAKICAgICAgICAgICAgdmFyIGNpcmNsZV9tYXJrZXJfODA4ZjJkZWM5MjdkNDA4Y2FmZjRjY2ZhOWI0ODc4MjAgPSBMLmNpcmNsZU1hcmtlcigKICAgICAgICAgICAgICAgIFstMjMuNTUzMDQzMjYyODM2ODYyLCAtNDYuNjM0MzM1OTc2NDc4MDldLAogICAgICAgICAgICAgICAgewogICJidWJibGluZ01vdXNlRXZlbnRzIjogdHJ1ZSwKICAiY29sb3IiOiAiYmx1ZSIsCiAgImRhc2hBcnJheSI6IG51bGwsCiAgImRhc2hPZmZzZXQiOiBudWxsLAogICJmaWxsIjogdHJ1ZSwKICAiZmlsbENvbG9yIjogImJsdWUiLAogICJmaWxsT3BhY2l0eSI6IDAuNiwKICAiZmlsbFJ1bGUiOiAiZXZlbm9kZCIsCiAgImxpbmVDYXAiOiAicm91bmQiLAogICJsaW5lSm9pbiI6ICJyb3VuZCIsCiAgIm9wYWNpdHkiOiAxLjAsCiAgInJhZGl1cyI6IDUsCiAgInN0cm9rZSI6IHRydWUsCiAgIndlaWdodCI6IDMKfQogICAgICAgICAgICAgICAgKQogICAgICAgICAgICAgICAgLmFkZFRvKG1hcF8zMjU4ZjMwNjgxMjk0ZWJmYjg4NDZiZWM2Y2FhOTNlZSk7CiAgICAgICAgICAgIAogICAgCiAgICAgICAgICAgIHZhciBwb3B1cF8xN2U5NzA5MjAxNzM0MmJhYmYwMTRkYzFlNDk3MjNlNyA9IEwucG9wdXAoe21heFdpZHRoOiAnMTAwJScKICAgICAgICAgICAgCiAgICAgICAgICAgIH0pOwoKICAgICAgICAgICAgCiAgICAgICAgICAgICAgICB2YXIgaHRtbF80M2I2NDY5YjA0ZWE0NTc1OTY0NGQ4MzRkYWE1Njk5YSA9ICQoYDxkaXYgaWQ9Imh0bWxfNDNiNjQ2OWIwNGVhNDU3NTk2NDRkODM0ZGFhNTY5OWEiIHN0eWxlPSJ3aWR0aDogMTAwLjAlOyBoZWlnaHQ6IDEwMC4wJTsiPkNhZsOpPC9kaXY+YClbMF07CiAgICAgICAgICAgICAgICBwb3B1cF8xN2U5NzA5MjAxNzM0MmJhYmYwMTRkYzFlNDk3MjNlNy5zZXRDb250ZW50KGh0bWxfNDNiNjQ2OWIwNGVhNDU3NTk2NDRkODM0ZGFhNTY5OWEpOwogICAgICAgICAgICAKCiAgICAgICAgICAgIGNpcmNsZV9tYXJrZXJfODA4ZjJkZWM5MjdkNDA4Y2FmZjRjY2ZhOWI0ODc4MjAuYmluZFBvcHVwKHBvcHVwXzE3ZTk3MDkyMDE3MzQyYmFiZjAxNGRjMWU0OTcyM2U3KQogICAgICAgICAgICA7CgogICAgICAgICAgICAKICAgICAgICAKICAgIAogICAgICAgICAgICB2YXIgY2lyY2xlX21hcmtlcl8wMWUzZjM1NTI2YzE0YjY3OGZmMDIzN2I0OTRkZjQ2NSA9IEwuY2lyY2xlTWFya2VyKAogICAgICAgICAgICAgICAgWy0yMy41NTQwNjA0ODYxMTcxNDgsIC00Ni42MDc2NTAyODQ0ODM4OV0sCiAgICAgICAgICAgICAgICB7CiAgImJ1YmJsaW5nTW91c2VFdmVudHMiOiB0cnVlLAogICJjb2xvciI6ICJibHVlIiwKICAiZGFzaEFycmF5IjogbnVsbCwKICAiZGFzaE9mZnNldCI6IG51bGwsCiAgImZpbGwiOiB0cnVlLAogICJmaWxsQ29sb3IiOiAiYmx1ZSIsCiAgImZpbGxPcGFjaXR5IjogMC42LAogICJmaWxsUnVsZSI6ICJldmVub2RkIiwKICAibGluZUNhcCI6ICJyb3VuZCIsCiAgImxpbmVKb2luIjogInJvdW5kIiwKICAib3BhY2l0eSI6IDEuMCwKICAicmFkaXVzIjogNSwKICAic3Ryb2tlIjogdHJ1ZSwKICAid2VpZ2h0IjogMwp9CiAgICAgICAgICAgICAgICApCiAgICAgICAgICAgICAgICAuYWRkVG8obWFwXzMyNThmMzA2ODEyOTRlYmZiODg0NmJlYzZjYWE5M2VlKTsKICAgICAgICAgICAgCiAgICAKICAgICAgICAgICAgdmFyIHBvcHVwXzUzODZjMzI1NWNjMzRkN2Y4YjA4MmI3YzE3NmEwMzFiID0gTC5wb3B1cCh7bWF4V2lkdGg6ICcxMDAlJwogICAgICAgICAgICAKICAgICAgICAgICAgfSk7CgogICAgICAgICAgICAKICAgICAgICAgICAgICAgIHZhciBodG1sXzIxODhlNDI3MjNiYjQ5ZjFiZjhiN2QwMmRhNmY4MjQ4ID0gJChgPGRpdiBpZD0iaHRtbF8yMTg4ZTQyNzIzYmI0OWYxYmY4YjdkMDJkYTZmODI0OCIgc3R5bGU9IndpZHRoOiAxMDAuMCU7IGhlaWdodDogMTAwLjAlOyI+Q2Fmw6k8L2Rpdj5gKVswXTsKICAgICAgICAgICAgICAgIHBvcHVwXzUzODZjMzI1NWNjMzRkN2Y4YjA4MmI3YzE3NmEwMzFiLnNldENvbnRlbnQoaHRtbF8yMTg4ZTQyNzIzYmI0OWYxYmY4YjdkMDJkYTZmODI0OCk7CiAgICAgICAgICAgIAoKICAgICAgICAgICAgY2lyY2xlX21hcmtlcl8wMWUzZjM1NTI2YzE0YjY3OGZmMDIzN2I0OTRkZjQ2NS5iaW5kUG9wdXAocG9wdXBfNTM4NmMzMjU1Y2MzNGQ3ZjhiMDgyYjdjMTc2YTAzMWIpCiAgICAgICAgICAgIDsKCiAgICAgICAgICAgIAogICAgICAgIAogICAgCiAgICAgICAgICAgIHZhciBjaXJjbGVfbWFya2VyX2Y4MjE0NTliYmJkOTQxOGZhZjEyZjczMGM1ZDMyMGFiID0gTC5jaXJjbGVNYXJrZXIoCiAgICAgICAgICAgICAgICBbLTIzLjU1NTcwODQ5NDQ4NjA5NCwgLTQ2LjYzMzU2Nzk0NDk0NTc5Nl0sCiAgICAgICAgICAgICAgICB7CiAgImJ1YmJsaW5nTW91c2VFdmVudHMiOiB0cnVlLAogICJjb2xvciI6ICJibHVlIiwKICAiZGFzaEFycmF5IjogbnVsbCwKICAiZGFzaE9mZnNldCI6IG51bGwsCiAgImZpbGwiOiB0cnVlLAogICJmaWxsQ29sb3IiOiAiYmx1ZSIsCiAgImZpbGxPcGFjaXR5IjogMC42LAogICJmaWxsUnVsZSI6ICJldmVub2RkIiwKICAibGluZUNhcCI6ICJyb3VuZCIsCiAgImxpbmVKb2luIjogInJvdW5kIiwKICAib3BhY2l0eSI6IDEuMCwKICAicmFkaXVzIjogNSwKICAic3Ryb2tlIjogdHJ1ZSwKICAid2VpZ2h0IjogMwp9CiAgICAgICAgICAgICAgICApCiAgICAgICAgICAgICAgICAuYWRkVG8obWFwXzMyNThmMzA2ODEyOTRlYmZiODg0NmJlYzZjYWE5M2VlKTsKICAgICAgICAgICAgCiAgICAKICAgICAgICAgICAgdmFyIHBvcHVwX2Y4MDhlNzZiNWUzMTQ5YTQ5YTgyZTgwOTBjZjI5OTExID0gTC5wb3B1cCh7bWF4V2lkdGg6ICcxMDAlJwogICAgICAgICAgICAKICAgICAgICAgICAgfSk7CgogICAgICAgICAgICAKICAgICAgICAgICAgICAgIHZhciBodG1sXzMxYjI1YzUzMTUwODQ2ZTc5NmFhMTFlYWZhNWQ5OTVhID0gJChgPGRpdiBpZD0iaHRtbF8zMWIyNWM1MzE1MDg0NmU3OTZhYTExZWFmYTVkOTk1YSIgc3R5bGU9IndpZHRoOiAxMDAuMCU7IGhlaWdodDogMTAwLjAlOyI+RmFpcjwvZGl2PmApWzBdOwogICAgICAgICAgICAgICAgcG9wdXBfZjgwOGU3NmI1ZTMxNDlhNDlhODJlODA5MGNmMjk5MTEuc2V0Q29udGVudChodG1sXzMxYjI1YzUzMTUwODQ2ZTc5NmFhMTFlYWZhNWQ5OTVhKTsKICAgICAgICAgICAgCgogICAgICAgICAgICBjaXJjbGVfbWFya2VyX2Y4MjE0NTliYmJkOTQxOGZhZjEyZjczMGM1ZDMyMGFiLmJpbmRQb3B1cChwb3B1cF9mODA4ZTc2YjVlMzE0OWE0OWE4MmU4MDkwY2YyOTkxMSkKICAgICAgICAgICAgOwoKICAgICAgICAgICAgCiAgICAgICAgCiAgICAKICAgICAgICAgICAgdmFyIGNpcmNsZV9tYXJrZXJfMTU5YzYyODcyM2YzNDk0Njg2ZTk5YmU2MWY2N2JkODIgPSBMLmNpcmNsZU1hcmtlcigKICAgICAgICAgICAgICAgIFstMjMuNTQ3MzUxMDQxOTQ5OTYsIC00Ni42NDI4MjI5NTc0ODA1NzVdLAogICAgICAgICAgICAgICAgewogICJidWJibGluZ01vdXNlRXZlbnRzIjogdHJ1ZSwKICAiY29sb3IiOiAiYmx1ZSIsCiAgImRhc2hBcnJheSI6IG51bGwsCiAgImRhc2hPZmZzZXQiOiBudWxsLAogICJmaWxsIjogdHJ1ZSwKICAiZmlsbENvbG9yIjogImJsdWUiLAogICJmaWxsT3BhY2l0eSI6IDAuNiwKICAiZmlsbFJ1bGUiOiAiZXZlbm9kZCIsCiAgImxpbmVDYXAiOiAicm91bmQiLAogICJsaW5lSm9pbiI6ICJyb3VuZCIsCiAgIm9wYWNpdHkiOiAxLjAsCiAgInJhZGl1cyI6IDUsCiAgInN0cm9rZSI6IHRydWUsCiAgIndlaWdodCI6IDMKfQogICAgICAgICAgICAgICAgKQogICAgICAgICAgICAgICAgLmFkZFRvKG1hcF8zMjU4ZjMwNjgxMjk0ZWJmYjg4NDZiZWM2Y2FhOTNlZSk7CiAgICAgICAgICAgIAogICAgCiAgICAgICAgICAgIHZhciBwb3B1cF9kNTUxNzk2OTI1MzY0MjE3OGExZTAwNjU3MDk1OWUwNyA9IEwucG9wdXAoe21heFdpZHRoOiAnMTAwJScKICAgICAgICAgICAgCiAgICAgICAgICAgIH0pOwoKICAgICAgICAgICAgCiAgICAgICAgICAgICAgICB2YXIgaHRtbF8yMTRhZDMzYWU1MjU0NDVlYTY0NDlkNTYzM2M2ZTk1ZiA9ICQoYDxkaXYgaWQ9Imh0bWxfMjE0YWQzM2FlNTI1NDQ1ZWE2NDQ5ZDU2MzNjNmU5NWYiIHN0eWxlPSJ3aWR0aDogMTAwLjAlOyBoZWlnaHQ6IDEwMC4wJTsiPkNvZmZlZSBTaG9wPC9kaXY+YClbMF07CiAgICAgICAgICAgICAgICBwb3B1cF9kNTUxNzk2OTI1MzY0MjE3OGExZTAwNjU3MDk1OWUwNy5zZXRDb250ZW50KGh0bWxfMjE0YWQzM2FlNTI1NDQ1ZWE2NDQ5ZDU2MzNjNmU5NWYpOwogICAgICAgICAgICAKCiAgICAgICAgICAgIGNpcmNsZV9tYXJrZXJfMTU5YzYyODcyM2YzNDk0Njg2ZTk5YmU2MWY2N2JkODIuYmluZFBvcHVwKHBvcHVwX2Q1NTE3OTY5MjUzNjQyMTc4YTFlMDA2NTcwOTU5ZTA3KQogICAgICAgICAgICA7CgogICAgICAgICAgICAKICAgICAgICAKICAgIAogICAgICAgICAgICB2YXIgY2lyY2xlX21hcmtlcl8zNjNlYzIzN2YyYWE0YmM0YWQ1Y2NkZTI4MWYwYmQ2YiA9IEwuY2lyY2xlTWFya2VyKAogICAgICAgICAgICAgICAgWy0yMy41NDQ2NDMwNzkxMjI4NywgLTQ2LjY0MTA2NTAwMzc0NTA1XSwKICAgICAgICAgICAgICAgIHsKICAiYnViYmxpbmdNb3VzZUV2ZW50cyI6IHRydWUsCiAgImNvbG9yIjogImJsdWUiLAogICJkYXNoQXJyYXkiOiBudWxsLAogICJkYXNoT2Zmc2V0IjogbnVsbCwKICAiZmlsbCI6IHRydWUsCiAgImZpbGxDb2xvciI6ICJibHVlIiwKICAiZmlsbE9wYWNpdHkiOiAwLjYsCiAgImZpbGxSdWxlIjogImV2ZW5vZGQiLAogICJsaW5lQ2FwIjogInJvdW5kIiwKICAibGluZUpvaW4iOiAicm91bmQiLAogICJvcGFjaXR5IjogMS4wLAogICJyYWRpdXMiOiA1LAogICJzdHJva2UiOiB0cnVlLAogICJ3ZWlnaHQiOiAzCn0KICAgICAgICAgICAgICAgICkKICAgICAgICAgICAgICAgIC5hZGRUbyhtYXBfMzI1OGYzMDY4MTI5NGViZmI4ODQ2YmVjNmNhYTkzZWUpOwogICAgICAgICAgICAKICAgIAogICAgICAgICAgICB2YXIgcG9wdXBfOTFkZTliMTcxN2I2NGQ2M2FmMGVlMzlkZTMxYTBlOTkgPSBMLnBvcHVwKHttYXhXaWR0aDogJzEwMCUnCiAgICAgICAgICAgIAogICAgICAgICAgICB9KTsKCiAgICAgICAgICAgIAogICAgICAgICAgICAgICAgdmFyIGh0bWxfNTY3NTgzYzM5YTg0NGQwZDg5MWM3NjUyOWM4MDU0NDIgPSAkKGA8ZGl2IGlkPSJodG1sXzU2NzU4M2MzOWE4NDRkMGQ4OTFjNzY1MjljODA1NDQyIiBzdHlsZT0id2lkdGg6IDEwMC4wJTsgaGVpZ2h0OiAxMDAuMCU7Ij5Db2ZmZWUgU2hvcDwvZGl2PmApWzBdOwogICAgICAgICAgICAgICAgcG9wdXBfOTFkZTliMTcxN2I2NGQ2M2FmMGVlMzlkZTMxYTBlOTkuc2V0Q29udGVudChodG1sXzU2NzU4M2MzOWE4NDRkMGQ4OTFjNzY1MjljODA1NDQyKTsKICAgICAgICAgICAgCgogICAgICAgICAgICBjaXJjbGVfbWFya2VyXzM2M2VjMjM3ZjJhYTRiYzRhZDVjY2RlMjgxZjBiZDZiLmJpbmRQb3B1cChwb3B1cF85MWRlOWIxNzE3YjY0ZDYzYWYwZWUzOWRlMzFhMGU5OSkKICAgICAgICAgICAgOwoKICAgICAgICAgICAgCiAgICAgICAgCiAgICAKICAgICAgICAgICAgdmFyIGNpcmNsZV9tYXJrZXJfNmQyNzNiMDdlY2IyNGVlMDkzOWY5ZDRiZmU2OWE1ZTMgPSBMLmNpcmNsZU1hcmtlcigKICAgICAgICAgICAgICAgIFstMjMuNTM4MzE4LCAtNDYuNjM5NjY3XSwKICAgICAgICAgICAgICAgIHsKICAiYnViYmxpbmdNb3VzZUV2ZW50cyI6IHRydWUsCiAgImNvbG9yIjogImJsdWUiLAogICJkYXNoQXJyYXkiOiBudWxsLAogICJkYXNoT2Zmc2V0IjogbnVsbCwKICAiZmlsbCI6IHRydWUsCiAgImZpbGxDb2xvciI6ICJibHVlIiwKICAiZmlsbE9wYWNpdHkiOiAwLjYsCiAgImZpbGxSdWxlIjogImV2ZW5vZGQiLAogICJsaW5lQ2FwIjogInJvdW5kIiwKICAibGluZUpvaW4iOiAicm91bmQiLAogICJvcGFjaXR5IjogMS4wLAogICJyYWRpdXMiOiA1LAogICJzdHJva2UiOiB0cnVlLAogICJ3ZWlnaHQiOiAzCn0KICAgICAgICAgICAgICAgICkKICAgICAgICAgICAgICAgIC5hZGRUbyhtYXBfMzI1OGYzMDY4MTI5NGViZmI4ODQ2YmVjNmNhYTkzZWUpOwogICAgICAgICAgICAKICAgIAogICAgICAgICAgICB2YXIgcG9wdXBfOGVkOWU3OGNiNDZiNDUzMzkzNjZkNmNkZjA2NzY0ZDUgPSBMLnBvcHVwKHttYXhXaWR0aDogJzEwMCUnCiAgICAgICAgICAgIAogICAgICAgICAgICB9KTsKCiAgICAgICAgICAgIAogICAgICAgICAgICAgICAgdmFyIGh0bWxfMDZmYzI1YTFjNWU4NGY0YjgwMWRlNjhmOTI2YTNhYzcgPSAkKGA8ZGl2IGlkPSJodG1sXzA2ZmMyNWExYzVlODRmNGI4MDFkZTY4ZjkyNmEzYWM3IiBzdHlsZT0id2lkdGg6IDEwMC4wJTsgaGVpZ2h0OiAxMDAuMCU7Ij5TbmFjayBQbGFjZTwvZGl2PmApWzBdOwogICAgICAgICAgICAgICAgcG9wdXBfOGVkOWU3OGNiNDZiNDUzMzkzNjZkNmNkZjA2NzY0ZDUuc2V0Q29udGVudChodG1sXzA2ZmMyNWExYzVlODRmNGI4MDFkZTY4ZjkyNmEzYWM3KTsKICAgICAgICAgICAgCgogICAgICAgICAgICBjaXJjbGVfbWFya2VyXzZkMjczYjA3ZWNiMjRlZTA5MzlmOWQ0YmZlNjlhNWUzLmJpbmRQb3B1cChwb3B1cF84ZWQ5ZTc4Y2I0NmI0NTMzOTM2NmQ2Y2RmMDY3NjRkNSkKICAgICAgICAgICAgOwoKICAgICAgICAgICAgCiAgICAgICAgCiAgICAKICAgICAgICAgICAgdmFyIGNpcmNsZV9tYXJrZXJfMzhhY2EyNTIzZGZhNGJlZWIyYWYwYzY3NTYxYWFlYzkgPSBMLmNpcmNsZU1hcmtlcigKICAgICAgICAgICAgICAgIFstMjMuNjAyNjkwMzg3MTk5OTYsIC00Ni42OTMxNTY0ODE3Mzg5MV0sCiAgICAgICAgICAgICAgICB7CiAgImJ1YmJsaW5nTW91c2VFdmVudHMiOiB0cnVlLAogICJjb2xvciI6ICJibHVlIiwKICAiZGFzaEFycmF5IjogbnVsbCwKICAiZGFzaE9mZnNldCI6IG51bGwsCiAgImZpbGwiOiB0cnVlLAogICJmaWxsQ29sb3IiOiAiYmx1ZSIsCiAgImZpbGxPcGFjaXR5IjogMC42LAogICJmaWxsUnVsZSI6ICJldmVub2RkIiwKICAibGluZUNhcCI6ICJyb3VuZCIsCiAgImxpbmVKb2luIjogInJvdW5kIiwKICAib3BhY2l0eSI6IDEuMCwKICAicmFkaXVzIjogNSwKICAic3Ryb2tlIjogdHJ1ZSwKICAid2VpZ2h0IjogMwp9CiAgICAgICAgICAgICAgICApCiAgICAgICAgICAgICAgICAuYWRkVG8obWFwXzMyNThmMzA2ODEyOTRlYmZiODg0NmJlYzZjYWE5M2VlKTsKICAgICAgICAgICAgCiAgICAKICAgICAgICAgICAgdmFyIHBvcHVwXzk4MDEzM2YxZGViYTQ1OWY4NjIzZGZjMmVkMGM1YWNjID0gTC5wb3B1cCh7bWF4V2lkdGg6ICcxMDAlJwogICAgICAgICAgICAKICAgICAgICAgICAgfSk7CgogICAgICAgICAgICAKICAgICAgICAgICAgICAgIHZhciBodG1sXzhjZDk0ZDY0MTI2OTQwZDNiZWYyNmUzMTU4ZTgyMGJhID0gJChgPGRpdiBpZD0iaHRtbF84Y2Q5NGQ2NDEyNjk0MGQzYmVmMjZlMzE1OGU4MjBiYSIgc3R5bGU9IndpZHRoOiAxMDAuMCU7IGhlaWdodDogMTAwLjAlOyI+Q2Fmw6k8L2Rpdj5gKVswXTsKICAgICAgICAgICAgICAgIHBvcHVwXzk4MDEzM2YxZGViYTQ1OWY4NjIzZGZjMmVkMGM1YWNjLnNldENvbnRlbnQoaHRtbF84Y2Q5NGQ2NDEyNjk0MGQzYmVmMjZlMzE1OGU4MjBiYSk7CiAgICAgICAgICAgIAoKICAgICAgICAgICAgY2lyY2xlX21hcmtlcl8zOGFjYTI1MjNkZmE0YmVlYjJhZjBjNjc1NjFhYWVjOS5iaW5kUG9wdXAocG9wdXBfOTgwMTMzZjFkZWJhNDU5Zjg2MjNkZmMyZWQwYzVhY2MpCiAgICAgICAgICAgIDsKCiAgICAgICAgICAgIAogICAgICAgIAogICAgCiAgICAgICAgICAgIHZhciBjaXJjbGVfbWFya2VyXzA1ZTY5MDZlZjBkYzRjZjZiMGQ0NGYwNDg2ZThiNDRhID0gTC5jaXJjbGVNYXJrZXIoCiAgICAgICAgICAgICAgICBbLTIzLjU2NDg1MjUzNTQ5MzEwNiwgLTQ2LjY2MTkxODE2MzI5OTU2XSwKICAgICAgICAgICAgICAgIHsKICAiYnViYmxpbmdNb3VzZUV2ZW50cyI6IHRydWUsCiAgImNvbG9yIjogImJsdWUiLAogICJkYXNoQXJyYXkiOiBudWxsLAogICJkYXNoT2Zmc2V0IjogbnVsbCwKICAiZmlsbCI6IHRydWUsCiAgImZpbGxDb2xvciI6ICJibHVlIiwKICAiZmlsbE9wYWNpdHkiOiAwLjYsCiAgImZpbGxSdWxlIjogImV2ZW5vZGQiLAogICJsaW5lQ2FwIjogInJvdW5kIiwKICAibGluZUpvaW4iOiAicm91bmQiLAogICJvcGFjaXR5IjogMS4wLAogICJyYWRpdXMiOiA1LAogICJzdHJva2UiOiB0cnVlLAogICJ3ZWlnaHQiOiAzCn0KICAgICAgICAgICAgICAgICkKICAgICAgICAgICAgICAgIC5hZGRUbyhtYXBfMzI1OGYzMDY4MTI5NGViZmI4ODQ2YmVjNmNhYTkzZWUpOwogICAgICAgICAgICAKICAgIAogICAgICAgICAgICB2YXIgcG9wdXBfOWU4ODlkYWEzYjg0NDlhOGI4OTUwZWI5NTI5MzEwODUgPSBMLnBvcHVwKHttYXhXaWR0aDogJzEwMCUnCiAgICAgICAgICAgIAogICAgICAgICAgICB9KTsKCiAgICAgICAgICAgIAogICAgICAgICAgICAgICAgdmFyIGh0bWxfMzAwMzJiNjFiZmU4NDBlZThhNzg0OTRmNjk0MjhjY2EgPSAkKGA8ZGl2IGlkPSJodG1sXzMwMDMyYjYxYmZlODQwZWU4YTc4NDk0ZjY5NDI4Y2NhIiBzdHlsZT0id2lkdGg6IDEwMC4wJTsgaGVpZ2h0OiAxMDAuMCU7Ij5Db2ZmZWUgU2hvcDwvZGl2PmApWzBdOwogICAgICAgICAgICAgICAgcG9wdXBfOWU4ODlkYWEzYjg0NDlhOGI4OTUwZWI5NTI5MzEwODUuc2V0Q29udGVudChodG1sXzMwMDMyYjYxYmZlODQwZWU4YTc4NDk0ZjY5NDI4Y2NhKTsKICAgICAgICAgICAgCgogICAgICAgICAgICBjaXJjbGVfbWFya2VyXzA1ZTY5MDZlZjBkYzRjZjZiMGQ0NGYwNDg2ZThiNDRhLmJpbmRQb3B1cChwb3B1cF85ZTg4OWRhYTNiODQ0OWE4Yjg5NTBlYjk1MjkzMTA4NSkKICAgICAgICAgICAgOwoKICAgICAgICAgICAgCiAgICAgICAgCiAgICAKICAgICAgICAgICAgdmFyIGNpcmNsZV9tYXJrZXJfYjVjM2Q3NDlkZjA0NDJjZGE3NjhmNjBlZDI3YzVhMDIgPSBMLmNpcmNsZU1hcmtlcigKICAgICAgICAgICAgICAgIFstMjMuNTg1ODc5LCAtNDYuNjQwNzA4XSwKICAgICAgICAgICAgICAgIHsKICAiYnViYmxpbmdNb3VzZUV2ZW50cyI6IHRydWUsCiAgImNvbG9yIjogImJsdWUiLAogICJkYXNoQXJyYXkiOiBudWxsLAogICJkYXNoT2Zmc2V0IjogbnVsbCwKICAiZmlsbCI6IHRydWUsCiAgImZpbGxDb2xvciI6ICJibHVlIiwKICAiZmlsbE9wYWNpdHkiOiAwLjYsCiAgImZpbGxSdWxlIjogImV2ZW5vZGQiLAogICJsaW5lQ2FwIjogInJvdW5kIiwKICAibGluZUpvaW4iOiAicm91bmQiLAogICJvcGFjaXR5IjogMS4wLAogICJyYWRpdXMiOiA1LAogICJzdHJva2UiOiB0cnVlLAogICJ3ZWlnaHQiOiAzCn0KICAgICAgICAgICAgICAgICkKICAgICAgICAgICAgICAgIC5hZGRUbyhtYXBfMzI1OGYzMDY4MTI5NGViZmI4ODQ2YmVjNmNhYTkzZWUpOwogICAgICAgICAgICAKICAgIAogICAgICAgICAgICB2YXIgcG9wdXBfNjNmOTFlZDc2NGVmNDBhOWFhYWI1ZDA1YmI5ZGQxOGUgPSBMLnBvcHVwKHttYXhXaWR0aDogJzEwMCUnCiAgICAgICAgICAgIAogICAgICAgICAgICB9KTsKCiAgICAgICAgICAgIAogICAgICAgICAgICAgICAgdmFyIGh0bWxfY2UyMzI3OTEyOTFkNDgxMmI2NjE1YWRlZWQ5ZDY0ZmIgPSAkKGA8ZGl2IGlkPSJodG1sX2NlMjMyNzkxMjkxZDQ4MTJiNjYxNWFkZWVkOWQ2NGZiIiBzdHlsZT0id2lkdGg6IDEwMC4wJTsgaGVpZ2h0OiAxMDAuMCU7Ij5Db2ZmZWUgU2hvcDwvZGl2PmApWzBdOwogICAgICAgICAgICAgICAgcG9wdXBfNjNmOTFlZDc2NGVmNDBhOWFhYWI1ZDA1YmI5ZGQxOGUuc2V0Q29udGVudChodG1sX2NlMjMyNzkxMjkxZDQ4MTJiNjYxNWFkZWVkOWQ2NGZiKTsKICAgICAgICAgICAgCgogICAgICAgICAgICBjaXJjbGVfbWFya2VyX2I1YzNkNzQ5ZGYwNDQyY2RhNzY4ZjYwZWQyN2M1YTAyLmJpbmRQb3B1cChwb3B1cF82M2Y5MWVkNzY0ZWY0MGE5YWFhYjVkMDViYjlkZDE4ZSkKICAgICAgICAgICAgOwoKICAgICAgICAgICAgCiAgICAgICAgCiAgICAKICAgICAgICAgICAgdmFyIGNpcmNsZV9tYXJrZXJfMzEzOWNlYTM1MGVlNGY2ZmI1OWE1ZmJiYjQ5MjRjMTkgPSBMLmNpcmNsZU1hcmtlcigKICAgICAgICAgICAgICAgIFstMjMuNTQwNTUyMDQzNDY1NjQ1LCAtNDYuNjM2NTY5NDYwNTI0MjNdLAogICAgICAgICAgICAgICAgewogICJidWJibGluZ01vdXNlRXZlbnRzIjogdHJ1ZSwKICAiY29sb3IiOiAiYmx1ZSIsCiAgImRhc2hBcnJheSI6IG51bGwsCiAgImRhc2hPZmZzZXQiOiBudWxsLAogICJmaWxsIjogdHJ1ZSwKICAiZmlsbENvbG9yIjogImJsdWUiLAogICJmaWxsT3BhY2l0eSI6IDAuNiwKICAiZmlsbFJ1bGUiOiAiZXZlbm9kZCIsCiAgImxpbmVDYXAiOiAicm91bmQiLAogICJsaW5lSm9pbiI6ICJyb3VuZCIsCiAgIm9wYWNpdHkiOiAxLjAsCiAgInJhZGl1cyI6IDUsCiAgInN0cm9rZSI6IHRydWUsCiAgIndlaWdodCI6IDMKfQogICAgICAgICAgICAgICAgKQogICAgICAgICAgICAgICAgLmFkZFRvKG1hcF8zMjU4ZjMwNjgxMjk0ZWJmYjg4NDZiZWM2Y2FhOTNlZSk7CiAgICAgICAgICAgIAogICAgCiAgICAgICAgICAgIHZhciBwb3B1cF8xZWMwZTNmMzE5NTc0YmJmODkzMmJmMWY0MTg1MDNjMCA9IEwucG9wdXAoe21heFdpZHRoOiAnMTAwJScKICAgICAgICAgICAgCiAgICAgICAgICAgIH0pOwoKICAgICAgICAgICAgCiAgICAgICAgICAgICAgICB2YXIgaHRtbF8zMmU4M2Q5MjdjNjk0YjZiOWI3MTE3MmYxNGEyMjc1NSA9ICQoYDxkaXYgaWQ9Imh0bWxfMzJlODNkOTI3YzY5NGI2YjliNzExNzJmMTRhMjI3NTUiIHN0eWxlPSJ3aWR0aDogMTAwLjAlOyBoZWlnaHQ6IDEwMC4wJTsiPkJyYXppbGlhbiBSZXN0YXVyYW50PC9kaXY+YClbMF07CiAgICAgICAgICAgICAgICBwb3B1cF8xZWMwZTNmMzE5NTc0YmJmODkzMmJmMWY0MTg1MDNjMC5zZXRDb250ZW50KGh0bWxfMzJlODNkOTI3YzY5NGI2YjliNzExNzJmMTRhMjI3NTUpOwogICAgICAgICAgICAKCiAgICAgICAgICAgIGNpcmNsZV9tYXJrZXJfMzEzOWNlYTM1MGVlNGY2ZmI1OWE1ZmJiYjQ5MjRjMTkuYmluZFBvcHVwKHBvcHVwXzFlYzBlM2YzMTk1NzRiYmY4OTMyYmYxZjQxODUwM2MwKQogICAgICAgICAgICA7CgogICAgICAgICAgICAKICAgICAgICAKICAgIAogICAgICAgICAgICB2YXIgY2lyY2xlX21hcmtlcl83ODAwNDRhMGNhYzY0NTQ0YjdiMzdmOWVmMDdlMDBjZCA9IEwuY2lyY2xlTWFya2VyKAogICAgICAgICAgICAgICAgWy0yMy41MTY2MjMsIC00Ni42MzI1ODddLAogICAgICAgICAgICAgICAgewogICJidWJibGluZ01vdXNlRXZlbnRzIjogdHJ1ZSwKICAiY29sb3IiOiAiYmx1ZSIsCiAgImRhc2hBcnJheSI6IG51bGwsCiAgImRhc2hPZmZzZXQiOiBudWxsLAogICJmaWxsIjogdHJ1ZSwKICAiZmlsbENvbG9yIjogImJsdWUiLAogICJmaWxsT3BhY2l0eSI6IDAuNiwKICAiZmlsbFJ1bGUiOiAiZXZlbm9kZCIsCiAgImxpbmVDYXAiOiAicm91bmQiLAogICJsaW5lSm9pbiI6ICJyb3VuZCIsCiAgIm9wYWNpdHkiOiAxLjAsCiAgInJhZGl1cyI6IDUsCiAgInN0cm9rZSI6IHRydWUsCiAgIndlaWdodCI6IDMKfQogICAgICAgICAgICAgICAgKQogICAgICAgICAgICAgICAgLmFkZFRvKG1hcF8zMjU4ZjMwNjgxMjk0ZWJmYjg4NDZiZWM2Y2FhOTNlZSk7CiAgICAgICAgICAgIAogICAgCiAgICAgICAgICAgIHZhciBwb3B1cF8wNzZjZDYwODU0YmQ0Y2VjYTUyNjA2Y2I1YzRhYzc5MCA9IEwucG9wdXAoe21heFdpZHRoOiAnMTAwJScKICAgICAgICAgICAgCiAgICAgICAgICAgIH0pOwoKICAgICAgICAgICAgCiAgICAgICAgICAgICAgICB2YXIgaHRtbF9jMzZkYTAxZGJhMTQ0MGQ5OGRiM2ZmYWI5MGNlNjgyOSA9ICQoYDxkaXYgaWQ9Imh0bWxfYzM2ZGEwMWRiYTE0NDBkOThkYjNmZmFiOTBjZTY4MjkiIHN0eWxlPSJ3aWR0aDogMTAwLjAlOyBoZWlnaHQ6IDEwMC4wJTsiPkJhcjwvZGl2PmApWzBdOwogICAgICAgICAgICAgICAgcG9wdXBfMDc2Y2Q2MDg1NGJkNGNlY2E1MjYwNmNiNWM0YWM3OTAuc2V0Q29udGVudChodG1sX2MzNmRhMDFkYmExNDQwZDk4ZGIzZmZhYjkwY2U2ODI5KTsKICAgICAgICAgICAgCgogICAgICAgICAgICBjaXJjbGVfbWFya2VyXzc4MDA0NGEwY2FjNjQ1NDRiN2IzN2Y5ZWYwN2UwMGNkLmJpbmRQb3B1cChwb3B1cF8wNzZjZDYwODU0YmQ0Y2VjYTUyNjA2Y2I1YzRhYzc5MCkKICAgICAgICAgICAgOwoKICAgICAgICAgICAgCiAgICAgICAgCiAgICAKICAgICAgICAgICAgdmFyIGNpcmNsZV9tYXJrZXJfNDdiNjhlMzI4MTI5NDg3OGI4NDkyN2ZmMGExZTZhM2UgPSBMLmNpcmNsZU1hcmtlcigKICAgICAgICAgICAgICAgIFstMjMuNTc4NDA0OTQzMDYxNjAzLCAtNDYuNjM4OTA3NTk4MTgzMTk1XSwKICAgICAgICAgICAgICAgIHsKICAiYnViYmxpbmdNb3VzZUV2ZW50cyI6IHRydWUsCiAgImNvbG9yIjogImJsdWUiLAogICJkYXNoQXJyYXkiOiBudWxsLAogICJkYXNoT2Zmc2V0IjogbnVsbCwKICAiZmlsbCI6IHRydWUsCiAgImZpbGxDb2xvciI6ICJibHVlIiwKICAiZmlsbE9wYWNpdHkiOiAwLjYsCiAgImZpbGxSdWxlIjogImV2ZW5vZGQiLAogICJsaW5lQ2FwIjogInJvdW5kIiwKICAibGluZUpvaW4iOiAicm91bmQiLAogICJvcGFjaXR5IjogMS4wLAogICJyYWRpdXMiOiA1LAogICJzdHJva2UiOiB0cnVlLAogICJ3ZWlnaHQiOiAzCn0KICAgICAgICAgICAgICAgICkKICAgICAgICAgICAgICAgIC5hZGRUbyhtYXBfMzI1OGYzMDY4MTI5NGViZmI4ODQ2YmVjNmNhYTkzZWUpOwogICAgICAgICAgICAKICAgIAogICAgICAgICAgICB2YXIgcG9wdXBfN2MyZGM1M2QxOGE0NDRkYzkxNzI2NWUwNWQwY2UxZjkgPSBMLnBvcHVwKHttYXhXaWR0aDogJzEwMCUnCiAgICAgICAgICAgIAogICAgICAgICAgICB9KTsKCiAgICAgICAgICAgIAogICAgICAgICAgICAgICAgdmFyIGh0bWxfZGU1MTBiNmUzYWJjNGRlMzg1NGJhNTA0YWQxODJiOTEgPSAkKGA8ZGl2IGlkPSJodG1sX2RlNTEwYjZlM2FiYzRkZTM4NTRiYTUwNGFkMTgyYjkxIiBzdHlsZT0id2lkdGg6IDEwMC4wJTsgaGVpZ2h0OiAxMDAuMCU7Ij5Db2ZmZWUgU2hvcDwvZGl2PmApWzBdOwogICAgICAgICAgICAgICAgcG9wdXBfN2MyZGM1M2QxOGE0NDRkYzkxNzI2NWUwNWQwY2UxZjkuc2V0Q29udGVudChodG1sX2RlNTEwYjZlM2FiYzRkZTM4NTRiYTUwNGFkMTgyYjkxKTsKICAgICAgICAgICAgCgogICAgICAgICAgICBjaXJjbGVfbWFya2VyXzQ3YjY4ZTMyODEyOTQ4NzhiODQ5MjdmZjBhMWU2YTNlLmJpbmRQb3B1cChwb3B1cF83YzJkYzUzZDE4YTQ0NGRjOTE3MjY1ZTA1ZDBjZTFmOSkKICAgICAgICAgICAgOwoKICAgICAgICAgICAgCiAgICAgICAgCiAgICAKICAgICAgICAgICAgdmFyIGNpcmNsZV9tYXJrZXJfZTdmNjkwMmM5N2UzNGY2YTg4ZWJmZDdiNmNmOWRjZDAgPSBMLmNpcmNsZU1hcmtlcigKICAgICAgICAgICAgICAgIFstMjMuNTU1NTMxOTAwMDg5MDk3LCAtNDYuNjM0OTQwNTA1MDI3NzddLAogICAgICAgICAgICAgICAgewogICJidWJibGluZ01vdXNlRXZlbnRzIjogdHJ1ZSwKICAiY29sb3IiOiAiYmx1ZSIsCiAgImRhc2hBcnJheSI6IG51bGwsCiAgImRhc2hPZmZzZXQiOiBudWxsLAogICJmaWxsIjogdHJ1ZSwKICAiZmlsbENvbG9yIjogImJsdWUiLAogICJmaWxsT3BhY2l0eSI6IDAuNiwKICAiZmlsbFJ1bGUiOiAiZXZlbm9kZCIsCiAgImxpbmVDYXAiOiAicm91bmQiLAogICJsaW5lSm9pbiI6ICJyb3VuZCIsCiAgIm9wYWNpdHkiOiAxLjAsCiAgInJhZGl1cyI6IDUsCiAgInN0cm9rZSI6IHRydWUsCiAgIndlaWdodCI6IDMKfQogICAgICAgICAgICAgICAgKQogICAgICAgICAgICAgICAgLmFkZFRvKG1hcF8zMjU4ZjMwNjgxMjk0ZWJmYjg4NDZiZWM2Y2FhOTNlZSk7CiAgICAgICAgICAgIAogICAgCiAgICAgICAgICAgIHZhciBwb3B1cF9iYTVkMzFmYmVjZGI0ZGU1YWQ5ZjA5ODBjZjcxZmMxNSA9IEwucG9wdXAoe21heFdpZHRoOiAnMTAwJScKICAgICAgICAgICAgCiAgICAgICAgICAgIH0pOwoKICAgICAgICAgICAgCiAgICAgICAgICAgICAgICB2YXIgaHRtbF85M2MyNzYxNGE5NzI0ZmFlYWI5MWRmOTU2NzY2MGYwMyA9ICQoYDxkaXYgaWQ9Imh0bWxfOTNjMjc2MTRhOTcyNGZhZWFiOTFkZjk1Njc2NjBmMDMiIHN0eWxlPSJ3aWR0aDogMTAwLjAlOyBoZWlnaHQ6IDEwMC4wJTsiPkNvZmZlZSBTaG9wPC9kaXY+YClbMF07CiAgICAgICAgICAgICAgICBwb3B1cF9iYTVkMzFmYmVjZGI0ZGU1YWQ5ZjA5ODBjZjcxZmMxNS5zZXRDb250ZW50KGh0bWxfOTNjMjc2MTRhOTcyNGZhZWFiOTFkZjk1Njc2NjBmMDMpOwogICAgICAgICAgICAKCiAgICAgICAgICAgIGNpcmNsZV9tYXJrZXJfZTdmNjkwMmM5N2UzNGY2YTg4ZWJmZDdiNmNmOWRjZDAuYmluZFBvcHVwKHBvcHVwX2JhNWQzMWZiZWNkYjRkZTVhZDlmMDk4MGNmNzFmYzE1KQogICAgICAgICAgICA7CgogICAgICAgICAgICAKICAgICAgICAKICAgIAogICAgICAgICAgICB2YXIgY2lyY2xlX21hcmtlcl85MDc1OThkZDRlMTQ0MDU0OWQ2OWRlNTBiZDk2ZmU1YiA9IEwuY2lyY2xlTWFya2VyKAogICAgICAgICAgICAgICAgWy0yMy41NTY0NzgzNjg4NDQ4MTgsIC00Ni42NDU2Nzg3NzU4MzE2XSwKICAgICAgICAgICAgICAgIHsKICAiYnViYmxpbmdNb3VzZUV2ZW50cyI6IHRydWUsCiAgImNvbG9yIjogImJsdWUiLAogICJkYXNoQXJyYXkiOiBudWxsLAogICJkYXNoT2Zmc2V0IjogbnVsbCwKICAiZmlsbCI6IHRydWUsCiAgImZpbGxDb2xvciI6ICJibHVlIiwKICAiZmlsbE9wYWNpdHkiOiAwLjYsCiAgImZpbGxSdWxlIjogImV2ZW5vZGQiLAogICJsaW5lQ2FwIjogInJvdW5kIiwKICAibGluZUpvaW4iOiAicm91bmQiLAogICJvcGFjaXR5IjogMS4wLAogICJyYWRpdXMiOiA1LAogICJzdHJva2UiOiB0cnVlLAogICJ3ZWlnaHQiOiAzCn0KICAgICAgICAgICAgICAgICkKICAgICAgICAgICAgICAgIC5hZGRUbyhtYXBfMzI1OGYzMDY4MTI5NGViZmI4ODQ2YmVjNmNhYTkzZWUpOwogICAgICAgICAgICAKICAgIAogICAgICAgICAgICB2YXIgcG9wdXBfZmNjOGUzMDFlMGFiNDQwZWFjMzU1MzI2ZTk4OTVlNjYgPSBMLnBvcHVwKHttYXhXaWR0aDogJzEwMCUnCiAgICAgICAgICAgIAogICAgICAgICAgICB9KTsKCiAgICAgICAgICAgIAogICAgICAgICAgICAgICAgdmFyIGh0bWxfNTZmZWRmMWUzZjdjNGVlNWI2N2I5ZWFjMGI3ODBhNTAgPSAkKGA8ZGl2IGlkPSJodG1sXzU2ZmVkZjFlM2Y3YzRlZTViNjdiOWVhYzBiNzgwYTUwIiBzdHlsZT0id2lkdGg6IDEwMC4wJTsgaGVpZ2h0OiAxMDAuMCU7Ij5DYWbDqTwvZGl2PmApWzBdOwogICAgICAgICAgICAgICAgcG9wdXBfZmNjOGUzMDFlMGFiNDQwZWFjMzU1MzI2ZTk4OTVlNjYuc2V0Q29udGVudChodG1sXzU2ZmVkZjFlM2Y3YzRlZTViNjdiOWVhYzBiNzgwYTUwKTsKICAgICAgICAgICAgCgogICAgICAgICAgICBjaXJjbGVfbWFya2VyXzkwNzU5OGRkNGUxNDQwNTQ5ZDY5ZGU1MGJkOTZmZTViLmJpbmRQb3B1cChwb3B1cF9mY2M4ZTMwMWUwYWI0NDBlYWMzNTUzMjZlOTg5NWU2NikKICAgICAgICAgICAgOwoKICAgICAgICAgICAgCiAgICAgICAgCiAgICAKICAgICAgICAgICAgdmFyIGNpcmNsZV9tYXJrZXJfYzFhNjIyYTA3NjdlNDQwM2IxOTY0NGNlMjE0ZDc2YjYgPSBMLmNpcmNsZU1hcmtlcigKICAgICAgICAgICAgICAgIFstMjMuNTg1MzIzLCAtNDYuNjM0ODc1XSwKICAgICAgICAgICAgICAgIHsKICAiYnViYmxpbmdNb3VzZUV2ZW50cyI6IHRydWUsCiAgImNvbG9yIjogImJsdWUiLAogICJkYXNoQXJyYXkiOiBudWxsLAogICJkYXNoT2Zmc2V0IjogbnVsbCwKICAiZmlsbCI6IHRydWUsCiAgImZpbGxDb2xvciI6ICJibHVlIiwKICAiZmlsbE9wYWNpdHkiOiAwLjYsCiAgImZpbGxSdWxlIjogImV2ZW5vZGQiLAogICJsaW5lQ2FwIjogInJvdW5kIiwKICAibGluZUpvaW4iOiAicm91bmQiLAogICJvcGFjaXR5IjogMS4wLAogICJyYWRpdXMiOiA1LAogICJzdHJva2UiOiB0cnVlLAogICJ3ZWlnaHQiOiAzCn0KICAgICAgICAgICAgICAgICkKICAgICAgICAgICAgICAgIC5hZGRUbyhtYXBfMzI1OGYzMDY4MTI5NGViZmI4ODQ2YmVjNmNhYTkzZWUpOwogICAgICAgICAgICAKICAgIAogICAgICAgICAgICB2YXIgcG9wdXBfZjkyZjM3YTU4M2M4NGZmMmFmNzAwZWFiYjU4NWE4ZTMgPSBMLnBvcHVwKHttYXhXaWR0aDogJzEwMCUnCiAgICAgICAgICAgIAogICAgICAgICAgICB9KTsKCiAgICAgICAgICAgIAogICAgICAgICAgICAgICAgdmFyIGh0bWxfYzRlNzJlMGM3OTgyNGJkMTlkNDI1ZjkyNjI0Y2M5OTEgPSAkKGA8ZGl2IGlkPSJodG1sX2M0ZTcyZTBjNzk4MjRiZDE5ZDQyNWY5MjYyNGNjOTkxIiBzdHlsZT0id2lkdGg6IDEwMC4wJTsgaGVpZ2h0OiAxMDAuMCU7Ij5DYWbDqTwvZGl2PmApWzBdOwogICAgICAgICAgICAgICAgcG9wdXBfZjkyZjM3YTU4M2M4NGZmMmFmNzAwZWFiYjU4NWE4ZTMuc2V0Q29udGVudChodG1sX2M0ZTcyZTBjNzk4MjRiZDE5ZDQyNWY5MjYyNGNjOTkxKTsKICAgICAgICAgICAgCgogICAgICAgICAgICBjaXJjbGVfbWFya2VyX2MxYTYyMmEwNzY3ZTQ0MDNiMTk2NDRjZTIxNGQ3NmI2LmJpbmRQb3B1cChwb3B1cF9mOTJmMzdhNTgzYzg0ZmYyYWY3MDBlYWJiNTg1YThlMykKICAgICAgICAgICAgOwoKICAgICAgICAgICAgCiAgICAgICAgCiAgICAKICAgICAgICAgICAgdmFyIGNpcmNsZV9tYXJrZXJfZTBhYWU3NjMyNzkwNGZhZThjMmE5NTYyNjY4Yjg3ZjkgPSBMLmNpcmNsZU1hcmtlcigKICAgICAgICAgICAgICAgIFstMjMuNTQxNzM3NDAwNzI0Mjk4LCAtNDYuNTc3MzI4NjYwMTQ4NThdLAogICAgICAgICAgICAgICAgewogICJidWJibGluZ01vdXNlRXZlbnRzIjogdHJ1ZSwKICAiY29sb3IiOiAiYmx1ZSIsCiAgImRhc2hBcnJheSI6IG51bGwsCiAgImRhc2hPZmZzZXQiOiBudWxsLAogICJmaWxsIjogdHJ1ZSwKICAiZmlsbENvbG9yIjogImJsdWUiLAogICJmaWxsT3BhY2l0eSI6IDAuNiwKICAiZmlsbFJ1bGUiOiAiZXZlbm9kZCIsCiAgImxpbmVDYXAiOiAicm91bmQiLAogICJsaW5lSm9pbiI6ICJyb3VuZCIsCiAgIm9wYWNpdHkiOiAxLjAsCiAgInJhZGl1cyI6IDUsCiAgInN0cm9rZSI6IHRydWUsCiAgIndlaWdodCI6IDMKfQogICAgICAgICAgICAgICAgKQogICAgICAgICAgICAgICAgLmFkZFRvKG1hcF8zMjU4ZjMwNjgxMjk0ZWJmYjg4NDZiZWM2Y2FhOTNlZSk7CiAgICAgICAgICAgIAogICAgCiAgICAgICAgICAgIHZhciBwb3B1cF9iMmJkMmZkMDlmY2Y0NDRlYWZhNjljNGY4NTdjNjVmNCA9IEwucG9wdXAoe21heFdpZHRoOiAnMTAwJScKICAgICAgICAgICAgCiAgICAgICAgICAgIH0pOwoKICAgICAgICAgICAgCiAgICAgICAgICAgICAgICB2YXIgaHRtbF84YjliYzU5ZjMwZjM0MDViOTlhMzc5NzJkZTI2OWE5OCA9ICQoYDxkaXYgaWQ9Imh0bWxfOGI5YmM1OWYzMGYzNDA1Yjk5YTM3OTcyZGUyNjlhOTgiIHN0eWxlPSJ3aWR0aDogMTAwLjAlOyBoZWlnaHQ6IDEwMC4wJTsiPkNhZsOpPC9kaXY+YClbMF07CiAgICAgICAgICAgICAgICBwb3B1cF9iMmJkMmZkMDlmY2Y0NDRlYWZhNjljNGY4NTdjNjVmNC5zZXRDb250ZW50KGh0bWxfOGI5YmM1OWYzMGYzNDA1Yjk5YTM3OTcyZGUyNjlhOTgpOwogICAgICAgICAgICAKCiAgICAgICAgICAgIGNpcmNsZV9tYXJrZXJfZTBhYWU3NjMyNzkwNGZhZThjMmE5NTYyNjY4Yjg3ZjkuYmluZFBvcHVwKHBvcHVwX2IyYmQyZmQwOWZjZjQ0NGVhZmE2OWM0Zjg1N2M2NWY0KQogICAgICAgICAgICA7CgogICAgICAgICAgICAKICAgICAgICAKICAgIAogICAgICAgICAgICB2YXIgY2lyY2xlX21hcmtlcl83NzY1YzBmMGJmM2E0YzQxYmJhNDZlYjlhMzk1M2Y1YyA9IEwuY2lyY2xlTWFya2VyKAogICAgICAgICAgICAgICAgWy0yMy41NTEwNzIzMTA4OTE2NiwgLTQ2LjY3ODMwMzA5NTg5MTY4XSwKICAgICAgICAgICAgICAgIHsKICAiYnViYmxpbmdNb3VzZUV2ZW50cyI6IHRydWUsCiAgImNvbG9yIjogImJsdWUiLAogICJkYXNoQXJyYXkiOiBudWxsLAogICJkYXNoT2Zmc2V0IjogbnVsbCwKICAiZmlsbCI6IHRydWUsCiAgImZpbGxDb2xvciI6ICJibHVlIiwKICAiZmlsbE9wYWNpdHkiOiAwLjYsCiAgImZpbGxSdWxlIjogImV2ZW5vZGQiLAogICJsaW5lQ2FwIjogInJvdW5kIiwKICAibGluZUpvaW4iOiAicm91bmQiLAogICJvcGFjaXR5IjogMS4wLAogICJyYWRpdXMiOiA1LAogICJzdHJva2UiOiB0cnVlLAogICJ3ZWlnaHQiOiAzCn0KICAgICAgICAgICAgICAgICkKICAgICAgICAgICAgICAgIC5hZGRUbyhtYXBfMzI1OGYzMDY4MTI5NGViZmI4ODQ2YmVjNmNhYTkzZWUpOwogICAgICAgICAgICAKICAgIAogICAgICAgICAgICB2YXIgcG9wdXBfMjRiMWI3NTI3NTljNDdjNGIxMWY0OGNkNzY1MGQ1MDMgPSBMLnBvcHVwKHttYXhXaWR0aDogJzEwMCUnCiAgICAgICAgICAgIAogICAgICAgICAgICB9KTsKCiAgICAgICAgICAgIAogICAgICAgICAgICAgICAgdmFyIGh0bWxfYmNhZGQ5ZWM0YzgzNDVkOWE2MzgxMWM2YWQ1YWExNDUgPSAkKGA8ZGl2IGlkPSJodG1sX2JjYWRkOWVjNGM4MzQ1ZDlhNjM4MTFjNmFkNWFhMTQ1IiBzdHlsZT0id2lkdGg6IDEwMC4wJTsgaGVpZ2h0OiAxMDAuMCU7Ij5CYWdlbCBTaG9wPC9kaXY+YClbMF07CiAgICAgICAgICAgICAgICBwb3B1cF8yNGIxYjc1Mjc1OWM0N2M0YjExZjQ4Y2Q3NjUwZDUwMy5zZXRDb250ZW50KGh0bWxfYmNhZGQ5ZWM0YzgzNDVkOWE2MzgxMWM2YWQ1YWExNDUpOwogICAgICAgICAgICAKCiAgICAgICAgICAgIGNpcmNsZV9tYXJrZXJfNzc2NWMwZjBiZjNhNGM0MWJiYTQ2ZWI5YTM5NTNmNWMuYmluZFBvcHVwKHBvcHVwXzI0YjFiNzUyNzU5YzQ3YzRiMTFmNDhjZDc2NTBkNTAzKQogICAgICAgICAgICA7CgogICAgICAgICAgICAKICAgICAgICAKICAgIAogICAgICAgICAgICB2YXIgY2lyY2xlX21hcmtlcl84OGFjNmJiZjBkNDY0NTM4OTA2MjUzZGI1MmY1NDJhOCA9IEwuY2lyY2xlTWFya2VyKAogICAgICAgICAgICAgICAgWy0yMy41NTYxMzQ0NjY1NDcyMiwgLTQ2LjY1ODQ4Mjc2MDcxOTI5NV0sCiAgICAgICAgICAgICAgICB7CiAgImJ1YmJsaW5nTW91c2VFdmVudHMiOiB0cnVlLAogICJjb2xvciI6ICJibHVlIiwKICAiZGFzaEFycmF5IjogbnVsbCwKICAiZGFzaE9mZnNldCI6IG51bGwsCiAgImZpbGwiOiB0cnVlLAogICJmaWxsQ29sb3IiOiAiYmx1ZSIsCiAgImZpbGxPcGFjaXR5IjogMC42LAogICJmaWxsUnVsZSI6ICJldmVub2RkIiwKICAibGluZUNhcCI6ICJyb3VuZCIsCiAgImxpbmVKb2luIjogInJvdW5kIiwKICAib3BhY2l0eSI6IDEuMCwKICAicmFkaXVzIjogNSwKICAic3Ryb2tlIjogdHJ1ZSwKICAid2VpZ2h0IjogMwp9CiAgICAgICAgICAgICAgICApCiAgICAgICAgICAgICAgICAuYWRkVG8obWFwXzMyNThmMzA2ODEyOTRlYmZiODg0NmJlYzZjYWE5M2VlKTsKICAgICAgICAgICAgCiAgICAKICAgICAgICAgICAgdmFyIHBvcHVwX2U1ZGYwM2JkODFiNDQyY2M4YzQwMjk2NmEwYTFiOTI0ID0gTC5wb3B1cCh7bWF4V2lkdGg6ICcxMDAlJwogICAgICAgICAgICAKICAgICAgICAgICAgfSk7CgogICAgICAgICAgICAKICAgICAgICAgICAgICAgIHZhciBodG1sX2IzMmVhYTM2MDdkODRhNzdiMzM3ZjBiMjliYjQ1YjYyID0gJChgPGRpdiBpZD0iaHRtbF9iMzJlYWEzNjA3ZDg0YTc3YjMzN2YwYjI5YmI0NWI2MiIgc3R5bGU9IndpZHRoOiAxMDAuMCU7IGhlaWdodDogMTAwLjAlOyI+Q29mZmVlIFNob3A8L2Rpdj5gKVswXTsKICAgICAgICAgICAgICAgIHBvcHVwX2U1ZGYwM2JkODFiNDQyY2M4YzQwMjk2NmEwYTFiOTI0LnNldENvbnRlbnQoaHRtbF9iMzJlYWEzNjA3ZDg0YTc3YjMzN2YwYjI5YmI0NWI2Mik7CiAgICAgICAgICAgIAoKICAgICAgICAgICAgY2lyY2xlX21hcmtlcl84OGFjNmJiZjBkNDY0NTM4OTA2MjUzZGI1MmY1NDJhOC5iaW5kUG9wdXAocG9wdXBfZTVkZjAzYmQ4MWI0NDJjYzhjNDAyOTY2YTBhMWI5MjQpCiAgICAgICAgICAgIDsKCiAgICAgICAgICAgIAogICAgICAgIAogICAgCiAgICAgICAgICAgIHZhciBjaXJjbGVfbWFya2VyXzFlODY0ODQ2NmY1MjQ3ODJhMmMzNmQyMTk1MmI1ZTRhID0gTC5jaXJjbGVNYXJrZXIoCiAgICAgICAgICAgICAgICBbLTIzLjU0NjM2MTkyMzIxNzc3MywgLTQ2LjYyNjQ2ODY1ODQ0NzI2Nl0sCiAgICAgICAgICAgICAgICB7CiAgImJ1YmJsaW5nTW91c2VFdmVudHMiOiB0cnVlLAogICJjb2xvciI6ICJibHVlIiwKICAiZGFzaEFycmF5IjogbnVsbCwKICAiZGFzaE9mZnNldCI6IG51bGwsCiAgImZpbGwiOiB0cnVlLAogICJmaWxsQ29sb3IiOiAiYmx1ZSIsCiAgImZpbGxPcGFjaXR5IjogMC42LAogICJmaWxsUnVsZSI6ICJldmVub2RkIiwKICAibGluZUNhcCI6ICJyb3VuZCIsCiAgImxpbmVKb2luIjogInJvdW5kIiwKICAib3BhY2l0eSI6IDEuMCwKICAicmFkaXVzIjogNSwKICAic3Ryb2tlIjogdHJ1ZSwKICAid2VpZ2h0IjogMwp9CiAgICAgICAgICAgICAgICApCiAgICAgICAgICAgICAgICAuYWRkVG8obWFwXzMyNThmMzA2ODEyOTRlYmZiODg0NmJlYzZjYWE5M2VlKTsKICAgICAgICAgICAgCiAgICAKICAgICAgICAgICAgdmFyIHBvcHVwX2UyYzMzY2ZiNDI0NDQyNzc5YWE2N2YxMTAzZjg3YjYxID0gTC5wb3B1cCh7bWF4V2lkdGg6ICcxMDAlJwogICAgICAgICAgICAKICAgICAgICAgICAgfSk7CgogICAgICAgICAgICAKICAgICAgICAgICAgICAgIHZhciBodG1sX2NhNTFhOWQ0YjU0NDRlMmU5MmIyMmYzZDFjMTZmZmIwID0gJChgPGRpdiBpZD0iaHRtbF9jYTUxYTlkNGI1NDQ0ZTJlOTJiMjJmM2QxYzE2ZmZiMCIgc3R5bGU9IndpZHRoOiAxMDAuMCU7IGhlaWdodDogMTAwLjAlOyI+Um9jayBDbHViPC9kaXY+YClbMF07CiAgICAgICAgICAgICAgICBwb3B1cF9lMmMzM2NmYjQyNDQ0Mjc3OWFhNjdmMTEwM2Y4N2I2MS5zZXRDb250ZW50KGh0bWxfY2E1MWE5ZDRiNTQ0NGUyZTkyYjIyZjNkMWMxNmZmYjApOwogICAgICAgICAgICAKCiAgICAgICAgICAgIGNpcmNsZV9tYXJrZXJfMWU4NjQ4NDY2ZjUyNDc4MmEyYzM2ZDIxOTUyYjVlNGEuYmluZFBvcHVwKHBvcHVwX2UyYzMzY2ZiNDI0NDQyNzc5YWE2N2YxMTAzZjg3YjYxKQogICAgICAgICAgICA7CgogICAgICAgICAgICAKICAgICAgICAKICAgIAogICAgICAgICAgICB2YXIgY2lyY2xlX21hcmtlcl9lZGJjNmY4ZWZhYmU0NzZjOTU5OTljOWFiZDZkOTE5NiA9IEwuY2lyY2xlTWFya2VyKAogICAgICAgICAgICAgICAgWy0yMy41NjU4NDM0NzE5MjMyODcsIC00Ni42OTEyNzg1OTU2ODcyM10sCiAgICAgICAgICAgICAgICB7CiAgImJ1YmJsaW5nTW91c2VFdmVudHMiOiB0cnVlLAogICJjb2xvciI6ICJibHVlIiwKICAiZGFzaEFycmF5IjogbnVsbCwKICAiZGFzaE9mZnNldCI6IG51bGwsCiAgImZpbGwiOiB0cnVlLAogICJmaWxsQ29sb3IiOiAiYmx1ZSIsCiAgImZpbGxPcGFjaXR5IjogMC42LAogICJmaWxsUnVsZSI6ICJldmVub2RkIiwKICAibGluZUNhcCI6ICJyb3VuZCIsCiAgImxpbmVKb2luIjogInJvdW5kIiwKICAib3BhY2l0eSI6IDEuMCwKICAicmFkaXVzIjogNSwKICAic3Ryb2tlIjogdHJ1ZSwKICAid2VpZ2h0IjogMwp9CiAgICAgICAgICAgICAgICApCiAgICAgICAgICAgICAgICAuYWRkVG8obWFwXzMyNThmMzA2ODEyOTRlYmZiODg0NmJlYzZjYWE5M2VlKTsKICAgICAgICAgICAgCiAgICAKICAgICAgICAgICAgdmFyIHBvcHVwXzI5MzE5ZDA2MzIzYjQ4OWE4ZGY2NmJhMTQyZTJlZjc2ID0gTC5wb3B1cCh7bWF4V2lkdGg6ICcxMDAlJwogICAgICAgICAgICAKICAgICAgICAgICAgfSk7CgogICAgICAgICAgICAKICAgICAgICAgICAgICAgIHZhciBodG1sXzI1YTZjMTRiZWUyNzQyMmNhNTAxODBjNDZmNDE0N2UwID0gJChgPGRpdiBpZD0iaHRtbF8yNWE2YzE0YmVlMjc0MjJjYTUwMTgwYzQ2ZjQxNDdlMCIgc3R5bGU9IndpZHRoOiAxMDAuMCU7IGhlaWdodDogMTAwLjAlOyI+QnJlYWtmYXN0IFNwb3Q8L2Rpdj5gKVswXTsKICAgICAgICAgICAgICAgIHBvcHVwXzI5MzE5ZDA2MzIzYjQ4OWE4ZGY2NmJhMTQyZTJlZjc2LnNldENvbnRlbnQoaHRtbF8yNWE2YzE0YmVlMjc0MjJjYTUwMTgwYzQ2ZjQxNDdlMCk7CiAgICAgICAgICAgIAoKICAgICAgICAgICAgY2lyY2xlX21hcmtlcl9lZGJjNmY4ZWZhYmU0NzZjOTU5OTljOWFiZDZkOTE5Ni5iaW5kUG9wdXAocG9wdXBfMjkzMTlkMDYzMjNiNDg5YThkZjY2YmExNDJlMmVmNzYpCiAgICAgICAgICAgIDsKCiAgICAgICAgICAgIAogICAgICAgIAogICAgCiAgICAgICAgICAgIHZhciBjaXJjbGVfbWFya2VyX2E3ZmM2OWE5OTExNjQzNmZhOTUzZDZiZDAyY2U3OTA3ID0gTC5jaXJjbGVNYXJrZXIoCiAgICAgICAgICAgICAgICBbLTIzLjUzNjk3NTQxMjU3NTM4NCwgLTQ2LjY0NTYyMjIyMDM3Mzk2XSwKICAgICAgICAgICAgICAgIHsKICAiYnViYmxpbmdNb3VzZUV2ZW50cyI6IHRydWUsCiAgImNvbG9yIjogImJsdWUiLAogICJkYXNoQXJyYXkiOiBudWxsLAogICJkYXNoT2Zmc2V0IjogbnVsbCwKICAiZmlsbCI6IHRydWUsCiAgImZpbGxDb2xvciI6ICJibHVlIiwKICAiZmlsbE9wYWNpdHkiOiAwLjYsCiAgImZpbGxSdWxlIjogImV2ZW5vZGQiLAogICJsaW5lQ2FwIjogInJvdW5kIiwKICAibGluZUpvaW4iOiAicm91bmQiLAogICJvcGFjaXR5IjogMS4wLAogICJyYWRpdXMiOiA1LAogICJzdHJva2UiOiB0cnVlLAogICJ3ZWlnaHQiOiAzCn0KICAgICAgICAgICAgICAgICkKICAgICAgICAgICAgICAgIC5hZGRUbyhtYXBfMzI1OGYzMDY4MTI5NGViZmI4ODQ2YmVjNmNhYTkzZWUpOwogICAgICAgICAgICAKICAgIAogICAgICAgICAgICB2YXIgcG9wdXBfMGI2M2U5YzhkMjI1NDdiNDkzNjg2MDBhMjliMDBjYTAgPSBMLnBvcHVwKHttYXhXaWR0aDogJzEwMCUnCiAgICAgICAgICAgIAogICAgICAgICAgICB9KTsKCiAgICAgICAgICAgIAogICAgICAgICAgICAgICAgdmFyIGh0bWxfNTFmMDdkOTI3NGQ3NDYwZDliNjNkNzEwNzcyMjZhMGUgPSAkKGA8ZGl2IGlkPSJodG1sXzUxZjA3ZDkyNzRkNzQ2MGQ5YjYzZDcxMDc3MjI2YTBlIiBzdHlsZT0id2lkdGg6IDEwMC4wJTsgaGVpZ2h0OiAxMDAuMCU7Ij5Db2ZmZWUgU2hvcDwvZGl2PmApWzBdOwogICAgICAgICAgICAgICAgcG9wdXBfMGI2M2U5YzhkMjI1NDdiNDkzNjg2MDBhMjliMDBjYTAuc2V0Q29udGVudChodG1sXzUxZjA3ZDkyNzRkNzQ2MGQ5YjYzZDcxMDc3MjI2YTBlKTsKICAgICAgICAgICAgCgogICAgICAgICAgICBjaXJjbGVfbWFya2VyX2E3ZmM2OWE5OTExNjQzNmZhOTUzZDZiZDAyY2U3OTA3LmJpbmRQb3B1cChwb3B1cF8wYjYzZTljOGQyMjU0N2I0OTM2ODYwMGEyOWIwMGNhMCkKICAgICAgICAgICAgOwoKICAgICAgICAgICAgCiAgICAgICAgCiAgICAKICAgICAgICAgICAgdmFyIGNpcmNsZV9tYXJrZXJfMWYwZDcyYjNjMzZlNDVkYjhiM2I4MTYzODg3NzgyYjcgPSBMLmNpcmNsZU1hcmtlcigKICAgICAgICAgICAgICAgIFstMjMuNTQ2MDA3NzY4MjkxNTg0LCAtNDYuNjUyNjE5MjQ1MzM2MjVdLAogICAgICAgICAgICAgICAgewogICJidWJibGluZ01vdXNlRXZlbnRzIjogdHJ1ZSwKICAiY29sb3IiOiAiYmx1ZSIsCiAgImRhc2hBcnJheSI6IG51bGwsCiAgImRhc2hPZmZzZXQiOiBudWxsLAogICJmaWxsIjogdHJ1ZSwKICAiZmlsbENvbG9yIjogImJsdWUiLAogICJmaWxsT3BhY2l0eSI6IDAuNiwKICAiZmlsbFJ1bGUiOiAiZXZlbm9kZCIsCiAgImxpbmVDYXAiOiAicm91bmQiLAogICJsaW5lSm9pbiI6ICJyb3VuZCIsCiAgIm9wYWNpdHkiOiAxLjAsCiAgInJhZGl1cyI6IDUsCiAgInN0cm9rZSI6IHRydWUsCiAgIndlaWdodCI6IDMKfQogICAgICAgICAgICAgICAgKQogICAgICAgICAgICAgICAgLmFkZFRvKG1hcF8zMjU4ZjMwNjgxMjk0ZWJmYjg4NDZiZWM2Y2FhOTNlZSk7CiAgICAgICAgICAgIAogICAgCiAgICAgICAgICAgIHZhciBwb3B1cF8yNDM0NDBiMDM4NWQ0Mzc3OGM3NDg2MDIxYzFiYTdmNyA9IEwucG9wdXAoe21heFdpZHRoOiAnMTAwJScKICAgICAgICAgICAgCiAgICAgICAgICAgIH0pOwoKICAgICAgICAgICAgCiAgICAgICAgICAgICAgICB2YXIgaHRtbF8yMmQ4ZTk0NzlhMTA0MTBjYTRmOGVhMDIyY2ZhNjM0ZiA9ICQoYDxkaXYgaWQ9Imh0bWxfMjJkOGU5NDc5YTEwNDEwY2E0ZjhlYTAyMmNmYTYzNGYiIHN0eWxlPSJ3aWR0aDogMTAwLjAlOyBoZWlnaHQ6IDEwMC4wJTsiPkNhZsOpPC9kaXY+YClbMF07CiAgICAgICAgICAgICAgICBwb3B1cF8yNDM0NDBiMDM4NWQ0Mzc3OGM3NDg2MDIxYzFiYTdmNy5zZXRDb250ZW50KGh0bWxfMjJkOGU5NDc5YTEwNDEwY2E0ZjhlYTAyMmNmYTYzNGYpOwogICAgICAgICAgICAKCiAgICAgICAgICAgIGNpcmNsZV9tYXJrZXJfMWYwZDcyYjNjMzZlNDVkYjhiM2I4MTYzODg3NzgyYjcuYmluZFBvcHVwKHBvcHVwXzI0MzQ0MGIwMzg1ZDQzNzc4Yzc0ODYwMjFjMWJhN2Y3KQogICAgICAgICAgICA7CgogICAgICAgICAgICAKICAgICAgICAKICAgIAogICAgICAgICAgICB2YXIgY2lyY2xlX21hcmtlcl8zY2JlODJhODE0MmY0ZmQxOTg0YjJjNjAxNDFjM2QyYiA9IEwuY2lyY2xlTWFya2VyKAogICAgICAgICAgICAgICAgWy0yMy41OTM4OTQ4NTE1MzU4OSwgLTQ2LjY3NDYyNDcyMjcxMjczXSwKICAgICAgICAgICAgICAgIHsKICAiYnViYmxpbmdNb3VzZUV2ZW50cyI6IHRydWUsCiAgImNvbG9yIjogImJsdWUiLAogICJkYXNoQXJyYXkiOiBudWxsLAogICJkYXNoT2Zmc2V0IjogbnVsbCwKICAiZmlsbCI6IHRydWUsCiAgImZpbGxDb2xvciI6ICJibHVlIiwKICAiZmlsbE9wYWNpdHkiOiAwLjYsCiAgImZpbGxSdWxlIjogImV2ZW5vZGQiLAogICJsaW5lQ2FwIjogInJvdW5kIiwKICAibGluZUpvaW4iOiAicm91bmQiLAogICJvcGFjaXR5IjogMS4wLAogICJyYWRpdXMiOiA1LAogICJzdHJva2UiOiB0cnVlLAogICJ3ZWlnaHQiOiAzCn0KICAgICAgICAgICAgICAgICkKICAgICAgICAgICAgICAgIC5hZGRUbyhtYXBfMzI1OGYzMDY4MTI5NGViZmI4ODQ2YmVjNmNhYTkzZWUpOwogICAgICAgICAgICAKICAgIAogICAgICAgICAgICB2YXIgcG9wdXBfNWU5N2U2YzM0YmY3NGM3OGJlYzE0ZWJlZGUwNzVlMmUgPSBMLnBvcHVwKHttYXhXaWR0aDogJzEwMCUnCiAgICAgICAgICAgIAogICAgICAgICAgICB9KTsKCiAgICAgICAgICAgIAogICAgICAgICAgICAgICAgdmFyIGh0bWxfNmIyZDA3MDliMGZjNDRlNGJmZDFkMmZlNjdjYWNiMjEgPSAkKGA8ZGl2IGlkPSJodG1sXzZiMmQwNzA5YjBmYzQ0ZTRiZmQxZDJmZTY3Y2FjYjIxIiBzdHlsZT0id2lkdGg6IDEwMC4wJTsgaGVpZ2h0OiAxMDAuMCU7Ij5PZmZpY2U8L2Rpdj5gKVswXTsKICAgICAgICAgICAgICAgIHBvcHVwXzVlOTdlNmMzNGJmNzRjNzhiZWMxNGViZWRlMDc1ZTJlLnNldENvbnRlbnQoaHRtbF82YjJkMDcwOWIwZmM0NGU0YmZkMWQyZmU2N2NhY2IyMSk7CiAgICAgICAgICAgIAoKICAgICAgICAgICAgY2lyY2xlX21hcmtlcl8zY2JlODJhODE0MmY0ZmQxOTg0YjJjNjAxNDFjM2QyYi5iaW5kUG9wdXAocG9wdXBfNWU5N2U2YzM0YmY3NGM3OGJlYzE0ZWJlZGUwNzVlMmUpCiAgICAgICAgICAgIDsKCiAgICAgICAgICAgIAogICAgICAgIAogICAgCiAgICAgICAgICAgIHZhciBjaXJjbGVfbWFya2VyXzUzZmMzM2Y5YjRmNTQyOWQ5ZTI3YzJhNzk0MmViZTcwID0gTC5jaXJjbGVNYXJrZXIoCiAgICAgICAgICAgICAgICBbLTIzLjYyODc3Nzg3NzEwNzk4MiwgLTQ2LjY0NTY5MjkxNDcwNjAyXSwKICAgICAgICAgICAgICAgIHsKICAiYnViYmxpbmdNb3VzZUV2ZW50cyI6IHRydWUsCiAgImNvbG9yIjogImJsdWUiLAogICJkYXNoQXJyYXkiOiBudWxsLAogICJkYXNoT2Zmc2V0IjogbnVsbCwKICAiZmlsbCI6IHRydWUsCiAgImZpbGxDb2xvciI6ICJibHVlIiwKICAiZmlsbE9wYWNpdHkiOiAwLjYsCiAgImZpbGxSdWxlIjogImV2ZW5vZGQiLAogICJsaW5lQ2FwIjogInJvdW5kIiwKICAibGluZUpvaW4iOiAicm91bmQiLAogICJvcGFjaXR5IjogMS4wLAogICJyYWRpdXMiOiA1LAogICJzdHJva2UiOiB0cnVlLAogICJ3ZWlnaHQiOiAzCn0KICAgICAgICAgICAgICAgICkKICAgICAgICAgICAgICAgIC5hZGRUbyhtYXBfMzI1OGYzMDY4MTI5NGViZmI4ODQ2YmVjNmNhYTkzZWUpOwogICAgICAgICAgICAKICAgIAogICAgICAgICAgICB2YXIgcG9wdXBfNWY5NTVhN2NiNmFhNGY4ODhmYmI3M2RjOGYyZDE4MjUgPSBMLnBvcHVwKHttYXhXaWR0aDogJzEwMCUnCiAgICAgICAgICAgIAogICAgICAgICAgICB9KTsKCiAgICAgICAgICAgIAogICAgICAgICAgICAgICAgdmFyIGh0bWxfYzk0ZGUwZWFjZDJhNGNiN2IwYTZiNTA2NjhjZDU5MmEgPSAkKGA8ZGl2IGlkPSJodG1sX2M5NGRlMGVhY2QyYTRjYjdiMGE2YjUwNjY4Y2Q1OTJhIiBzdHlsZT0id2lkdGg6IDEwMC4wJTsgaGVpZ2h0OiAxMDAuMCU7Ij5Db2ZmZWUgU2hvcDwvZGl2PmApWzBdOwogICAgICAgICAgICAgICAgcG9wdXBfNWY5NTVhN2NiNmFhNGY4ODhmYmI3M2RjOGYyZDE4MjUuc2V0Q29udGVudChodG1sX2M5NGRlMGVhY2QyYTRjYjdiMGE2YjUwNjY4Y2Q1OTJhKTsKICAgICAgICAgICAgCgogICAgICAgICAgICBjaXJjbGVfbWFya2VyXzUzZmMzM2Y5YjRmNTQyOWQ5ZTI3YzJhNzk0MmViZTcwLmJpbmRQb3B1cChwb3B1cF81Zjk1NWE3Y2I2YWE0Zjg4OGZiYjczZGM4ZjJkMTgyNSkKICAgICAgICAgICAgOwoKICAgICAgICAgICAgCiAgICAgICAgCiAgICAKICAgICAgICAgICAgdmFyIGNpcmNsZV9tYXJrZXJfOWI5Njg1ODk3MGU1NDFhNzllYjVmZjI5YzZmNmI2MGYgPSBMLmNpcmNsZU1hcmtlcigKICAgICAgICAgICAgICAgIFstMjMuNjAyMDk4OTY4MzE3OTEsIC00Ni42OTQ5ODQ0MzYwMzUxNTZdLAogICAgICAgICAgICAgICAgewogICJidWJibGluZ01vdXNlRXZlbnRzIjogdHJ1ZSwKICAiY29sb3IiOiAiYmx1ZSIsCiAgImRhc2hBcnJheSI6IG51bGwsCiAgImRhc2hPZmZzZXQiOiBudWxsLAogICJmaWxsIjogdHJ1ZSwKICAiZmlsbENvbG9yIjogImJsdWUiLAogICJmaWxsT3BhY2l0eSI6IDAuNiwKICAiZmlsbFJ1bGUiOiAiZXZlbm9kZCIsCiAgImxpbmVDYXAiOiAicm91bmQiLAogICJsaW5lSm9pbiI6ICJyb3VuZCIsCiAgIm9wYWNpdHkiOiAxLjAsCiAgInJhZGl1cyI6IDUsCiAgInN0cm9rZSI6IHRydWUsCiAgIndlaWdodCI6IDMKfQogICAgICAgICAgICAgICAgKQogICAgICAgICAgICAgICAgLmFkZFRvKG1hcF8zMjU4ZjMwNjgxMjk0ZWJmYjg4NDZiZWM2Y2FhOTNlZSk7CiAgICAgICAgICAgIAogICAgCiAgICAgICAgICAgIHZhciBwb3B1cF81YTk5M2VhZDM5NTg0YzFlOGViYTAyM2EwZjczNzhkZiA9IEwucG9wdXAoe21heFdpZHRoOiAnMTAwJScKICAgICAgICAgICAgCiAgICAgICAgICAgIH0pOwoKICAgICAgICAgICAgCiAgICAgICAgICAgICAgICB2YXIgaHRtbF9hYzQzYTY5OTc1YWI0NmUwOGNkMTEyNGVjYjQ5N2Q4MSA9ICQoYDxkaXYgaWQ9Imh0bWxfYWM0M2E2OTk3NWFiNDZlMDhjZDExMjRlY2I0OTdkODEiIHN0eWxlPSJ3aWR0aDogMTAwLjAlOyBoZWlnaHQ6IDEwMC4wJTsiPkNvZmZlZSBTaG9wPC9kaXY+YClbMF07CiAgICAgICAgICAgICAgICBwb3B1cF81YTk5M2VhZDM5NTg0YzFlOGViYTAyM2EwZjczNzhkZi5zZXRDb250ZW50KGh0bWxfYWM0M2E2OTk3NWFiNDZlMDhjZDExMjRlY2I0OTdkODEpOwogICAgICAgICAgICAKCiAgICAgICAgICAgIGNpcmNsZV9tYXJrZXJfOWI5Njg1ODk3MGU1NDFhNzllYjVmZjI5YzZmNmI2MGYuYmluZFBvcHVwKHBvcHVwXzVhOTkzZWFkMzk1ODRjMWU4ZWJhMDIzYTBmNzM3OGRmKQogICAgICAgICAgICA7CgogICAgICAgICAgICAKICAgICAgICAKICAgIAogICAgICAgICAgICB2YXIgY2lyY2xlX21hcmtlcl82NjAxY2JiNDM4MWU0NjI0YTU5M2VjZmQ3MzZmZmEwMSA9IEwuY2lyY2xlTWFya2VyKAogICAgICAgICAgICAgICAgWy0yMy41NTc1NzYsIC00Ni42NTAwMDRdLAogICAgICAgICAgICAgICAgewogICJidWJibGluZ01vdXNlRXZlbnRzIjogdHJ1ZSwKICAiY29sb3IiOiAiYmx1ZSIsCiAgImRhc2hBcnJheSI6IG51bGwsCiAgImRhc2hPZmZzZXQiOiBudWxsLAogICJmaWxsIjogdHJ1ZSwKICAiZmlsbENvbG9yIjogImJsdWUiLAogICJmaWxsT3BhY2l0eSI6IDAuNiwKICAiZmlsbFJ1bGUiOiAiZXZlbm9kZCIsCiAgImxpbmVDYXAiOiAicm91bmQiLAogICJsaW5lSm9pbiI6ICJyb3VuZCIsCiAgIm9wYWNpdHkiOiAxLjAsCiAgInJhZGl1cyI6IDUsCiAgInN0cm9rZSI6IHRydWUsCiAgIndlaWdodCI6IDMKfQogICAgICAgICAgICAgICAgKQogICAgICAgICAgICAgICAgLmFkZFRvKG1hcF8zMjU4ZjMwNjgxMjk0ZWJmYjg4NDZiZWM2Y2FhOTNlZSk7CiAgICAgICAgICAgIAogICAgCiAgICAgICAgICAgIHZhciBwb3B1cF8wYmFjZjJiYmExYTU0NDc0YWRlZDJiN2ZkMzU0ZTIwZiA9IEwucG9wdXAoe21heFdpZHRoOiAnMTAwJScKICAgICAgICAgICAgCiAgICAgICAgICAgIH0pOwoKICAgICAgICAgICAgCiAgICAgICAgICAgICAgICB2YXIgaHRtbF8zNDcyZjNkNDkwZWE0ZDA5YTYyYWVjZmM2N2I1NWQxZiA9ICQoYDxkaXYgaWQ9Imh0bWxfMzQ3MmYzZDQ5MGVhNGQwOWE2MmFlY2ZjNjdiNTVkMWYiIHN0eWxlPSJ3aWR0aDogMTAwLjAlOyBoZWlnaHQ6IDEwMC4wJTsiPkJpc3RybzwvZGl2PmApWzBdOwogICAgICAgICAgICAgICAgcG9wdXBfMGJhY2YyYmJhMWE1NDQ3NGFkZWQyYjdmZDM1NGUyMGYuc2V0Q29udGVudChodG1sXzM0NzJmM2Q0OTBlYTRkMDlhNjJhZWNmYzY3YjU1ZDFmKTsKICAgICAgICAgICAgCgogICAgICAgICAgICBjaXJjbGVfbWFya2VyXzY2MDFjYmI0MzgxZTQ2MjRhNTkzZWNmZDczNmZmYTAxLmJpbmRQb3B1cChwb3B1cF8wYmFjZjJiYmExYTU0NDc0YWRlZDJiN2ZkMzU0ZTIwZikKICAgICAgICAgICAgOwoKICAgICAgICAgICAgCiAgICAgICAgCiAgICAKICAgICAgICAgICAgdmFyIGNpcmNsZV9tYXJrZXJfODdiZjI0ZjY0OWE1NGM3ODg2Y2IwMTljYTA5MDljOWEgPSBMLmNpcmNsZU1hcmtlcigKICAgICAgICAgICAgICAgIFstMjMuNjM1NDMyOTY0MjUzNjc0LCAtNDYuNjQyNzc1MjQ2NTQyMjFdLAogICAgICAgICAgICAgICAgewogICJidWJibGluZ01vdXNlRXZlbnRzIjogdHJ1ZSwKICAiY29sb3IiOiAiYmx1ZSIsCiAgImRhc2hBcnJheSI6IG51bGwsCiAgImRhc2hPZmZzZXQiOiBudWxsLAogICJmaWxsIjogdHJ1ZSwKICAiZmlsbENvbG9yIjogImJsdWUiLAogICJmaWxsT3BhY2l0eSI6IDAuNiwKICAiZmlsbFJ1bGUiOiAiZXZlbm9kZCIsCiAgImxpbmVDYXAiOiAicm91bmQiLAogICJsaW5lSm9pbiI6ICJyb3VuZCIsCiAgIm9wYWNpdHkiOiAxLjAsCiAgInJhZGl1cyI6IDUsCiAgInN0cm9rZSI6IHRydWUsCiAgIndlaWdodCI6IDMKfQogICAgICAgICAgICAgICAgKQogICAgICAgICAgICAgICAgLmFkZFRvKG1hcF8zMjU4ZjMwNjgxMjk0ZWJmYjg4NDZiZWM2Y2FhOTNlZSk7CiAgICAgICAgICAgIAogICAgCiAgICAgICAgICAgIHZhciBwb3B1cF9mN2QwMTYwYTBlZjU0ZDhmOTA0ZDBlYTJjMmY5ZjJiZSA9IEwucG9wdXAoe21heFdpZHRoOiAnMTAwJScKICAgICAgICAgICAgCiAgICAgICAgICAgIH0pOwoKICAgICAgICAgICAgCiAgICAgICAgICAgICAgICB2YXIgaHRtbF83ODM1ZDE5MTliMTI0NTlkYjE4NjM2NTBiMTdlOTk1OCA9ICQoYDxkaXYgaWQ9Imh0bWxfNzgzNWQxOTE5YjEyNDU5ZGIxODYzNjUwYjE3ZTk5NTgiIHN0eWxlPSJ3aWR0aDogMTAwLjAlOyBoZWlnaHQ6IDEwMC4wJTsiPkNvZmZlZSBTaG9wPC9kaXY+YClbMF07CiAgICAgICAgICAgICAgICBwb3B1cF9mN2QwMTYwYTBlZjU0ZDhmOTA0ZDBlYTJjMmY5ZjJiZS5zZXRDb250ZW50KGh0bWxfNzgzNWQxOTE5YjEyNDU5ZGIxODYzNjUwYjE3ZTk5NTgpOwogICAgICAgICAgICAKCiAgICAgICAgICAgIGNpcmNsZV9tYXJrZXJfODdiZjI0ZjY0OWE1NGM3ODg2Y2IwMTljYTA5MDljOWEuYmluZFBvcHVwKHBvcHVwX2Y3ZDAxNjBhMGVmNTRkOGY5MDRkMGVhMmMyZjlmMmJlKQogICAgICAgICAgICA7CgogICAgICAgICAgICAKICAgICAgICAKICAgIAogICAgICAgICAgICB2YXIgY2lyY2xlX21hcmtlcl9kODBkZDRkMzk0NjM0ZTdjODE5MDlmOTJkZGRjODA5ZSA9IEwuY2lyY2xlTWFya2VyKAogICAgICAgICAgICAgICAgWy0yMy41MjU3MzU4NzAzNDk0LCAtNDYuNjc1OTAxMzQzNTkwMzJdLAogICAgICAgICAgICAgICAgewogICJidWJibGluZ01vdXNlRXZlbnRzIjogdHJ1ZSwKICAiY29sb3IiOiAiYmx1ZSIsCiAgImRhc2hBcnJheSI6IG51bGwsCiAgImRhc2hPZmZzZXQiOiBudWxsLAogICJmaWxsIjogdHJ1ZSwKICAiZmlsbENvbG9yIjogImJsdWUiLAogICJmaWxsT3BhY2l0eSI6IDAuNiwKICAiZmlsbFJ1bGUiOiAiZXZlbm9kZCIsCiAgImxpbmVDYXAiOiAicm91bmQiLAogICJsaW5lSm9pbiI6ICJyb3VuZCIsCiAgIm9wYWNpdHkiOiAxLjAsCiAgInJhZGl1cyI6IDUsCiAgInN0cm9rZSI6IHRydWUsCiAgIndlaWdodCI6IDMKfQogICAgICAgICAgICAgICAgKQogICAgICAgICAgICAgICAgLmFkZFRvKG1hcF8zMjU4ZjMwNjgxMjk0ZWJmYjg4NDZiZWM2Y2FhOTNlZSk7CiAgICAgICAgICAgIAogICAgCiAgICAgICAgICAgIHZhciBwb3B1cF9lNzllMjRkMDQ1NjU0M2M2OWMyMGI2ZjYxOTNkZmMwNiA9IEwucG9wdXAoe21heFdpZHRoOiAnMTAwJScKICAgICAgICAgICAgCiAgICAgICAgICAgIH0pOwoKICAgICAgICAgICAgCiAgICAgICAgICAgICAgICB2YXIgaHRtbF85NTQ1NTBjMWM3NWU0ZjMwYjYyZjk3M2YwMDczZmNjNiA9ICQoYDxkaXYgaWQ9Imh0bWxfOTU0NTUwYzFjNzVlNGYzMGI2MmY5NzNmMDA3M2ZjYzYiIHN0eWxlPSJ3aWR0aDogMTAwLjAlOyBoZWlnaHQ6IDEwMC4wJTsiPkNhZsOpPC9kaXY+YClbMF07CiAgICAgICAgICAgICAgICBwb3B1cF9lNzllMjRkMDQ1NjU0M2M2OWMyMGI2ZjYxOTNkZmMwNi5zZXRDb250ZW50KGh0bWxfOTU0NTUwYzFjNzVlNGYzMGI2MmY5NzNmMDA3M2ZjYzYpOwogICAgICAgICAgICAKCiAgICAgICAgICAgIGNpcmNsZV9tYXJrZXJfZDgwZGQ0ZDM5NDYzNGU3YzgxOTA5ZjkyZGRkYzgwOWUuYmluZFBvcHVwKHBvcHVwX2U3OWUyNGQwNDU2NTQzYzY5YzIwYjZmNjE5M2RmYzA2KQogICAgICAgICAgICA7CgogICAgICAgICAgICAKICAgICAgICAKICAgIAogICAgICAgICAgICB2YXIgY2lyY2xlX21hcmtlcl85ZmIxMjU0YTVjYzQ0NThmYTFjNWE0Y2I0OGIyODI4MiA9IEwuY2lyY2xlTWFya2VyKAogICAgICAgICAgICAgICAgWy0yMy41Mjc0OTUwMTY2NzE5MjgsIC00Ni42NDE1MDk0NTgyMTUzMjRdLAogICAgICAgICAgICAgICAgewogICJidWJibGluZ01vdXNlRXZlbnRzIjogdHJ1ZSwKICAiY29sb3IiOiAiYmx1ZSIsCiAgImRhc2hBcnJheSI6IG51bGwsCiAgImRhc2hPZmZzZXQiOiBudWxsLAogICJmaWxsIjogdHJ1ZSwKICAiZmlsbENvbG9yIjogImJsdWUiLAogICJmaWxsT3BhY2l0eSI6IDAuNiwKICAiZmlsbFJ1bGUiOiAiZXZlbm9kZCIsCiAgImxpbmVDYXAiOiAicm91bmQiLAogICJsaW5lSm9pbiI6ICJyb3VuZCIsCiAgIm9wYWNpdHkiOiAxLjAsCiAgInJhZGl1cyI6IDUsCiAgInN0cm9rZSI6IHRydWUsCiAgIndlaWdodCI6IDMKfQogICAgICAgICAgICAgICAgKQogICAgICAgICAgICAgICAgLmFkZFRvKG1hcF8zMjU4ZjMwNjgxMjk0ZWJmYjg4NDZiZWM2Y2FhOTNlZSk7CiAgICAgICAgICAgIAogICAgCiAgICAgICAgICAgIHZhciBwb3B1cF8yZjU3MGZhODc1MTg0NGQ1ODg1OWYwZjlmODQ3M2E4OCA9IEwucG9wdXAoe21heFdpZHRoOiAnMTAwJScKICAgICAgICAgICAgCiAgICAgICAgICAgIH0pOwoKICAgICAgICAgICAgCiAgICAgICAgICAgICAgICB2YXIgaHRtbF9hMjY2NGM1OGM3YWU0MmYzODMwNTEyZDA5MzU0NDZjMiA9ICQoYDxkaXYgaWQ9Imh0bWxfYTI2NjRjNThjN2FlNDJmMzgzMDUxMmQwOTM1NDQ2YzIiIHN0eWxlPSJ3aWR0aDogMTAwLjAlOyBoZWlnaHQ6IDEwMC4wJTsiPkNvZmZlZSBTaG9wPC9kaXY+YClbMF07CiAgICAgICAgICAgICAgICBwb3B1cF8yZjU3MGZhODc1MTg0NGQ1ODg1OWYwZjlmODQ3M2E4OC5zZXRDb250ZW50KGh0bWxfYTI2NjRjNThjN2FlNDJmMzgzMDUxMmQwOTM1NDQ2YzIpOwogICAgICAgICAgICAKCiAgICAgICAgICAgIGNpcmNsZV9tYXJrZXJfOWZiMTI1NGE1Y2M0NDU4ZmExYzVhNGNiNDhiMjgyODIuYmluZFBvcHVwKHBvcHVwXzJmNTcwZmE4NzUxODQ0ZDU4ODU5ZjBmOWY4NDczYTg4KQogICAgICAgICAgICA7CgogICAgICAgICAgICAKICAgICAgICAKICAgIAogICAgICAgICAgICB2YXIgY2lyY2xlX21hcmtlcl9kZTgyNzI0YTQxMGE0YmVjOTA5NjI3ZDE5YTIxMmVmYiA9IEwuY2lyY2xlTWFya2VyKAogICAgICAgICAgICAgICAgWy0yMy41NjYwMTIsIC00Ni42NTYxMjFdLAogICAgICAgICAgICAgICAgewogICJidWJibGluZ01vdXNlRXZlbnRzIjogdHJ1ZSwKICAiY29sb3IiOiAiYmx1ZSIsCiAgImRhc2hBcnJheSI6IG51bGwsCiAgImRhc2hPZmZzZXQiOiBudWxsLAogICJmaWxsIjogdHJ1ZSwKICAiZmlsbENvbG9yIjogImJsdWUiLAogICJmaWxsT3BhY2l0eSI6IDAuNiwKICAiZmlsbFJ1bGUiOiAiZXZlbm9kZCIsCiAgImxpbmVDYXAiOiAicm91bmQiLAogICJsaW5lSm9pbiI6ICJyb3VuZCIsCiAgIm9wYWNpdHkiOiAxLjAsCiAgInJhZGl1cyI6IDUsCiAgInN0cm9rZSI6IHRydWUsCiAgIndlaWdodCI6IDMKfQogICAgICAgICAgICAgICAgKQogICAgICAgICAgICAgICAgLmFkZFRvKG1hcF8zMjU4ZjMwNjgxMjk0ZWJmYjg4NDZiZWM2Y2FhOTNlZSk7CiAgICAgICAgICAgIAogICAgCiAgICAgICAgICAgIHZhciBwb3B1cF9hMjNhZWNjN2VlMDU0MGJlYTYzYjM5YjczYzk2YjExYiA9IEwucG9wdXAoe21heFdpZHRoOiAnMTAwJScKICAgICAgICAgICAgCiAgICAgICAgICAgIH0pOwoKICAgICAgICAgICAgCiAgICAgICAgICAgICAgICB2YXIgaHRtbF9kYzliMDJmMTg2MmQ0NzExYjI1ODY2NzJiYjc3Y2VmZSA9ICQoYDxkaXYgaWQ9Imh0bWxfZGM5YjAyZjE4NjJkNDcxMWIyNTg2NjcyYmI3N2NlZmUiIHN0eWxlPSJ3aWR0aDogMTAwLjAlOyBoZWlnaHQ6IDEwMC4wJTsiPkNvZmZlZSBTaG9wPC9kaXY+YClbMF07CiAgICAgICAgICAgICAgICBwb3B1cF9hMjNhZWNjN2VlMDU0MGJlYTYzYjM5YjczYzk2YjExYi5zZXRDb250ZW50KGh0bWxfZGM5YjAyZjE4NjJkNDcxMWIyNTg2NjcyYmI3N2NlZmUpOwogICAgICAgICAgICAKCiAgICAgICAgICAgIGNpcmNsZV9tYXJrZXJfZGU4MjcyNGE0MTBhNGJlYzkwOTYyN2QxOWEyMTJlZmIuYmluZFBvcHVwKHBvcHVwX2EyM2FlY2M3ZWUwNTQwYmVhNjNiMzliNzNjOTZiMTFiKQogICAgICAgICAgICA7CgogICAgICAgICAgICAKICAgICAgICAKICAgIAogICAgICAgICAgICB2YXIgY2lyY2xlX21hcmtlcl9mNzRjM2E2YTg1MjI0MGVmYTlhNTM4N2Q0ODFmMTdhNCA9IEwuY2lyY2xlTWFya2VyKAogICAgICAgICAgICAgICAgWy0yMy42MTUwMzQ2NDc2NTA0NDMsIC00Ni41Njg2Mjc4NTM5MjU0NV0sCiAgICAgICAgICAgICAgICB7CiAgImJ1YmJsaW5nTW91c2VFdmVudHMiOiB0cnVlLAogICJjb2xvciI6ICJibHVlIiwKICAiZGFzaEFycmF5IjogbnVsbCwKICAiZGFzaE9mZnNldCI6IG51bGwsCiAgImZpbGwiOiB0cnVlLAogICJmaWxsQ29sb3IiOiAiYmx1ZSIsCiAgImZpbGxPcGFjaXR5IjogMC42LAogICJmaWxsUnVsZSI6ICJldmVub2RkIiwKICAibGluZUNhcCI6ICJyb3VuZCIsCiAgImxpbmVKb2luIjogInJvdW5kIiwKICAib3BhY2l0eSI6IDEuMCwKICAicmFkaXVzIjogNSwKICAic3Ryb2tlIjogdHJ1ZSwKICAid2VpZ2h0IjogMwp9CiAgICAgICAgICAgICAgICApCiAgICAgICAgICAgICAgICAuYWRkVG8obWFwXzMyNThmMzA2ODEyOTRlYmZiODg0NmJlYzZjYWE5M2VlKTsKICAgICAgICAgICAgCiAgICAKICAgICAgICAgICAgdmFyIHBvcHVwXzI3NzQ0NmVmYmU0MzQ0MDlhOTUxZDg4MDkwNTkwNDdjID0gTC5wb3B1cCh7bWF4V2lkdGg6ICcxMDAlJwogICAgICAgICAgICAKICAgICAgICAgICAgfSk7CgogICAgICAgICAgICAKICAgICAgICAgICAgICAgIHZhciBodG1sXzU0MTUxNTgxN2I0OTQ3YTA4MzQ2MDZkYTczNzI5NDUzID0gJChgPGRpdiBpZD0iaHRtbF81NDE1MTU4MTdiNDk0N2EwODM0NjA2ZGE3MzcyOTQ1MyIgc3R5bGU9IndpZHRoOiAxMDAuMCU7IGhlaWdodDogMTAwLjAlOyI+Q2Fmw6k8L2Rpdj5gKVswXTsKICAgICAgICAgICAgICAgIHBvcHVwXzI3NzQ0NmVmYmU0MzQ0MDlhOTUxZDg4MDkwNTkwNDdjLnNldENvbnRlbnQoaHRtbF81NDE1MTU4MTdiNDk0N2EwODM0NjA2ZGE3MzcyOTQ1Myk7CiAgICAgICAgICAgIAoKICAgICAgICAgICAgY2lyY2xlX21hcmtlcl9mNzRjM2E2YTg1MjI0MGVmYTlhNTM4N2Q0ODFmMTdhNC5iaW5kUG9wdXAocG9wdXBfMjc3NDQ2ZWZiZTQzNDQwOWE5NTFkODgwOTA1OTA0N2MpCiAgICAgICAgICAgIDsKCiAgICAgICAgICAgIAogICAgICAgIAogICAgCiAgICAgICAgICAgIHZhciBjaXJjbGVfbWFya2VyXzc4YzlkN2E0YTIzMjQ5MTk4ODg4ZDk0MjVjNGNhY2NiID0gTC5jaXJjbGVNYXJrZXIoCiAgICAgICAgICAgICAgICBbLTIzLjYzMDA4NDQzMjI0NzM2NSwgLTQ2LjcwNzQzNjY5NDMwMzFdLAogICAgICAgICAgICAgICAgewogICJidWJibGluZ01vdXNlRXZlbnRzIjogdHJ1ZSwKICAiY29sb3IiOiAiYmx1ZSIsCiAgImRhc2hBcnJheSI6IG51bGwsCiAgImRhc2hPZmZzZXQiOiBudWxsLAogICJmaWxsIjogdHJ1ZSwKICAiZmlsbENvbG9yIjogImJsdWUiLAogICJmaWxsT3BhY2l0eSI6IDAuNiwKICAiZmlsbFJ1bGUiOiAiZXZlbm9kZCIsCiAgImxpbmVDYXAiOiAicm91bmQiLAogICJsaW5lSm9pbiI6ICJyb3VuZCIsCiAgIm9wYWNpdHkiOiAxLjAsCiAgInJhZGl1cyI6IDUsCiAgInN0cm9rZSI6IHRydWUsCiAgIndlaWdodCI6IDMKfQogICAgICAgICAgICAgICAgKQogICAgICAgICAgICAgICAgLmFkZFRvKG1hcF8zMjU4ZjMwNjgxMjk0ZWJmYjg4NDZiZWM2Y2FhOTNlZSk7CiAgICAgICAgICAgIAogICAgCiAgICAgICAgICAgIHZhciBwb3B1cF81MWRiNzExYjZmNTI0YmIxYTE3MmQ5ZGEzZjYxNTgwZCA9IEwucG9wdXAoe21heFdpZHRoOiAnMTAwJScKICAgICAgICAgICAgCiAgICAgICAgICAgIH0pOwoKICAgICAgICAgICAgCiAgICAgICAgICAgICAgICB2YXIgaHRtbF82MjM3ZjQzZjg0YWM0NzY0OGZiZTEwZGIwMGQ5MTdhMyA9ICQoYDxkaXYgaWQ9Imh0bWxfNjIzN2Y0M2Y4NGFjNDc2NDhmYmUxMGRiMDBkOTE3YTMiIHN0eWxlPSJ3aWR0aDogMTAwLjAlOyBoZWlnaHQ6IDEwMC4wJTsiPkNhZsOpPC9kaXY+YClbMF07CiAgICAgICAgICAgICAgICBwb3B1cF81MWRiNzExYjZmNTI0YmIxYTE3MmQ5ZGEzZjYxNTgwZC5zZXRDb250ZW50KGh0bWxfNjIzN2Y0M2Y4NGFjNDc2NDhmYmUxMGRiMDBkOTE3YTMpOwogICAgICAgICAgICAKCiAgICAgICAgICAgIGNpcmNsZV9tYXJrZXJfNzhjOWQ3YTRhMjMyNDkxOTg4ODhkOTQyNWM0Y2FjY2IuYmluZFBvcHVwKHBvcHVwXzUxZGI3MTFiNmY1MjRiYjFhMTcyZDlkYTNmNjE1ODBkKQogICAgICAgICAgICA7CgogICAgICAgICAgICAKICAgICAgICAKPC9zY3JpcHQ+ onload=\"this.contentDocument.open();this.contentDocument.write(atob(this.getAttribute('data-html')));this.contentDocument.close();\" allowfullscreen webkitallowfullscreen mozallowfullscreen></iframe></div></div>"
            ],
            "text/plain": [
              "<folium.folium.Map at 0x7f288dd58438>"
            ]
          },
          "metadata": {
            "tags": []
          },
          "execution_count": 107
        }
      ]
    },
    {
      "cell_type": "code",
      "metadata": {
        "id": "hhoERaG4fLYH"
      },
      "source": [
        "!wget -q -O 'newyork_data.json' https://cf-courses-data.s3.us.cloud-object-storage.appdomain.cloud/IBMDeveloperSkillsNetwork-DS0701EN-SkillsNetwork/labs/newyork_data.json\n",
        "print('Data downloaded!')\n",
        "\n",
        "with open('newyork_data.json') as json_data:\n",
        "    nyc_data = json.load(json_data)"
      ],
      "execution_count": null,
      "outputs": []
    },
    {
      "cell_type": "code",
      "metadata": {
        "id": "jaXwxi1MfRWA"
      },
      "source": [
        "neighborhoods_data = nyc_data['features']\n",
        "neighborhoods_data[0]"
      ],
      "execution_count": null,
      "outputs": []
    },
    {
      "cell_type": "code",
      "metadata": {
        "id": "cptsDIl5fVvf"
      },
      "source": [
        "# define the dataframe columns\n",
        "column_names = ['Borough', 'Neighborhood', 'Latitude', 'Longitude'] \n",
        "\n",
        "# instantiate the dataframe\n",
        "neighborhoods = pd.DataFrame(columns=column_names)"
      ],
      "execution_count": null,
      "outputs": []
    },
    {
      "cell_type": "code",
      "metadata": {
        "id": "-ingtr7hgMnp"
      },
      "source": [
        ""
      ],
      "execution_count": null,
      "outputs": []
    }
  ]
}