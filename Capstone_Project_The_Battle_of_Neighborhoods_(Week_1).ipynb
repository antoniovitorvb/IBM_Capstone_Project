{
  "nbformat": 4,
  "nbformat_minor": 0,
  "metadata": {
    "colab": {
      "name": "Capstone Project - The Battle of Neighborhoods (Week 1).ipynb",
      "provenance": [],
      "authorship_tag": "ABX9TyN5oCJ/HAfVvqYSjwOJOyFR",
      "include_colab_link": true
    },
    "kernelspec": {
      "name": "python3",
      "display_name": "Python 3"
    }
  },
  "cells": [
    {
      "cell_type": "markdown",
      "metadata": {
        "id": "view-in-github",
        "colab_type": "text"
      },
      "source": [
        "<a href=\"https://colab.research.google.com/github/vboastom/Coursera_Capstone/blob/main/Capstone_Project_The_Battle_of_Neighborhoods_(Week_1).ipynb\" target=\"_parent\"><img src=\"https://colab.research.google.com/assets/colab-badge.svg\" alt=\"Open In Colab\"/></a>"
      ]
    },
    {
      "cell_type": "markdown",
      "metadata": {
        "id": "B1jZJsTkdeo0"
      },
      "source": [
        "# IBM Data Science - Professional Certificate\n",
        "## Capstone Projects - Battle of Neighborhoods\n",
        "### Author: Vitor Villas Boas"
      ]
    },
    {
      "cell_type": "code",
      "metadata": {
        "colab": {
          "base_uri": "https://localhost:8080/"
        },
        "id": "3oxllgtfdJaF",
        "outputId": "ddc4c770-7caa-422a-a914-253c1a032b6d"
      },
      "source": [
        "import numpy as np # library to handle data in a vectorized manner\n",
        "import pandas as pd # library for data analsysis\n",
        "import json # library to handle JSON files\n",
        "from geopy.geocoders import Nominatim # convert an address into latitude and longitude values\n",
        "import requests # library to handle requests\n",
        "from pandas.io.json import json_normalize # tranform JSON file into a pandas dataframe\n",
        "\n",
        "# Matplotlib and associated plotting modules\n",
        "import matplotlib.cm as cm\n",
        "import matplotlib.colors as colors\n",
        "\n",
        "from sklearn.cluster import KMeans\n",
        "import folium # map rendering library\n",
        "print('Libraries imported.')"
      ],
      "execution_count": 2,
      "outputs": [
        {
          "output_type": "stream",
          "text": [
            "Libraries imported.\n"
          ],
          "name": "stdout"
        }
      ]
    },
    {
      "cell_type": "code",
      "metadata": {
        "id": "Nj7gaVwugVwJ"
      },
      "source": [
        "CLIENT_ID = 'BRQRODSZVFCG1SGCRV5IBOH3VGD0TDDJUCNTP3HW2Q23XEKE' # your Foursquare ID\n",
        "CLIENT_SECRET = 'OPQVXCAULA3B0SCVMMK1KNEKCXSFMGIE40C4UKTB1IFVGK5Q' # your Foursquare Secret\n",
        "VERSION = '20180604'\n",
        "ACCESS_TOKEN = 'AIMBO2C1MFQ1P03XG3ZI3JRL3Z22MOEHZYOCEMZMYI325RJ4' # your access token to user.id\n",
        "LIMIT = 30"
      ],
      "execution_count": 13,
      "outputs": []
    },
    {
      "cell_type": "code",
      "metadata": {
        "colab": {
          "base_uri": "https://localhost:8080/"
        },
        "id": "8CoJHmtNfI_J",
        "outputId": "7ae85d26-0869-4e04-84b6-6f555509b5e2"
      },
      "source": [
        "!wget -q -O 'newyork_data.json' https://cf-courses-data.s3.us.cloud-object-storage.appdomain.cloud/IBMDeveloperSkillsNetwork-DS0701EN-SkillsNetwork/labs/newyork_data.json\n",
        "print('Data downloaded!')"
      ],
      "execution_count": 3,
      "outputs": [
        {
          "output_type": "stream",
          "text": [
            "Data downloaded!\n"
          ],
          "name": "stdout"
        }
      ]
    },
    {
      "cell_type": "code",
      "metadata": {
        "id": "hhoERaG4fLYH"
      },
      "source": [
        "with open('newyork_data.json') as json_data:\n",
        "    nyc_data = json.load(json_data)"
      ],
      "execution_count": 7,
      "outputs": []
    },
    {
      "cell_type": "code",
      "metadata": {
        "colab": {
          "base_uri": "https://localhost:8080/"
        },
        "id": "jaXwxi1MfRWA",
        "outputId": "4ba4dbc7-472c-4cc9-b8c2-4cff5d76b409"
      },
      "source": [
        "neighborhoods_data = nyc_data['features']\n",
        "neighborhoods_data[0]"
      ],
      "execution_count": 11,
      "outputs": [
        {
          "output_type": "execute_result",
          "data": {
            "text/plain": [
              "{'geometry': {'coordinates': [-73.84720052054902, 40.89470517661],\n",
              "  'type': 'Point'},\n",
              " 'geometry_name': 'geom',\n",
              " 'id': 'nyu_2451_34572.1',\n",
              " 'properties': {'annoangle': 0.0,\n",
              "  'annoline1': 'Wakefield',\n",
              "  'annoline2': None,\n",
              "  'annoline3': None,\n",
              "  'bbox': [-73.84720052054902,\n",
              "   40.89470517661,\n",
              "   -73.84720052054902,\n",
              "   40.89470517661],\n",
              "  'borough': 'Bronx',\n",
              "  'name': 'Wakefield',\n",
              "  'stacked': 1},\n",
              " 'type': 'Feature'}"
            ]
          },
          "metadata": {
            "tags": []
          },
          "execution_count": 11
        }
      ]
    },
    {
      "cell_type": "code",
      "metadata": {
        "id": "cptsDIl5fVvf"
      },
      "source": [
        "# define the dataframe columns\n",
        "column_names = ['Borough', 'Neighborhood', 'Latitude', 'Longitude'] \n",
        "\n",
        "# instantiate the dataframe\n",
        "neighborhoods = pd.DataFrame(columns=column_names)"
      ],
      "execution_count": 12,
      "outputs": []
    },
    {
      "cell_type": "code",
      "metadata": {
        "id": "-ingtr7hgMnp"
      },
      "source": [
        ""
      ],
      "execution_count": null,
      "outputs": []
    }
  ]
}