{
  "nbformat": 4,
  "nbformat_minor": 0,
  "metadata": {
    "colab": {
      "name": "Capstone Project - The Battle of Neighborhoods (Week 1).ipynb",
      "provenance": []
    },
    "kernelspec": {
      "name": "python3",
      "display_name": "Python 3"
    }
  },
  "cells": [
    {
      "cell_type": "markdown",
      "metadata": {
        "id": "B1jZJsTkdeo0"
      },
      "source": [
        "# IBM Data Science - Professional Certificate\n",
        "## Capstone Projects - Battle of Neighborhoods\n",
        "### Author: Vitor Villas Boas"
      ]
    },
    {
      "cell_type": "code",
      "metadata": {
        "colab": {
          "base_uri": "https://localhost:8080/"
        },
        "id": "3oxllgtfdJaF",
        "outputId": "8777f70b-8b67-4438-d76b-d36870e44064"
      },
      "source": [
        "import numpy as np # library to handle data in a vectorized manner\n",
        "import pandas as pd # library for data analsysis\n",
        "import json # library to handle JSON files\n",
        "from geopy.geocoders import Nominatim # convert an address into latitude and longitude values\n",
        "import requests # library to handle requests\n",
        "from pandas.io.json import json_normalize # tranform JSON file into a pandas dataframe\n",
        "\n",
        "# Matplotlib and associated plotting modules\n",
        "import matplotlib.cm as cm\n",
        "import matplotlib.colors as colors\n",
        "\n",
        "from sklearn.cluster import KMeans\n",
        "import folium # map rendering library\n",
        "print('Libraries imported.')"
      ],
      "execution_count": 1,
      "outputs": [
        {
          "output_type": "stream",
          "text": [
            "Libraries imported.\n"
          ],
          "name": "stdout"
        }
      ]
    },
    {
      "cell_type": "code",
      "metadata": {
        "id": "Nj7gaVwugVwJ"
      },
      "source": [
        "CLIENT_ID = '' # your Foursquare ID\n",
        "CLIENT_SECRET = '' # your Foursquare Secret\n",
        "VERSION = '20180604'\n",
        "ACCESS_TOKEN = '' # your access token to user.id\n",
        "RADIUS = 5000\n",
        "LIMIT = 40"
      ],
      "execution_count": 6,
      "outputs": []
    },
    {
      "cell_type": "code",
      "metadata": {
        "id": "8CoJHmtNfI_J"
      },
      "source": [
        "# !wget -q -O 'newyork_data.json' https://cf-courses-data.s3.us.cloud-object-storage.appdomain.cloud/IBMDeveloperSkillsNetwork-DS0701EN-SkillsNetwork/labs/newyork_data.json\n",
        "# print('Data downloaded!')\n",
        "CITY = \"Sao Paulo, SP\"\n",
        "url_SP = \"https://api.foursquare.com/v2/venues/explore?client_id={}&client_secret={}&oauth_token={}&v={}&radius={}&limit={}&near={}\".format(\n",
        "    CLIENT_ID,\n",
        "    CLIENT_SECRET,\n",
        "    ACCESS_TOKEN,\n",
        "    VERSION,\n",
        "    RADIUS,\n",
        "    LIMIT,\n",
        "    CITY)\n",
        "results = requests.get(url_SP).json()"
      ],
      "execution_count": 20,
      "outputs": []
    },
    {
      "cell_type": "code",
      "metadata": {
        "colab": {
          "base_uri": "https://localhost:8080/",
          "height": 162
        },
        "id": "0Q6ADMWa2RSM",
        "outputId": "9c872dba-c8ab-48c7-bf97-da84bae050ab"
      },
      "source": [
        "results['response']['groups']#['reasons']#[0]['items']['reasons']#['venue']"
      ],
      "execution_count": 34,
      "outputs": [
        {
          "output_type": "error",
          "ename": "TypeError",
          "evalue": "ignored",
          "traceback": [
            "\u001b[0;31m---------------------------------------------------------------------------\u001b[0m",
            "\u001b[0;31mTypeError\u001b[0m                                 Traceback (most recent call last)",
            "\u001b[0;32m<ipython-input-34-6225df97d24a>\u001b[0m in \u001b[0;36m<module>\u001b[0;34m()\u001b[0m\n\u001b[0;32m----> 1\u001b[0;31m \u001b[0mresults\u001b[0m\u001b[0;34m[\u001b[0m\u001b[0;34m'response'\u001b[0m\u001b[0;34m]\u001b[0m\u001b[0;34m[\u001b[0m\u001b[0;34m'groups'\u001b[0m\u001b[0;34m]\u001b[0m\u001b[0;34m[\u001b[0m\u001b[0;36m0\u001b[0m\u001b[0;34m:\u001b[0m\u001b[0;36m10\u001b[0m\u001b[0;34m]\u001b[0m\u001b[0;34m[\u001b[0m\u001b[0;34m'reasons'\u001b[0m\u001b[0;34m]\u001b[0m\u001b[0;31m#[0]['items']['reasons']#['venue']\u001b[0m\u001b[0;34m\u001b[0m\u001b[0;34m\u001b[0m\u001b[0m\n\u001b[0m",
            "\u001b[0;31mTypeError\u001b[0m: list indices must be integers or slices, not str"
          ]
        }
      ]
    },
    {
      "cell_type": "code",
      "metadata": {
        "id": "SnQ26n4q4-xp"
      },
      "source": [
        ""
      ],
      "execution_count": null,
      "outputs": []
    },
    {
      "cell_type": "code",
      "metadata": {
        "id": "hhoERaG4fLYH"
      },
      "source": [
        "with open('newyork_data.json') as json_data:\n",
        "    nyc_data = json.load(json_data)"
      ],
      "execution_count": null,
      "outputs": []
    },
    {
      "cell_type": "code",
      "metadata": {
        "colab": {
          "base_uri": "https://localhost:8080/"
        },
        "id": "jaXwxi1MfRWA",
        "outputId": "4ba4dbc7-472c-4cc9-b8c2-4cff5d76b409"
      },
      "source": [
        "neighborhoods_data = nyc_data['features']\n",
        "neighborhoods_data[0]"
      ],
      "execution_count": null,
      "outputs": [
        {
          "output_type": "execute_result",
          "data": {
            "text/plain": [
              "{'geometry': {'coordinates': [-73.84720052054902, 40.89470517661],\n",
              "  'type': 'Point'},\n",
              " 'geometry_name': 'geom',\n",
              " 'id': 'nyu_2451_34572.1',\n",
              " 'properties': {'annoangle': 0.0,\n",
              "  'annoline1': 'Wakefield',\n",
              "  'annoline2': None,\n",
              "  'annoline3': None,\n",
              "  'bbox': [-73.84720052054902,\n",
              "   40.89470517661,\n",
              "   -73.84720052054902,\n",
              "   40.89470517661],\n",
              "  'borough': 'Bronx',\n",
              "  'name': 'Wakefield',\n",
              "  'stacked': 1},\n",
              " 'type': 'Feature'}"
            ]
          },
          "metadata": {
            "tags": []
          },
          "execution_count": 11
        }
      ]
    },
    {
      "cell_type": "code",
      "metadata": {
        "id": "cptsDIl5fVvf"
      },
      "source": [
        "# define the dataframe columns\n",
        "column_names = ['Borough', 'Neighborhood', 'Latitude', 'Longitude'] \n",
        "\n",
        "# instantiate the dataframe\n",
        "neighborhoods = pd.DataFrame(columns=column_names)"
      ],
      "execution_count": null,
      "outputs": []
    },
    {
      "cell_type": "code",
      "metadata": {
        "id": "-ingtr7hgMnp"
      },
      "source": [
        ""
      ],
      "execution_count": null,
      "outputs": []
    }
  ]
}
